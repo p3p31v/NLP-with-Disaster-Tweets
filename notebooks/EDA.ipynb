{
 "cells": [
  {
   "cell_type": "code",
   "execution_count": 23,
   "id": "1c18c472",
   "metadata": {
    "_cell_guid": "b1076dfc-b9ad-4769-8c92-a6c4dae69d19",
    "_uuid": "8f2839f25d086af736a60e9eeb907d3b93b6e0e5",
    "execution": {
     "iopub.execute_input": "2023-01-26T16:56:58.820696Z",
     "iopub.status.busy": "2023-01-26T16:56:58.820210Z",
     "iopub.status.idle": "2023-01-26T16:56:59.900094Z",
     "shell.execute_reply": "2023-01-26T16:56:59.898990Z"
    },
    "papermill": {
     "duration": 1.08987,
     "end_time": "2023-01-26T16:56:59.902126",
     "exception": false,
     "start_time": "2023-01-26T16:56:58.812256",
     "status": "completed"
    },
    "tags": []
   },
   "outputs": [],
   "source": [
    "# Import libraries\n",
    "import numpy as np # linear algebra\n",
    "import pandas as pd # data processing, CSV file I/O (e.g. pd.read_csv)\n",
    "import matplotlib.pyplot as plt\n",
    "import seaborn as sns\n",
    "from wordcloud import WordCloud\n",
    "\n",
    "import os\n",
    "\n",
    "import warnings\n",
    "\n",
    "# Increase width of columns on dataframe\n",
    "pd.set_option('display.max_colwidth', None)\n",
    "# Ignore warnings\n",
    "warnings.filterwarnings('ignore')"
   ]
  },
  {
   "cell_type": "markdown",
   "id": "d97277af",
   "metadata": {},
   "source": [
    "## Data exploration\n",
    "\n",
    "\n",
    "https://www.analyticsvidhya.com/blog/2021/06/eda-exploratory-data-analysis-with-python/\n",
    "https://www.kaggle.com/code/nextbigwhat/eda-for-categorical-variables-a-beginner-s-way\n",
    "https://www.analyticsvidhya.com/blog/2021/07/15-python-built-in-functions-which-you-should-know-while-learning-data-science/?utm_source=reading_list&utm_medium=https://www.analyticsvidhya.com/blog/2015/06/infographic-cheat-sheet-data-exploration-python/\n",
    "https://www.kaggle.com/discussions/getting-started/254970\n",
    "https://www.kaggle.com/code/datark1/eda-images-processing-and-exploration#1.-Images-metadata"
   ]
  },
  {
   "cell_type": "code",
   "execution_count": 24,
   "id": "4605802a",
   "metadata": {},
   "outputs": [
    {
     "data": {
      "text/html": [
       "<div>\n",
       "<style scoped>\n",
       "    .dataframe tbody tr th:only-of-type {\n",
       "        vertical-align: middle;\n",
       "    }\n",
       "\n",
       "    .dataframe tbody tr th {\n",
       "        vertical-align: top;\n",
       "    }\n",
       "\n",
       "    .dataframe thead th {\n",
       "        text-align: right;\n",
       "    }\n",
       "</style>\n",
       "<table border=\"1\" class=\"dataframe\">\n",
       "  <thead>\n",
       "    <tr style=\"text-align: right;\">\n",
       "      <th></th>\n",
       "      <th>id</th>\n",
       "      <th>keyword</th>\n",
       "      <th>location</th>\n",
       "      <th>text</th>\n",
       "      <th>target</th>\n",
       "    </tr>\n",
       "  </thead>\n",
       "  <tbody>\n",
       "    <tr>\n",
       "      <th>0</th>\n",
       "      <td>1</td>\n",
       "      <td>NaN</td>\n",
       "      <td>NaN</td>\n",
       "      <td>Our Deeds are the Reason of this #earthquake May ALLAH Forgive us all</td>\n",
       "      <td>1.0</td>\n",
       "    </tr>\n",
       "    <tr>\n",
       "      <th>1</th>\n",
       "      <td>4</td>\n",
       "      <td>NaN</td>\n",
       "      <td>NaN</td>\n",
       "      <td>Forest fire near La Ronge Sask. Canada</td>\n",
       "      <td>1.0</td>\n",
       "    </tr>\n",
       "    <tr>\n",
       "      <th>2</th>\n",
       "      <td>5</td>\n",
       "      <td>NaN</td>\n",
       "      <td>NaN</td>\n",
       "      <td>All residents asked to 'shelter in place' are being notified by officers. No other evacuation or shelter in place orders are expected</td>\n",
       "      <td>1.0</td>\n",
       "    </tr>\n",
       "    <tr>\n",
       "      <th>3</th>\n",
       "      <td>6</td>\n",
       "      <td>NaN</td>\n",
       "      <td>NaN</td>\n",
       "      <td>13,000 people receive #wildfires evacuation orders in California</td>\n",
       "      <td>1.0</td>\n",
       "    </tr>\n",
       "    <tr>\n",
       "      <th>4</th>\n",
       "      <td>7</td>\n",
       "      <td>NaN</td>\n",
       "      <td>NaN</td>\n",
       "      <td>Just got sent this photo from Ruby #Alaska as smoke from #wildfires pours into a school</td>\n",
       "      <td>1.0</td>\n",
       "    </tr>\n",
       "    <tr>\n",
       "      <th>5</th>\n",
       "      <td>8</td>\n",
       "      <td>NaN</td>\n",
       "      <td>NaN</td>\n",
       "      <td>#RockyFire Update =&gt; California Hwy. 20 closed in both directions due to Lake County fire - #CAfire #wildfires</td>\n",
       "      <td>1.0</td>\n",
       "    </tr>\n",
       "    <tr>\n",
       "      <th>6</th>\n",
       "      <td>10</td>\n",
       "      <td>NaN</td>\n",
       "      <td>NaN</td>\n",
       "      <td>#flood #disaster Heavy rain causes flash flooding of streets in Manitou, Colorado Springs areas</td>\n",
       "      <td>1.0</td>\n",
       "    </tr>\n",
       "    <tr>\n",
       "      <th>7</th>\n",
       "      <td>13</td>\n",
       "      <td>NaN</td>\n",
       "      <td>NaN</td>\n",
       "      <td>I'm on top of the hill and I can see a fire in the woods...</td>\n",
       "      <td>1.0</td>\n",
       "    </tr>\n",
       "    <tr>\n",
       "      <th>8</th>\n",
       "      <td>14</td>\n",
       "      <td>NaN</td>\n",
       "      <td>NaN</td>\n",
       "      <td>There's an emergency evacuation happening now in the building across the street</td>\n",
       "      <td>1.0</td>\n",
       "    </tr>\n",
       "    <tr>\n",
       "      <th>9</th>\n",
       "      <td>15</td>\n",
       "      <td>NaN</td>\n",
       "      <td>NaN</td>\n",
       "      <td>I'm afraid that the tornado is coming to our area...</td>\n",
       "      <td>1.0</td>\n",
       "    </tr>\n",
       "    <tr>\n",
       "      <th>10</th>\n",
       "      <td>16</td>\n",
       "      <td>NaN</td>\n",
       "      <td>NaN</td>\n",
       "      <td>Three people died from the heat wave so far</td>\n",
       "      <td>1.0</td>\n",
       "    </tr>\n",
       "    <tr>\n",
       "      <th>11</th>\n",
       "      <td>17</td>\n",
       "      <td>NaN</td>\n",
       "      <td>NaN</td>\n",
       "      <td>Haha South Tampa is getting flooded hah- WAIT A SECOND I LIVE IN SOUTH TAMPA WHAT AM I GONNA DO WHAT AM I GONNA DO FVCK #flooding</td>\n",
       "      <td>1.0</td>\n",
       "    </tr>\n",
       "    <tr>\n",
       "      <th>12</th>\n",
       "      <td>18</td>\n",
       "      <td>NaN</td>\n",
       "      <td>NaN</td>\n",
       "      <td>#raining #flooding #Florida #TampaBay #Tampa 18 or 19 days. I've lost count</td>\n",
       "      <td>1.0</td>\n",
       "    </tr>\n",
       "    <tr>\n",
       "      <th>13</th>\n",
       "      <td>19</td>\n",
       "      <td>NaN</td>\n",
       "      <td>NaN</td>\n",
       "      <td>#Flood in Bago Myanmar #We arrived Bago</td>\n",
       "      <td>1.0</td>\n",
       "    </tr>\n",
       "    <tr>\n",
       "      <th>14</th>\n",
       "      <td>20</td>\n",
       "      <td>NaN</td>\n",
       "      <td>NaN</td>\n",
       "      <td>Damage to school bus on 80 in multi car crash #BREAKING</td>\n",
       "      <td>1.0</td>\n",
       "    </tr>\n",
       "    <tr>\n",
       "      <th>15</th>\n",
       "      <td>23</td>\n",
       "      <td>NaN</td>\n",
       "      <td>NaN</td>\n",
       "      <td>What's up man?</td>\n",
       "      <td>0.0</td>\n",
       "    </tr>\n",
       "    <tr>\n",
       "      <th>16</th>\n",
       "      <td>24</td>\n",
       "      <td>NaN</td>\n",
       "      <td>NaN</td>\n",
       "      <td>I love fruits</td>\n",
       "      <td>0.0</td>\n",
       "    </tr>\n",
       "    <tr>\n",
       "      <th>17</th>\n",
       "      <td>25</td>\n",
       "      <td>NaN</td>\n",
       "      <td>NaN</td>\n",
       "      <td>Summer is lovely</td>\n",
       "      <td>0.0</td>\n",
       "    </tr>\n",
       "    <tr>\n",
       "      <th>18</th>\n",
       "      <td>26</td>\n",
       "      <td>NaN</td>\n",
       "      <td>NaN</td>\n",
       "      <td>My car is so fast</td>\n",
       "      <td>0.0</td>\n",
       "    </tr>\n",
       "    <tr>\n",
       "      <th>19</th>\n",
       "      <td>28</td>\n",
       "      <td>NaN</td>\n",
       "      <td>NaN</td>\n",
       "      <td>What a goooooooaaaaaal!!!!!!</td>\n",
       "      <td>0.0</td>\n",
       "    </tr>\n",
       "    <tr>\n",
       "      <th>20</th>\n",
       "      <td>31</td>\n",
       "      <td>NaN</td>\n",
       "      <td>NaN</td>\n",
       "      <td>this is ridiculous....</td>\n",
       "      <td>0.0</td>\n",
       "    </tr>\n",
       "    <tr>\n",
       "      <th>21</th>\n",
       "      <td>32</td>\n",
       "      <td>NaN</td>\n",
       "      <td>NaN</td>\n",
       "      <td>London is cool ;)</td>\n",
       "      <td>0.0</td>\n",
       "    </tr>\n",
       "    <tr>\n",
       "      <th>22</th>\n",
       "      <td>33</td>\n",
       "      <td>NaN</td>\n",
       "      <td>NaN</td>\n",
       "      <td>Love skiing</td>\n",
       "      <td>0.0</td>\n",
       "    </tr>\n",
       "    <tr>\n",
       "      <th>23</th>\n",
       "      <td>34</td>\n",
       "      <td>NaN</td>\n",
       "      <td>NaN</td>\n",
       "      <td>What a wonderful day!</td>\n",
       "      <td>0.0</td>\n",
       "    </tr>\n",
       "    <tr>\n",
       "      <th>24</th>\n",
       "      <td>36</td>\n",
       "      <td>NaN</td>\n",
       "      <td>NaN</td>\n",
       "      <td>LOOOOOOL</td>\n",
       "      <td>0.0</td>\n",
       "    </tr>\n",
       "    <tr>\n",
       "      <th>25</th>\n",
       "      <td>37</td>\n",
       "      <td>NaN</td>\n",
       "      <td>NaN</td>\n",
       "      <td>No way...I can't eat that shit</td>\n",
       "      <td>0.0</td>\n",
       "    </tr>\n",
       "    <tr>\n",
       "      <th>26</th>\n",
       "      <td>38</td>\n",
       "      <td>NaN</td>\n",
       "      <td>NaN</td>\n",
       "      <td>Was in NYC last week!</td>\n",
       "      <td>0.0</td>\n",
       "    </tr>\n",
       "    <tr>\n",
       "      <th>27</th>\n",
       "      <td>39</td>\n",
       "      <td>NaN</td>\n",
       "      <td>NaN</td>\n",
       "      <td>Love my girlfriend</td>\n",
       "      <td>0.0</td>\n",
       "    </tr>\n",
       "    <tr>\n",
       "      <th>28</th>\n",
       "      <td>40</td>\n",
       "      <td>NaN</td>\n",
       "      <td>NaN</td>\n",
       "      <td>Cooool :)</td>\n",
       "      <td>0.0</td>\n",
       "    </tr>\n",
       "    <tr>\n",
       "      <th>29</th>\n",
       "      <td>41</td>\n",
       "      <td>NaN</td>\n",
       "      <td>NaN</td>\n",
       "      <td>Do you like pasta?</td>\n",
       "      <td>0.0</td>\n",
       "    </tr>\n",
       "  </tbody>\n",
       "</table>\n",
       "</div>"
      ],
      "text/plain": [
       "    id keyword location  \\\n",
       "0    1     NaN      NaN   \n",
       "1    4     NaN      NaN   \n",
       "2    5     NaN      NaN   \n",
       "3    6     NaN      NaN   \n",
       "4    7     NaN      NaN   \n",
       "5    8     NaN      NaN   \n",
       "6   10     NaN      NaN   \n",
       "7   13     NaN      NaN   \n",
       "8   14     NaN      NaN   \n",
       "9   15     NaN      NaN   \n",
       "10  16     NaN      NaN   \n",
       "11  17     NaN      NaN   \n",
       "12  18     NaN      NaN   \n",
       "13  19     NaN      NaN   \n",
       "14  20     NaN      NaN   \n",
       "15  23     NaN      NaN   \n",
       "16  24     NaN      NaN   \n",
       "17  25     NaN      NaN   \n",
       "18  26     NaN      NaN   \n",
       "19  28     NaN      NaN   \n",
       "20  31     NaN      NaN   \n",
       "21  32     NaN      NaN   \n",
       "22  33     NaN      NaN   \n",
       "23  34     NaN      NaN   \n",
       "24  36     NaN      NaN   \n",
       "25  37     NaN      NaN   \n",
       "26  38     NaN      NaN   \n",
       "27  39     NaN      NaN   \n",
       "28  40     NaN      NaN   \n",
       "29  41     NaN      NaN   \n",
       "\n",
       "                                                                                                                                     text  \\\n",
       "0                                                                   Our Deeds are the Reason of this #earthquake May ALLAH Forgive us all   \n",
       "1                                                                                                  Forest fire near La Ronge Sask. Canada   \n",
       "2   All residents asked to 'shelter in place' are being notified by officers. No other evacuation or shelter in place orders are expected   \n",
       "3                                                                       13,000 people receive #wildfires evacuation orders in California    \n",
       "4                                                Just got sent this photo from Ruby #Alaska as smoke from #wildfires pours into a school    \n",
       "5                          #RockyFire Update => California Hwy. 20 closed in both directions due to Lake County fire - #CAfire #wildfires   \n",
       "6                                         #flood #disaster Heavy rain causes flash flooding of streets in Manitou, Colorado Springs areas   \n",
       "7                                                                             I'm on top of the hill and I can see a fire in the woods...   \n",
       "8                                                         There's an emergency evacuation happening now in the building across the street   \n",
       "9                                                                                    I'm afraid that the tornado is coming to our area...   \n",
       "10                                                                                            Three people died from the heat wave so far   \n",
       "11      Haha South Tampa is getting flooded hah- WAIT A SECOND I LIVE IN SOUTH TAMPA WHAT AM I GONNA DO WHAT AM I GONNA DO FVCK #flooding   \n",
       "12                                                           #raining #flooding #Florida #TampaBay #Tampa 18 or 19 days. I've lost count    \n",
       "13                                                                                                #Flood in Bago Myanmar #We arrived Bago   \n",
       "14                                                                               Damage to school bus on 80 in multi car crash #BREAKING    \n",
       "15                                                                                                                         What's up man?   \n",
       "16                                                                                                                          I love fruits   \n",
       "17                                                                                                                       Summer is lovely   \n",
       "18                                                                                                                      My car is so fast   \n",
       "19                                                                                                           What a goooooooaaaaaal!!!!!!   \n",
       "20                                                                                                                 this is ridiculous....   \n",
       "21                                                                                                                      London is cool ;)   \n",
       "22                                                                                                                            Love skiing   \n",
       "23                                                                                                                  What a wonderful day!   \n",
       "24                                                                                                                               LOOOOOOL   \n",
       "25                                                                                                         No way...I can't eat that shit   \n",
       "26                                                                                                                  Was in NYC last week!   \n",
       "27                                                                                                                     Love my girlfriend   \n",
       "28                                                                                                                              Cooool :)   \n",
       "29                                                                                                                     Do you like pasta?   \n",
       "\n",
       "    target  \n",
       "0      1.0  \n",
       "1      1.0  \n",
       "2      1.0  \n",
       "3      1.0  \n",
       "4      1.0  \n",
       "5      1.0  \n",
       "6      1.0  \n",
       "7      1.0  \n",
       "8      1.0  \n",
       "9      1.0  \n",
       "10     1.0  \n",
       "11     1.0  \n",
       "12     1.0  \n",
       "13     1.0  \n",
       "14     1.0  \n",
       "15     0.0  \n",
       "16     0.0  \n",
       "17     0.0  \n",
       "18     0.0  \n",
       "19     0.0  \n",
       "20     0.0  \n",
       "21     0.0  \n",
       "22     0.0  \n",
       "23     0.0  \n",
       "24     0.0  \n",
       "25     0.0  \n",
       "26     0.0  \n",
       "27     0.0  \n",
       "28     0.0  \n",
       "29     0.0  "
      ]
     },
     "execution_count": 24,
     "metadata": {},
     "output_type": "execute_result"
    }
   ],
   "source": [
    "# Load data from a CSV file into a DataFrame\n",
    "df_train = pd.read_csv('../input/nlp-getting-started/train.csv')\n",
    "df_test = pd.read_csv('../input/nlp-getting-started/test.csv')\n",
    "# Concatenate both training and test data\n",
    "data = pd.concat([df_train, df_test]).reset_index(drop=True)\n",
    "data.head(30)"
   ]
  },
  {
   "cell_type": "code",
   "execution_count": 25,
   "id": "e1728365",
   "metadata": {},
   "outputs": [
    {
     "name": "stdout",
     "output_type": "stream",
     "text": [
      "<class 'pandas.core.frame.DataFrame'>\n",
      "RangeIndex: 10876 entries, 0 to 10875\n",
      "Data columns (total 5 columns):\n",
      " #   Column    Non-Null Count  Dtype  \n",
      "---  ------    --------------  -----  \n",
      " 0   id        10876 non-null  int64  \n",
      " 1   keyword   10789 non-null  object \n",
      " 2   location  7238 non-null   object \n",
      " 3   text      10876 non-null  object \n",
      " 4   target    7613 non-null   float64\n",
      "dtypes: float64(1), int64(1), object(3)\n",
      "memory usage: 425.0+ KB\n"
     ]
    }
   ],
   "source": [
    "# Fetch the general information\n",
    "data.info()"
   ]
  },
  {
   "cell_type": "code",
   "execution_count": 26,
   "id": "8d60b3c1",
   "metadata": {},
   "outputs": [
    {
     "data": {
      "text/plain": [
       "target\n",
       "0    4342\n",
       "1    3271\n",
       "Name: count, dtype: int64"
      ]
     },
     "execution_count": 26,
     "metadata": {},
     "output_type": "execute_result"
    }
   ],
   "source": [
    "# Count unique values in a column \n",
    "df_train['target'].value_counts()"
   ]
  },
  {
   "cell_type": "code",
   "execution_count": 27,
   "id": "b98c1d74",
   "metadata": {},
   "outputs": [
    {
     "data": {
      "image/png": "[encoded data removed]",
      "text/plain": [
       "<Figure size 2000x600 with 1 Axes>"
      ]
     },
     "metadata": {},
     "output_type": "display_data"
    }
   ],
   "source": [
    "# Check if data is balanced\n",
    "plt.figure(figsize=(20, 6))\n",
    "ax = sns.countplot(x=df_train[\"target\"])\n",
    "ax.set_title(\"Target\", fontsize=20)\n",
    "plt.show()"
   ]
  },
  {
   "cell_type": "code",
   "execution_count": 28,
   "id": "64fa4388",
   "metadata": {},
   "outputs": [
    {
     "name": "stdout",
     "output_type": "stream",
     "text": [
      "id             0\n",
      "keyword       61\n",
      "location    2533\n",
      "text           0\n",
      "target         0\n",
      "dtype: int64\n"
     ]
    }
   ],
   "source": [
    "# Print missing values\n",
    "print(df_train.isnull().sum())"
   ]
  },
  {
   "cell_type": "markdown",
   "id": "2a957dfa",
   "metadata": {},
   "source": [
    "Note: location and keywords info is missing "
   ]
  },
  {
   "cell_type": "code",
   "execution_count": 29,
   "id": "2511f308",
   "metadata": {},
   "outputs": [
    {
     "data": {
      "text/plain": [
       "222"
      ]
     },
     "execution_count": 29,
     "metadata": {},
     "output_type": "execute_result"
    }
   ],
   "source": [
    "# Check the number of unique keywords\n",
    "len(data['keyword'].unique())"
   ]
  },
  {
   "cell_type": "code",
   "execution_count": 30,
   "id": "67e0d8fa",
   "metadata": {},
   "outputs": [
    {
     "data": {
      "text/plain": [
       "array([nan, 'ablaze', 'accident', 'aftershock', 'airplane%20accident',\n",
       "       'ambulance', 'annihilated', 'annihilation', 'apocalypse',\n",
       "       'armageddon', 'army', 'arson', 'arsonist', 'attack', 'attacked',\n",
       "       'avalanche', 'battle', 'bioterror', 'bioterrorism', 'blaze',\n",
       "       'blazing', 'bleeding', 'blew%20up', 'blight', 'blizzard', 'blood',\n",
       "       'bloody', 'blown%20up', 'body%20bag', 'body%20bagging',\n",
       "       'body%20bags', 'bomb', 'bombed', 'bombing', 'bridge%20collapse',\n",
       "       'buildings%20burning', 'buildings%20on%20fire', 'burned',\n",
       "       'burning', 'burning%20buildings', 'bush%20fires', 'casualties',\n",
       "       'casualty', 'catastrophe', 'catastrophic', 'chemical%20emergency',\n",
       "       'cliff%20fall', 'collapse', 'collapsed', 'collide', 'collided',\n",
       "       'collision', 'crash', 'crashed', 'crush', 'crushed', 'curfew',\n",
       "       'cyclone', 'damage', 'danger', 'dead', 'death', 'deaths', 'debris',\n",
       "       'deluge', 'deluged', 'demolish', 'demolished', 'demolition',\n",
       "       'derail', 'derailed', 'derailment', 'desolate', 'desolation',\n",
       "       'destroy', 'destroyed', 'destruction', 'detonate', 'detonation',\n",
       "       'devastated', 'devastation', 'disaster', 'displaced', 'drought',\n",
       "       'drown', 'drowned', 'drowning', 'dust%20storm', 'earthquake',\n",
       "       'electrocute', 'electrocuted', 'emergency', 'emergency%20plan',\n",
       "       'emergency%20services', 'engulfed', 'epicentre', 'evacuate',\n",
       "       'evacuated', 'evacuation', 'explode', 'exploded', 'explosion',\n",
       "       'eyewitness', 'famine', 'fatal', 'fatalities', 'fatality', 'fear',\n",
       "       'fire', 'fire%20truck', 'first%20responders', 'flames',\n",
       "       'flattened', 'flood', 'flooding', 'floods', 'forest%20fire',\n",
       "       'forest%20fires', 'hail', 'hailstorm', 'harm', 'hazard',\n",
       "       'hazardous', 'heat%20wave', 'hellfire', 'hijack', 'hijacker',\n",
       "       'hijacking', 'hostage', 'hostages', 'hurricane', 'injured',\n",
       "       'injuries', 'injury', 'inundated', 'inundation', 'landslide',\n",
       "       'lava', 'lightning', 'loud%20bang', 'mass%20murder',\n",
       "       'mass%20murderer', 'massacre', 'mayhem', 'meltdown', 'military',\n",
       "       'mudslide', 'natural%20disaster', 'nuclear%20disaster',\n",
       "       'nuclear%20reactor', 'obliterate', 'obliterated', 'obliteration',\n",
       "       'oil%20spill', 'outbreak', 'pandemonium', 'panic', 'panicking',\n",
       "       'police', 'quarantine', 'quarantined', 'radiation%20emergency',\n",
       "       'rainstorm', 'razed', 'refugees', 'rescue', 'rescued', 'rescuers',\n",
       "       'riot', 'rioting', 'rubble', 'ruin', 'sandstorm', 'screamed',\n",
       "       'screaming', 'screams', 'seismic', 'sinkhole', 'sinking', 'siren',\n",
       "       'sirens', 'smoke', 'snowstorm', 'storm', 'stretcher',\n",
       "       'structural%20failure', 'suicide%20bomb', 'suicide%20bomber',\n",
       "       'suicide%20bombing', 'sunk', 'survive', 'survived', 'survivors',\n",
       "       'terrorism', 'terrorist', 'threat', 'thunder', 'thunderstorm',\n",
       "       'tornado', 'tragedy', 'trapped', 'trauma', 'traumatised',\n",
       "       'trouble', 'tsunami', 'twister', 'typhoon', 'upheaval',\n",
       "       'violent%20storm', 'volcano', 'war%20zone', 'weapon', 'weapons',\n",
       "       'whirlwind', 'wild%20fires', 'wildfire', 'windstorm', 'wounded',\n",
       "       'wounds', 'wreck', 'wreckage', 'wrecked'], dtype=object)"
      ]
     },
     "execution_count": 30,
     "metadata": {},
     "output_type": "execute_result"
    }
   ],
   "source": [
    "# Print unique keywords\n",
    "data['keyword'].unique()"
   ]
  },
  {
   "cell_type": "markdown",
   "id": "8c3eec84",
   "metadata": {},
   "source": [
    "Note: keywords may need cleaning"
   ]
  },
  {
   "cell_type": "code",
   "execution_count": 31,
   "id": "3b6655ff",
   "metadata": {},
   "outputs": [
    {
     "data": {
      "text/plain": [
       "keyword\n",
       "ablaze                   50\n",
       "lava                     50\n",
       "loud%20bang              50\n",
       "mass%20murder            50\n",
       "massacre                 50\n",
       "                         ..\n",
       "forest%20fire            24\n",
       "threat                   16\n",
       "radiation%20emergency    14\n",
       "inundation               14\n",
       "epicentre                13\n",
       "Name: count, Length: 221, dtype: int64"
      ]
     },
     "execution_count": 31,
     "metadata": {},
     "output_type": "execute_result"
    }
   ],
   "source": [
    "# Count a number of unique values for every keyword \n",
    "data['keyword'].value_counts()"
   ]
  },
  {
   "cell_type": "markdown",
   "id": "cdefe01a",
   "metadata": {},
   "source": [
    "Note: disasters connected with water, fire, earthquakes, radiation - natural disasters\n",
    "Conclusion: may need Topic Modelling with BERT for short-length text to identify areas  "
   ]
  },
  {
   "cell_type": "code",
   "execution_count": 32,
   "id": "b24f7da5",
   "metadata": {},
   "outputs": [
    {
     "data": {
      "text/plain": [
       "4522"
      ]
     },
     "execution_count": 32,
     "metadata": {},
     "output_type": "execute_result"
    }
   ],
   "source": [
    "# Count the num of locations\n",
    "len(data['location'].unique())"
   ]
  },
  {
   "cell_type": "code",
   "execution_count": 33,
   "id": "706ebd24",
   "metadata": {},
   "outputs": [
    {
     "name": "stdout",
     "output_type": "stream",
     "text": [
      "[nan, 'Birmingham', 'Est. September 2012 - Bristol', 'AFRICA', 'Philadelphia, PA', 'London, UK', 'Pretoria', 'World Wide!!', 'Paranaque City', 'Live On Webcam', 'milky way', 'GREENSBORO,NORTH CAROLINA', 'England.', 'Sheffield Township, Ohio', 'India', 'Barbados', 'Anaheim', 'Abuja', 'USA', 'South Africa', 'Sao Paulo, Brazil', 'hollywoodland ', 'Edmonton, Alberta - Treaty 6', 'Inang Pamantasan', 'Twitter Lockout in progress', 'Concord, CA', 'Calgary, AB', 'San Francisco', 'CLVLND', 'Nashville, TN', 'Santa Clara, CA', 'UK', 'St. Louis, MO', 'Walker County, Alabama', 'Australia', 'North Carolina', 'Norf Carolina', 'San Mateo County, CA', 'Njoro, Kenya', \"Your Sister's Bedroom\", 'Arlington, TX', 'South Bloomfield, OH', 'New Hanover County, NC', 'Maldives', 'Manchester, NH', 'Wilmington, NC', 'global', 'Alberta | Sask. | Montana', 'Charlotte', 'Baton Rouge, LA', 'Hagerstown, MD', 'Gloucestershire , UK', 'Nairobi, Kenya', 'Instagram - @heyimginog ', '304', 'Switzerland', 'US', 'Somewhere Only We Know ?', 'Belgium', 'dope show', 'Oshawa, Canada', 'Baker City Oregon', 'United States', 'marysville ca ', 'Hermosa Beach, CA', '19.600858, -99.047821', 'Pennsylvania', 'Salt Lake City, Utah', 'Palo Alto, CA', 'Spain but Opa-Locka, FL', 'Jaipur, India', 'Hyderabad Telangana INDIA', 'Eagle Pass, Texas', 'bangalore', 'Financial News and Views', 'Indonesia', 'y(our) boyfriends legs ', 'New Mexico, USA', 'Somewhere Out There', 'Mumbai india', 'sri lanka', 'Not a U.S resident', 'Lehigh Valley, PA', 'Canada', 'Thrissur', 'Havenford', '92', 'Israel', 'Fashion Heaven. IG: TMId_', 'San Francisco, CA', 'italy', 'nyc', 'Toronto', 'Jackson', 'New York / Worldwide', 'New Orleans, LA', 'West Wales', 'Happily Married with 2 kids ', 'Cambridge, MA', 'Arizona ', 'Mumbai', 'Amsterdam', 'Swindon,England ', 'Williamstown, VT', 'North Carolina, USA', 'Karachi', 'Loveland Colorado', '|| c h i c a g o ||', 'L. A.', 'VISIT MY YOUTUBE CHANNEL.', 'Lexington', 'Hannover, Germany', 'Playa', 'Davidson, NC', 'Higher Places', 'Horsemind, MI', 'New York, NY', 'Boksburg', 'V-RP @OZRP_ ?MV, AU, R18+?', 'Greater Manchester, UK', 'Boston', 'The Canopy Kingdom', 'the own zone layer ', 'London', 'Trancy Manor', 'South 37', 'West Lancashire, UK.', 'PA', '\\x89Û¢ Views From The Six \\x89Û¢', 'University of Toronto', 'Swaning Around', 'Albany/NY', 'California, USA', 'Wild Wild Web', 'Subconscious LA', 'Spain', 'CA physically- Boston Strong?', 'Yeezy Taught Me , NV', 'Rock Hill, SC', 'Coolidge, AZ', 'Republic of Texas', 'Phoenix, AZ', 'Ljubljana, Slovenia', 'Connecticut', 'Tacoma,Washington', 'BIG D  HOUSTON/BOSTON/DENVER', 'Chandler, AZ', 'ColoRADo', 'sindria', 'Texas', 'Elk Grove, CA, USA', 'The Shire', 'Austin, TX', 'Oakland', 'Albuquerque', 'Buenos Aires, Argentina', 'San Antonio-ish, TX', 'Oregon, USA', 'Harlingen, TX', 'Buffalo NY', 'Las Vegas', 'Tokyo', 'California, United States', '#FLIGHTCITY UK  ', 'Alphen aan den Rijn, Holland', 'Wrigley Field', 'probably the strip club', 'England', 'New York City', 'Here And There', 'Rotterdam, Zuid-Holland', 'Derry, 17 ', 'Nowhere. Everywhere.', 'Florida, USA', 'Worldwide', 'East Coast', 'California', 'Toronto, ON', 'The Orwellion police-state', 'Castaic, CA', 'Helsinki, Finland', 'East Kilbride', 'middle eastern palace', 'Kent', 'Perthshire ', 'twitch.tv/naturalemblem26', 'cyprus', 'Memphis, TN', 'Studio', 'Hollywood, CA', 'New York', 'Pakistan', 'Mexico! ^_^', 'Campinas Sp', 'Harlem, New York', 'Washington, DC', 'Burbank,CA', '? ', 'Spokane, Washington', 'Charlotte, NC', 'Our Empire State', 'Jerusalem', 'Kingston, Pennsylvania', 'Milwaukee, WI', 'Zero Branco', 'bajaur', 'Eldoret, kenya', '\\x89ÛÊ\\x89ÛÊ\\x89ÛÊ', 'Miami,FL', 'Los Angeles, CA', 'North-East Region, Singapore', 'Chicago', 'EARTH ', 'Jerusalem, Israel', 'Menasha, WI', 'ss', 'Atlanta', 'Earth', 'Bleak House', 'heccfidmss@gmail.com', 'toronto', '[ Blonde Bi Fry. ]', 'America', 'NYC :) Ex- #Islamophobe', 'SF Bay Area', 'Orange County, California', 'Winston Salem, North Carolina', 'Adelaide, South Australia', 'WASHINGTON,DC', ' snapchat // fvck_casper ', 'Dallas, TX', 'NYC', 'Location', 'Selena | Britney | Hilary', 'Ireland', 'Freeport IL. USA', 'Dubai', 'Tucson, Az', 'Seattle WA', 'Bellevue NE', 'West Bank, Gaza Strip', '\\x89Û¢FLG\\x89Û¢', 'Scotland, United Kingdom', 'Online 24/7. Not even kidding.', 'rowyso dallas ', 'Halton, Ontario', 'portland, oregon', 'FIMAK A.S Ist Bolge Muduru', 'London.', '#UNITE THE BLUE  ', 'Dayton, Ohio', 'Global', 'ph', 'Port Jervis, NY', 'City Of Joy', 'Texas, USA', '1/3 of the blam squad ', 'CCH ', 'atx', 'MAURITIUS', 'AKRON OHIO USA', 'london / st catharines ?', 'Peshawar', 'LEALMAN, FLORIDA', '#GDJB #ASOT', 'Groningen, Netherlands, Europe', 'Livingston, IL  U.S.A.', 'Arundel ', 'Anna Maria, FL', 'israel', 'The Hammock, FL, USA', '??????????????????', 'SÌ£o Paulo SP,  Brasil', \"in Dimitri's arms\", 'Oslo, Norway', 'Los Angeles', 'Loughton, Essex, UK', 'guaravitas', 'Score More Goals Buying @', 'NEW YORK', 'London, Kent & SE England.', 'Score Team Goals Buying @', 'South Central Wales', 'Jersey City, New Jersey', 'Denver, CO', 'Brasil', 'Buy Give Me My Money ', '505 W. Maple, Suite 100', 'Philippines', 'Freeport il ', 'World', 'Danville, VA', 'UK Great Britain ', 'Jerusalem!', 'San Jose, CA', 'Use #TMW in tweets get #RT', 'Utah', 'Wisconsin', 'West Richland, WA', 'CHICAGO (312)', 'Washington D.C.', 'NC', 'West Virginia, USA', 'British girl in Texas', 'Silver Spring, MD', 'Atlanta, GA', 'Manhattan, NY', 'Wilmington, DE', 'Memphis', 'iTunes', 'Oxford, MS', 'Pelham, AL', 'Jacksonville, FL', 'Arkansas, Jonesboro', 'Across the Atlantic', 'Melbourne, Florida', 'Over the Moon...', 'Extraterrestrial Highway', 'Espoo, Finland', 'Washington, D.C., area', 'OES 4th Point. sisSTAR & TI', 'Sydney, New South Wales', 'Netherlands,Amsterdam-Virtual ', 'Hudson Valley, NY', 'timeline kamu', 'Budapest, Hungary', 'Searching for Bae ', 'Eagle Mountain, Texas ', 'Columbus', 'Temecula, CA', 'Atlanta,Ga', 'Fresno, CA', 'Raleigh Durham, NC', 'ducked off . . . ', 'Rio de Janeiro', '302', 'Columbus, OH', 'Mo.City', 'Tripsburg, ms.', 'Durham N.C ', 'Delhi', 'ARIZONA', 'Penn Hills, PA', 'Karachi ', 'seattle wa', 'SOUTHERN CALIFORNIA DESERT', 'Gotham City', 'My contac 27B80F7E 08170156520', 'Pig Symbol, Alabama', 'Intramuros, Manila', 'THE WORLD T.G.G / M.M.M ', 'Between the worlds ', 'State of Georgia', 'Your screen', 'Lima-Peru', 'worldwide', 'Saltillo, Coahuila de Zaragoza', 'Suitland', 'Everywhere', 'Konoha', 'Swag Francisco', 'Saint Marys, GA', 'Nigeria', 'Essex/Brighton', 'Pennsylvania, PA', 'Rockford, IL', 'AZ', 'Vero Beach , FL', 'IN', 'In the middle of no where', 'Baltimore, MD', 'dmv ?? fashion school @ KSU. ', 'Nice places ', 'Quantico, VA', 'Island Lake, IL', 'Live Oak, TX', 'Gages Lake, IL', 'Madisonville TN', 'Basketball City, USA ', 'AEP', 'Alberta Pack', '#expelcl*y', 'My heart is a ghost town!', 'The Great State of Texas', 'Alicante, Valencia', 'Greensboro, NC', ' Indiana', 'the local dump', 'Seattle', '#SOUTHAMPTON ENGLAND', '?205?478?', 'Waterford MI', 'Iowa, USA', 'va', 'Florida', 'california mermaid ? ', 'New York ? ATL', 'USA/SO FLORIDA via BROOKLYN NY', 'H / pez & sophia ', 'Brooklyn, NY', 'Queens, NY', 'Vancouver, BC.', 'Ottawa, Canada', 'wherever the $$$ at', 'Purgatory, USA', 'Calgary, Alberta', 'Kama | 18 | France ', 'Sydney', 'Maryland, USA', 'Daruka (near Tamworth) NSW', 'IJmuiden, The Netherlands', 'University Heights, Ohio', 'Central Illinois', 'Baton Rouge', 'PSN: Pipbois ', 'Colombo,Sri Lanka.', 'Johannesburg, South Africa ', \"Me mammy's belly\", 'UK & Ibiza', 'Laventillemoorings ', 'Scotland', 'Vancouver, BC', 'Cleveland, OH', 'Detroit, MI, United States', 'Guelph Ontario Canada', 'Waterfront', 'columbus ohio', 'Waukesha, WI', 'Himalayan Mountains', 'Colorado/WorldWide', 'Ontario Canada', 'Houston,  TX', 'lakewood colorado', 'THE 6IX', 'Washington, USA', 'The ?? below ???', 'Ideally under a big tree', \"Conversing In Janet's CafÌ¬\", \"???????, ??'??????\", \"Dime's Palace\", 'Cairo, Egypt', 'Seattle, WA', 'Bug Forest', 'canberra', 'International', 'The World', 'Htx', 'PunPunlÌ¢ndia', '???', 'Itirapina, SÌ£o Paulo', 'North Jersey', 'Ewa Beach, HI', 'Biloxi, Mississippi', 'Buenos Aires', 'Brecksville, OH', 'Walthamstow, London', 'Malaysia', 'Ivano-Frankivsk', 'Sunshine Coast, Queensland', 'England,UK,Europe,Sol 3.', 'Nashua NH', 'Leicester', '65', 'Westchester', 'Lynnfield, MA', 'Level 3 Garrison, Sector G', 'Singapore', 'Glasgow', 'Shity land of Northern Ireland', 'Christchurch New Zealand', 'peekskill. new york, 10566 ', 'PH', 'Storybrooke ', 'under the blanket', 'Isolated City In World Perth', 'Brazil ', 'AUS', 'Santa Cruz, CA', 'Inverness, Nova Scotia', 'L/S/Z/L/T/H/C/H/R/A/S/C', 'Oklahoma', '801 SL,UT', 'fluffy cloud', 'The 5th Dimension. ', 'Georgia', 'July 11th, 2015. ?', 'The Grey Area', 'St Paul, MN', 'Cobblestone', 'ÌÏT: 30.307558,-81.403118', 'Cosmic Oneness', 'Guildford, UK', 'Nowhere Islands/Smash Manor', 'kisumu', 'Making Worldwide Change Near U', 'ATX', 'LA/OC/Vegas', 'London/Outlaw Country ', 'Grimsby, England', 'Gotham', 'Manchester, The World, England', 'sitting on Eddie Vedders lap,', 'Missouri, USA', 'Greenville,SC', 'Paignton', 'have car; will travel', 'ATL ? SEA ', 'ÌÏT: 39.982988,-75.261624', '#EngleWood CHICAGO ', '302???? 815', 'New Your', 'PURPLE BOOTH STUDIO\\x89ã¢', 'Cloud 9', 'Former Yugoslav Republic of Macedonia', '3?3?7?SLOPelousas??2?2?5?', '316', \"#WhereverI'mAt\", 'Huber Heights, OH', 'Miami ??', 'Houston, TX', 'Every where', \"401 livin'\", 'MI', 'EPTX', 'Austin, Texas', 'Oklahoma City', 'CA', 'United Kingdom', 'WESTSIDE OF PHILLY 7? BLOCK??', 'Charlotte NC', 'LONG ISLAND, NY', 'washington, d.c.', 'WAISTDEEP, TX', 'D.C. - Baltimore - Annapolis', '#937??#734', 'Fife, WA', 'Bushkill pa', 'In the Shadows...', 'southwest, Tx', 'ANYWEHERE !!', 'Menlo Park. SFO. The World.', 'Speaking the Truth in Love', 'Aarhus, Central Jutland', 'Lincoln, NE', 'wny', 'Bolton & Tewkesbury, UK', \"travelling to tae's pants\", 'keli x', 'Manchester', 'Knoxville, TN', 'ChicagoRObotz', \"whs '17\", 'NV', 'lagos nigeria', 'Edmonton, Alberta', '[Gia.] | #KardashianEmpire', 'Sunrise Manor, NV', 'Oxford, OH', 'Odawara, Japan', 'Chicago, IL', 'Des Moines, IA', 'Dundas, Ontario', 'IDN', 'Netherlands', 'DaKounty, Pa', 'DÌ_sseldorf, Germany', 'Old Blighty', '??', 'The land of New Jersey. ', 'Atlanta Georgia', 'MY RTs ARE NOT ENDORSEMENTS', 'Kabul, Tuebingen, Innsbruck', 'Light and dark, form and void', 'Nairobi, Kenya ', 'Erbil', 'Stockton on tees Teesside UK', 'Screwston, TX', 'My old New England home', 'melbourne', 'Cape Town', 'Ikeja, Nigeria', 'Warwick, RI @Dollarocracy also', 'texas a&m university', 'MA', 'Shipwreck Cove', 'Sydney, Australia', 'WorldWide', 'Overland Park, KS', 'SWMO', 'Puerto Rico', 'Toronto-Citizen of Canada & US', 'Silicon Valley', 'North East USA', 'Washington, D.C.', 'VitÌ_ria (ES)', 'New Delhi, Delhi', 'Buscame EL tu Melte', 'Wiltshire', 'PROUD INDIANS', 'Mumbai , India', 'Pittsburgh PA', 'MUM-DEL', 'Leeds, England', 'Playa del Carmen, Mexico', 'NY, CT & Greece', 'Mackay, QLD, Australia', 'Quincy MA', 'NJ', 'Madison, GA', 'KurveZ@GearHeadCentral.net', 'St Charles, MD', 'Denver, Colorado', 'Ziam af ', 'GO BLUE! HAIL YES!!', 'Outside The Matrix, I Think.', 'In Hell', 'Epic City, BB.', 'somewhere over a rainbow', 'Selma2Oakland', 'Bombardment Bay', 'Savannah, GA', 'dallas', 'New Orleans ,Louisiana', 'England, United Kingdom', 'Dublin City, Ireland', 'New Hampshire', 'World Wide', 'Intermountain West', 'Tulsa, Oklahoma', 'Auburn, AL', 'taken by piper curda', 'Scotland ', 'Nigeria, Global', 'Fort Walton Beach, Fl', 'Sweden', 'Groton, CT', 'Brisbane Australia', 'NY Capital District', 'Peoria', 'Reading UK', 'Concord, NH ', 'CORNFIELDS', 'Worcester, MA', 'Roanoke, VA', 'nj', 'MA via PA', 'Boston, MA', 'Oklahoma City, OK', 'toronto \\x89Û¢ dallas', 'San Diego CA', 'germany', 'Massachusetts', ' Nxgerxa', 'Erie, PA', 'Port Charlotte, FL', 'Belleville, Illinois', 'Alabama', 'Long Island NY & San Francisco', 'Gainesville, FL', 'Oakland, CA', '956', 'Escondido, CA', 'DC', 'Chicago Area', 'Upper St Clair, PA', 'Cherry Creek Denver CO', '627', 'Blogland', 'mumbai', 'Isle of Man', 'Hampton Roads, VA', 'Gameday', 'Earthling (For now!)', 'Black Canyon New River, AZ', 'Caracas, Venezuela.', 'NY', 'Charlottetown', 'Paradise, NV', '??t?a', 'LiÌ¬ge', 'Spokane, Washington 99206', 'taco bell', 'Australian Capital Territory', 'http://www.amazon.com/dp/B00HR', '[ kate + they/them + infp-t ]', 'Sacramento, CA', 'please H? ?:??', 'we?it \\x89Û¢ ixwin', 'Santiago Bernabeau', 'y/e/l', 'Whiterun, Skyrim', 'Greenpoint, Brooklyn', 'Victoria, British Columbia', 'a botanical garden probably', 'Nelspruit, South Africa', 'midwest', 'Copenhagen, Capital Region of Denmark', 'Spying on your thoughts', 'seattle grace mercy death', 'Tucson, Arizona ', 'Charlotte County Florida', 'Head Office: United Kingdom', 'Mid north coast of NSW', 'iPhone: -27.499212,153.011072', 'Queen Creek AZ', 'Jamaica', 'Trinidad and Tobago', 'Melbourne Australia', 'The Internet & NYC', 'London/Bristol/Guildford', 'Canberra, Australian Capital Territory', 'beacon hills ', 'somewhere outside', 'Wolmers Trust School for Boys ', 'Loughborough.', 'Selangor', 'indiana', 'Bronx, New York', 'Canadian bread', \"Le Moyne '16\", 'Hoxton, London', 'Las Vegas, NV USA', 'Heinz Field ', 'Skyport de la Rosa', 'The Low-Cal Calzone Zone', 'Brooklyn, New York', '50% Queanbeyan - 50% Sydney', 'Insula Barataria', 'everywhere ', 'Afghanistan, USA', 'Inglewood, CA', 'Absecon, NJ', 'Williamsbridge, Bronx, New Yor', 'Northern Kentucky, USA', 'Mostly Yuin.', 'Nairobi', 'Rochelle, GA', 'London UK', 'south of heaven ', 'El Dorado, KS', 'Santa Monica, CA', 'Kenya', '1648 Queen St. West, Toronto.', 'Toledo, OH', 'Fairfield, California', 'Trinity, Bailiwick of Jersey', 'Virginia', 'LIVERPOOL', 'Boulder, CO', 'Hospital, bc of SKH vid.', 'Hartford  London Hong Kong', \"In @4SkinChan 's arms\", 'Massachusetts, USA', 'Kansas City, MO', 'Wellington, New Zealand', '?? ??', 'los angeles, ca', 'New Brunswick, NJ', 'City of Angels, CA', 'Morganville, Texas.', 'America | New Zealand ', 'Stockholm, Sweden', 'Azeroth', \"Lytham St Anne's \", 'Ylisse', 'Portugal', 'All around the world baby', '@UntmdOutdoors #T.O.R.K ', 'Lima, PerÌ¼', 'Piedmont Area, North Carolina', 'Buxton, Venice, and Nottingham', 'Quito, Ecuador.', 'Inexpressible Island ', ' Bouvet Island', 'Shirley, NY', 'Planet Earth', 'Paonia, Colorado ', 'Portland, OR', 'Dublin, Ireland', 'Lurking', 'N?? Y???.', 'Littleton, CO, USA', 'Virginia, United States', 'Center for Domestic Preparedness', 'Ukraine and Ireland', 'Welt', 'Wales', 'Seattle, Washington', 'Beaumont, TX', 'Annapolis, MD', 'Las Vegas, Nevada', 'Harris County, Texas', 'Tyler, TX', 'Evanston, IL', 'North Ferriby, East Yorkshire', 'Colombia', 'Ames, Iowa', 'Moscow, Russia', 'Jersey City, NJ', 'Mankato, MN', 'Orbost, Victoria, Australia', ' Somewhere.', ' Neverland ', 'London, England', 'At Da Laundry Mat Wit Nivea ', 'norway', '$ad $hawty', 'NY || live easy? ', 'BestCoast', 'BC', 'Abuja, Nigeria', 'Colchester Essex ', 'livin life in the 610', 'Suplex City', 'Inside your mind.', '36 & 38', 'Sydney Australia', 'Lagos, Nigeria', 'New York, NY ', 'Slappin and Smackin ', \"DRAW A CIRCLE THAT'S THE EARTH\", 'Madrid, Comunidad de Madrid', 'The Netherlands', 'Highland Park, CA', 'Swan River', 'Kolkata, India', 'Melrose', 'Jubail IC, Saudi Arabia', 'Sugarhouse, UT', 'lugo', 'Chicago, Illinois', 'Blackpool, England, UK.', 'San Jose, California', 'Fakefams', 'In the clouds...', 'Sandton, South Africa', 'Nigeria ', '#Bummerville otw', 'Europe', 'Brighton and Hove', 'Pompano Beach, FL', 'JKT48-Muse-A7X', 'Behind The Obama Curtain', 'Worldwide.', 'LiVE MÌ\\x81S', 'Henderson, NV', 'CAMARILLO, CA', 'manchester, uk.', 'Eugene, Oregon', 'they/her', 'Paris ', '(he/him)', 'Kingston, Jamaica', 'Spokane, WA', \"I'm standing behind you\", 'Alexandria, Egypt.', 'instagram- Chloe_Bellx', 'on the web', 'San Francisco Bay Area', '#ForeverWithBAP 8 ', 'GOT7SupportPH', 'wherever-the-fuck washington', 'From NY. In Scranton, PA', 'Perth, Western Australia', 'Live mÌÁs', 'Melton, GA', \"Greg's place\", 'Viejo', 'Kansas, The Free State! ~ KC', 'Silang, Cavite / ParaÌ±aque', 'Fort Smith, AR', 'planeta H2o', 'www.youtube.com?Malkavius2', 'Michigan', 'The Forever Girl', 'EspÌ_rito Santo', 'New York, USA', 'Ormond By The Sea, FL', 'Maryland,Baltimore', 'Pennsylvania, USA', 'Houston, Texas', 'Yadkinville, NC', 'Medford, NJ', 'Dallas, Texas. ', 'Roanoke VA', 'Unnamed City', 'Peterborough, On', '-6.152261,106.775995', \"@protectingtitan's side.\", 'Oregon', 'Eau Claire, Wisconsin', 'St. Joseph, Minnesota', 'From a torn up town MANCHESTER', 'Waco TX', 'Tennessee', 'Cape Cod, Massachusetts USA', 'bk. ', 'Lansing, Michigan', 'Peterborough, Ont.', 'Johannesburg, South Africa', 'On the court ', 'Traverse City, MI', 'See the barn of bleakness', 'Hertfordshire ', 'ÌÏT: 41.252426,-96.072013', 'California ', 'Greeley, CO', \"'soooota\", 'Sacramento', 'Ontario, Canada', 'NY, NY', 'Arvada, CO', 'Maryland', 'Vancouver, Colombie-Britannique', 'Irving , Texas', 'Riverside, CA', 'SEATTLE, WA USA', 'USA , AZ', 'East Atlanta, Georgia', 'Saint Lucia', 'Peterborough, Ontario, Canada', 'Colorado', 'North Highlands, CA', 'Vancouver', '60th St (SS)', 'USA, WA', 'btwn a rock and a hard place', 'Aix-en-Provence, France', 'Liverpool', 'I-75 in Florida', '21.462446,-158.022017', 'Melbourne, Australia', 'Darlington', '  Melbourne, Australia', 'Kenton, Ohio', 'Galatians 2:20 ', 'Charleston, SC', 'Lancaster, Pennsylvania, USA', 'In my own world!!!', 'Definitely NOT the stables', 'Cuernavaca, Morelos, MÌ©xico.', 'Va Beach, Virginia', '52.479722, 62.184971', 'The Pig Sty', 'Bangor, Co.Down', 'Weston super mare', 'Victoria, Tx.', 'Pakistan, Islamabad', 'Gujranwala, Pakistan', 'Lindenhurst', 'Islamabad', 'Somewhere', 'too far', 'Kingswinford', 'i love the smurfs 2', 'International ', \"Viterbo BFA Acting '18\", 'Kaneohe', 'Houma La', \"EastAtlanta ??#WestGeorgia'18\", 'San Antonio, TX', 'Cleveland, Ohio', 'San Diego, Texas.', 'GLOBAL', '05/04/2014 18:23 ?', 'Bolivar, MO', 'taking pain like pleasure', 'San Fransokyo', 'Washington, DC NATIVE', 'Miami, FL', 'w. Nykae ', 'honeymoon avenue', 'Toronto, Worldwide ', '11/4/14', \"wherever there's netflix\", '#HAMont', 'U.K.', 'online ', 'Conroe, TX', 'Ontario, Canada. ', 'Guayaquil', 'bahstun/porta reeko', 'Bucks County, Pa', 'Sunny South florida ', 'Rio', 'Neverland', 'Trinidad & Tobago', 'Chicago - Lake Buena Vista', 'Toronto, Ontario', 'Liberty Lake, WA', 'Ankara - Malatya - ad Orontem', 'antioch, california', 'State College, PA', 'somewhere in cali ', 'Im Around ... Jersey', 'Garden Grove', 'Adelaide, Australia', 'BKI-KUA', 'urÌ£nus', 'Illinois, USA', 'A.A.S my Aztec Princess', 'turner fenton', 'KLA,Uganda', 'Uganda', '253', 'Elkhart, IN', 'Pon Di Gully', 'Benedict College', 'HTX', 'IM LOST ', 'Miami', 'Hamilton, ON', 'Des Moines, Iowa ', 'Rural Northern Nevada', 'Republic of the Philippines', 'Philippines ', 'hyderabad', 'Vancouver (HQ) and worldwide', 'Quezon City, Philippines', 'Geneva', 'Hartford,  connecticut', 'Sioux Falls, SD', 'Cornwall', 'Beside Basketball', 'Rome, Italy', 'Tafekop Ga-Matsepe', 'Melbourne', 'Vilnius', 'Made in America', 'PS4, now stop asking', 'Cheshire. London. #allover', 'Bartholomew County, Indiana', 'U.S', 'My mind is my world', 'Catskills', 'Columbia, SC', 'Right here', 'Lawrence, KS via Emporia, KS', 'http://twitch.tv/jcmonkey', 'Unknown', 'Marysville, MI', 'New Haven, Connecticut', 'Austin | San Diego', '??? ?? ??????? ', 'Pontevedra, Galicia', 'Somewhere in the Canada', 'London/New York', '261 5th Avenue New York, NY ', 'Rockville, Maryland', 'Your Conversation', 'USAoV', 'Bhopal, Madhya Pradesh, India.', '#LemonGang ', 'ayr', 'Loughborough, England', 'Killarney', 'Lahar & Gwalior', 'Atlanta Georgia ', 'Lincoln, IL', 'Spinning through time.', 'Hailing from Dayton ', 'Newcastle Upon Tyne, England', 'Instagram: trillrebel_', 'ALWAYS DYING NEVER RESTING', '2005 |-/', 'Uruguay / Westeros / Gallifrey', 'Jersey - C.I', 'Afghanistan', 'Orlando, FL', 'Atmosphere', 'somewhere in Portugal', 'South Stand', 'dundalk ireland', 'Sochi, KDA, RU', 'ÌÏT: -26.695807,27.837865', \"You're not 19 forever   \", 'Kettering, OH', \"Spare 'Oom\", 'Milton Keynes ', 'ATL??AL??', 'UPTOWN ', 'PROV', 'Novi, MI', 'on the go', 'The UK', 'mpls. ', 'Kensington, MD', 'Buffalo/DC', 'Sylacauga, Alabama', 'To The Right of You!', 'Cyprus', 'kansas', 'Los Angeles,CA, USA', 'Carry On Jutta!!!', 'Home of the Takers.', 'New York, New York', '?s????ss? a?????', 'Alicante, Spain', 'Mooresville, NC', 'Mooseknuckle, Maine', 'Palermo, Sicily', 'AsunciÌ_n-PY / TÌ_bingen-GER', 'Voorhees, NJ', 'Wakanda', 'Lagos', 'Does it really matter!', 'Edinburgh', 'Weyburn', \"UGA '15 Alumnus - Economics \", 'Blackpool', 'the void, U.S.A', 'london town..', 'Tennessee/Gallifrey', 'Amman, Jordan', 'Columbia Heights, MN', 'Top Secret', 'ÌÏT: 10.614817868480726,12.195582811791382', 'Top secret bunker ', 'Belbroughton, England', '772 Temperance Permenence', '46.950109,7.439469', 'In the Shadows', 'Campo Grande-MS', 'nbc washington', 'Hamilton, Ontario Canada', 'Dubai, United Arab Emirates', 'Hong Kong', 'Berlin, Germany', 'IRAQ', 'Tampa, FL', 'World news', 'Bristol, UK', 'labuan, malaysia', 'right next to you', 'CT ? NYC', 'www.tmgcgart.com', 'Brisbane', 'Melbourne-ish', '617-BTOWN-BEATDOWN', 'Brackley Beach, PE, Canada', '518', 'Nottingham, England', 'eARth 3', 'Enniscrone & Aughris, Sligo ', 'Mostly Wellington, NZ ', 'Atlanta, Ga', 'Fort Fizz, Ohio', 'Fort Lauderdale, FL', 'Raleigh (Garner/Cleveland) NC', 'Newcastle upon Tyne', 'walking the tightrope', 'Frascati', 'College Station, TX', 'Bishops Lydeard, England', 'Karachi, Pakistan', 'Up a hill', 'Clearwater, FL', 'Wellington', '#????? Libya#', 'Newcastle', 'balvanera', 'Aro Diaspora', 'Nigeria, WORLDWIDE', 'ÌÏT: 0.0,0.0', 'Eastbourne England', 'State of Dreaming', 'Wema building', 'Port Harcourt, Nigeria', 'Fruit Bowl', 'Hooters on Peachtree', 'Otsego, MI', 'MAD as Hell', 'ATL, GA', 'Uyo, Akwa Ibom State, Nigeria', 'us-east-1a', 'RhodeIsland', 'Napa, CA', 'KOLKATA', 'golborne, north west england.', 'NYHC', 'sweden', 'ARBAILO', 'Bagalkote Karnataka ', 'Shrewsbury', 'Terre Haute, IN', 'NH via Boston, MA', 'Glasgow, Scotland', 'QUEENS.', 'ATL ??', '???????????', 'Beautiful British Columbia', '????', 'Birmingham UK', 'Medford, Oregon', 'Catalonia, Spain', 'Kilkenny', 'Paterson, New Jersey ', 'Lisbon, Portugal', 'Halifax, Nouvelle-Ìäcosse', 'Murray Hill, New Jersey', 'aggressive cannoli eater ', '11202', '??????', 'Atlantic, IA', 'ÌÏT: 36.142163,-95.979189', 'Arthas US', 'Funtua, Nigeria', 'everywhere', 'US-PR', 'Buffalo, NY', 'San Jose', 'ÌøåÀå_T: 40.736324,-73.990062', ' Road to the Billionaires Club', 'Washington, DC 20009', 'Washington, Krasnodar (Russia)', 'Nairobi-KENYA', 'at my home', 'District of Gentrification/ DC', 'Washington, D.C. ', 'U.S.A', '#MadeInNorthumberland', 'Jamshedpur, Jharkhand', 'eritrean', 'Dayton, OH', 'Dorset, United Kingdom', 'A small federal enclave', 'Pune, mostly ', 'Kwara, Nigeria', 'The Desert of the Real', 'lee london', 'Anchorage, AK', 'DC, frequently NYC/San Diego', 'Enterprise, Alabama', 'åø\\\\_(?)_/åø', 'Washington DC / Nantes, France', 'Washington, DC & Charlotte, NC', 'Kalamazoo, Michigan', 'SEC Country', \"L'Enfant Plaza Metro Station\", 'Durban, South Africa', 'Alexandria, VA', 'Texas-USA\\x89ã¢ ?', 'Arlington, VA and DC', 'Headed To The Top', 'Mumbai (India)', 'Coimbatore', 'Chicago, IL 60607', 'Palo Alto, California', 'Chicagoland', 'New Delhi', 'Minneapolis,MN,US', 'Chicago, IL ', 'NYC area', 'Philadelphia, PA ', 'Chicago,Illinois', 'ÌÏT: 33.209923,-87.545328', 'Lahti, Finland', 'Here there and everywhere', 'the insane asylum. ', 'Macclesfield', 'Michigan, USA', 'Boulder', 'Temporary Towers', 'Pueblo, CO', 'Birmingham, UK', 'Houston, Texas ! ', 'North East, England', '[marvel\\x89Û¢dragon age\\x89Û¢wicdiv]', 'NBO', 'Lagos Nigeria', 'St. Louis Mo.', 'Birdland, New Meridian, FD', 'Arizona', 'Monterrey, MÌ©xico', 'infj ', 'on twitter', '2B Hindhede Rd, Singapore', 'Kalimantan Timur, Indonesia', 'Prehistoric Earth', 'san gabriel la union', 'Manila, Philippines', 'Middle Earth / Asgard / Berk', 'Quilmes , Arg', 'Richmond, VA', 'Istanbul', 'Romania', 'Chile', '???????? ?????????.', 'Virginia, USA', 'San Diego, CA', 'Johannesburg ', 'Japan', 'Honduras', 'Alvin, TX', 'Wilbraham, MA', 'Jerseyville, IL', 'The Citadel, Oldtown, Westeros', 'Trackside California', 'New England', 'he/him or she/her (ask)', 'Some pum pum', 'Paulton, England', 'Norway', 'Thailand', 'SEA Server', 'todaysbigstock.com', 'buenos aires argentina', 'everydaynigerian@gmail.com', 'Surulere Lagos,Home Of Swagg', 'MontrÌ©al, QuÌ©bec', 'Montreal', 'ÌÏT: 6.4682,3.18287', 'Live4Heed??', 'Waco, Texas', 'North Port, FL', 'BodÌü, Norge', 'Boise, Idaho', 'In my studio', 'Queens New York', 'Cuttack, Orissa', 'Patra-Greece.', 'All Around the World', 'Valle Del Sol', 'Georgia, USA', 'New York NYC', 'Hickville, USA', 'Silesia, Poland', 'Moscow', 'Balikesir - Eskisehir', 'Manchester, England', '??????? ??????? ????????', 'Soul Somalia/Body Montreal', 'Manchester, UK', 'Yooooooo', 'Jersey', 'ÌÏT: 19.123127,72.825133', 'denver colorado', 'Morioh, Japan', 'Milton/Tallahassee', 'Paname City', 'Winston-Salem, NC', 'KÌ¦ln, Nordrhein-Westfalen', 'Broomfield, CO', 'Brasil,SP', 'Ottawa,Ontario Canada', 'Memphis,TN/ World Wide', 'In My Lab Creating ', 'Bronx NYC / M-City NY', 'Bikini bottom', 'back in japan ??????????', \"Sharkatraz/Bindle's Cleft, PA\", 'Northern Ireland', 'Bangalore. India', 'Bangkok Thailand', 'Brisbane.', 'PG Chillin!', 'REPUBLICA DOMINICANA', 'FOLLOWS YOU everywhere you go', '-?s?s?j??s-', 'Indonesia\\n', 'The Meadow', 'Bournemouth', 'Brum/Lestah ', 'Dorset, UK', 'Chester ', 'Banbridge', 'Port Orange, FL', 'probably petting an animal', 'Varies ', 'ACCRA GHANA', 'St Joseph de Beauce', 'Wasington, DC', 'uk', '  News', 'Newport, Wales, UK', 'iTunes - RSS', 'contactSimpleNews@gmail.com', 'Upper manhattan, New York', 'Vancouver BC', 'Devon/London ', 'ITALY', 'Atlanta g.a.', 'EVERYWHERE', 'Washington DC', 'Mount Vernon, NY', 'Jackson TN', 'Los Angeles, London, Kent', 'USA, Haiti, Nepal', 'Portoviejo-Manabi-Ecuador', 'chillin at ceder rapids', 'en el pais de los arrechos', 'Hinton, W.Va.', 'Philadelphia, PA USA', 'Naperville', 'Lima, Peru', 'In Your Notifications ', 'Fort Worth, Texas', 'Dappar (Mohali) Punjab', 'los angeles', 'nearest trash can ', 'USA ', 'Los Angeles, California', 'Morocco', 'Pedophile hunting ground', 'U.S.', 'Visit our  dedicated website @', 'Asia Pacific   ', 'Ojodu,Lagos', 'Kelowna, BC', '48.870833,2.399227', 'UK  & Germany', 'Manila', 'Magnolia', '(Spain)', 'new york', 'Palestine ', 'Na:tinixw / Hoopa, Berkeley', 'USA (Formerly @usNOAAgov)', 'Chappaqua NY and Redlands CA', 'NYC-LA-MIAMI', 'Okanagan Valley, BC', 'Caribbean', 'San Francisco , CA', 'Las Cruces, NM', 'Meereen ', 'Football Field', 'i luv raquel', 'austin, texas', 'Philadelphia', 'Macon, Georgia', 'Ashxjonespr@gmail.com', 'miami', 'Abuja,Nigeria', 'At Work', 'Waialua, Hawaii', 'Coconut Creek, Florida', 'icon: cheese3d', '@notoriousD12', 'Morris, IL', 'Lynwood, CA', 'Where the money at', 'mi', 'Gainesville/Tampa, FL', 'Saint Louis, Missouri', \"it's a journey \", 'Jonesboro, Arkansas USA', 'Layang-Layang, Perak', 'somewhere in Indiana ', 'Inside your webcam. Stop that.', \"R'lyeh, South Pacific\", 'taking bath do not disturb', 'Alberta, VA', 'The Howling', 'United Kingdom,Fraserburgh', 'WorldWideWeb', 'Dreieich, Germany', 'Pembroke NH', 'Bayonne, NJ', 'Colorado Springs', 'IG: AyshBanaysh', 'fl', 'Halfrica', 'Jacksonville Beach, FL', 'Richmond Heights, OH', 'U.S.A. - Global Members Site', 'Tampa', 'All around the world!', 'In The Mansion', 'Numa casa de old yellow bricks', 'Coventry', '94123', 'Hendersonville, NC', 'New Jersey/ D.R.', 'CT & NY', 'scandinavia', 'South Korea GMT+9', 'Hughes, AR', 'Madison, WI', 'University of Chicago', 'yorkshire\\n', 'Coasts of Maine & California', 'Pittsburgh ', 'San Diego, California', 'Idaho', 'Beirut, Lebanon', 'El Paso, Texas', 'qosqo', 'Lubbock, TX', 'CA via Brum', \"Lizzy's Knee\", 'D(M)V  ', 'Marrakech MÌ©dina, Marrakech - Tensift - Al Haouz', 'Ellensburg to Spokane', 'SD |Norway| KSA', 'A sofa', '\\x89Û¢5\\x89Û¢12\\x89Û¢14\\x89Û¢ | åÈ#SaviourSquadåÇ', 'Pocatello, ID', 'Room 234', 'Near Yosemite', 'The Harbinger.', 'chicago', 'Dutch/English/German', 'ARGENTINA', 'oklahoma', 'One World', 'Desde Republica Argentina', 'TÌÁchira - Venezuela', 'a box', 'Barcelona, Spain', 'Hawaii, USA', 'New Zealand', 'Alaska, USA', 'Okuma Town, Fukushima', 'rzl ?', 'Orm', 'in the Word of God', '#keepthefaith J&J', 'Global Edition', 'world', 'Saline, MI', 'Here.', 'BOT ACCOUNT', '#otrakansascity', 'Dalkeith, Scotland', 'Durand, MI', 'Forging my Story', 'Mass', '14/cis/istj ', 'Michigan ', \"where I'm supposed to be\", 'Kutztown, PA', 'Cairo, Egypt.', 'Karachi Pakistan', 'not so cool KY', 'Hampshire UK', 'Oblivion?', 'South West, England', '?????', 'Redondo Beach, CA', 'Newcastle, England', 'Planet Eyal, Shandral System', 'Mumbai, Maharashtra', 'Columbus ?? North Carolina', 'Phoenix', 'denmark', 'Davao City', 'Based out of Portland, Oregon', 'Kuwait', 'Wildomar, CA', 'buhh', 'Indianapolis, IN', 'We are global!', 'Adelaide', 'University of Limerick', 'Sacae Plains', 'Southern Maine', 'Five down from the Coffeeshop', 'Renfrew, Scotland', 'Kuala Lumpur, Malaysia', 'Antioch, CA ', 'Alexandria, VA, USA', 'Reddit', 'Bakersfield, CA', 'Calgary, Alberta, Canada', 'Nagpur', 'Surrey & Manchester', 'Calgary,AB, Canada', 'Calgary', 'Fort Myers, Florida', 'Im In Route ', 'Kansas City', 'North Hastings Ontario', 'U.S. Northern Virginia', 'M!$$!$$!PP!', 'Indiana', 'Cochrane, Alberta, Canada', 'Leduc, Alberta, Canada', 'Chapel Hill, NC', '204, 555 11 Ave. S.W.', 'Augusta, GA', 'Torrance, CA', 'USA, Alabama', 'Olympia, WA', 'CA, AZ & NV', 'British Columbia, Canada', 'Auckland', 'Orange County, NY', 'Henderson, Nevada', 'Vancouver, British Columbia', 'Nevada, USA', 'Alaska', 'Whippany, NJ', 'Kodiak, AK', 'Birmingham, England', 'Park Ridge, Illinois', 'Fredonia,NY', 'Glendale, CA', 'Kuwait ', 'Fleet/Oxford, UK', 'Bahrain', '@ ForSL/RP', 'Rochester, NY', 'Nevada (wishing for Colorado)', 'Kokomo, In', 'london', 'Kenosha, WI 53143', 'London/Surrey ', 'San Diego', 'CLT', 'Africa', 'Cydia', 'Tallahassee Florida', 'Waterloo, Ont', '17-Feb', 'New Britain, CT', 'Chevy Chase, MD', 'LA - everywhere', \"wrapped arnd hyuk's finger\", 'Sevier County.', 'Rochester', 'Gold Coast, Qld, Australia', 'Nashville', 'FLYEST HIPPIE YOU KNOW ', 'An eight-sided polygon', 'Konoha Village', 'St. Catharines, Ontario', '//??//', \"FSC '19\", '\\x89Û¢901\\x89Û¢', 'Gold Coast', 'Portland, Oregon', 'Portland, Ore. ', 'North West England UK', 'Midwest', 'Manchester UK', 'TV5, Philippines', 'Hackney, London', 'Queensland, Australia', 'Harpurhey, Manchester, UK', 'Benton City, Washington', 'Chicago, but Philly is home', 'Breaking News', 'seoul', 'WA State', 'Hensley Street, Portland', 'MIchigan', 'West', 'Gold Coast, Australia', 'Washington', 'Eureka, California, USA', 'Bend, Oregon', 'Minna, Nigeria', 'EIU  Chucktown/LaSalle IL', 'Northern California U.S.A.', 'Yellowknife, NT', 'sydney, australia', 'ÌÏT: 43.631838,-79.55807', 'Yellowknife', 'US: 44.414510,8.942499', 'Tri-Cities, Wash.', 'The Empire/First Order', 'Brisbane, Queensland', 'Moncton, New Brunswick', ' |IG: imaginedragoner', 'London / Berlin / Online', 'Williamsburg, VA', 'emily | helen | shelley ', 'New Orleans, Louisiana', 'Yamaku Academy, Class 3-4', 'Spring Grove, IL', 'The Windy City', 'Bloomington, IN', 'Whitby, ON', 'Kajang ? UiTM Puncak Alam', '? Philly Baby ?', 'Cleveland, TN', 'they/them', 'my deli', 'Winnipeg', 'Trost District', '?????? in Yokohama Japan', 'LFC x GSW', 'Elmwood Park, NJ', 'South east of U.K', 'lrhcthband;four - bournemouth', 'Oakland, Ca', 'Antigua ?? NYC ', 'zboyer@washingtontimes.com', 'Wonderland\\x89ÛÓ ?????? ???? ??????', 'elizabeth king', 'Germany', 'London, United Kingdom', 'Chicago Heights, IL', 'S.F. Bay area', ' Blood Indian Reserve', 'On the toilet having a dump ', 'City of London, London', 'Long Island, NY', 'Palestine Texas', 'Kauai, Hawaii', 'East London. ', 'Rhode Island', 'Jammu and Kashmir', 'canada', 'Terlingua, Texas', 'Somewhere in Jersey', 'Stay Fly?', 'india', 'Orlando, Fl', 'Bakersfield, California', 'Los Angeles... CA... USA', 'Florida but I wanna be n Texas', 'Kyiv, Ukraine', 'JamDung', 'PanamÌÁ ', 'Earth, Milky Way, Universe', 'Edappally,Kochi', 'In #Fairie, where else? ;-)', 'Ukraine', '???? ???????', 'Rogersville, MO', 'Telangana', 'Chatham, IL', 'Charter Member of the VRWC', 'Wood Buffalo, Alberta', 'Nakhon Si Thammarat', 'Somewhere with Clyde', 'Quincy', 'Varanasi', 'Laredo, TX', 'Thane', 'New South Wales, Australia', 'Poconos', 'Haddonfield, NJ', 'Southern California', 'Jaipur, Rajasthan, India', '??? ???? ??????', 'Bangalore', 'Also follow ?', 'Play For Ryan ??', 'Dimapur', 'In the potters hands', 'New York City ,NY', 'Corpus Christi, Texas', 'Wolverhampton/Brum/Jersey', 'Chamblee, Georgia', 'Official Website', '#WashingtonState #Seattle', 'TechFish ', \"United States where it's warm\", 'Hope Road, Jamaica ', 'jersey ', 'WestEnd, Puritan Ave ', 'Youngstown, OH', 'Nantes, France', \"St. John's, NL, Canada\", 'Caserta-Roma, Italy ', 'Pekanbaruå¡Batam Islandå¡Medan', 'oman muscat al seeb ', 'Jogja, Indonesia Slowly Asia', 'Avon, OH', 'The North', 'Just Happy to Be Anywhere', 'Lima, Ohio', 'Lowell, MA', 'playing soccer & eating pizza', 'Hueco Mundo', 'Boston \\x89Û¢ Cape Cod ?', 'Rafael castillo', 'New Jersey', 'Fort Wayne, IN', 'Enterprise, NV', '434', 'Grand Rapids MI', 'New York ', 'Utica NY', 'Nunya', 'Houston, TX  ', 'TX', 'Christiana,Tennessee', 'Bishops Stortford, England', 'Earth ', 'Brentwood, NY', 'Chippenham/Bath, UK', 'Yewa zone', 'sitting on the fence, New York', 'Carregado', 'Largo, MD', 'mexico', 'Cape Town, Khayelitsha', 'Stanford University', 'Midwestern USA', 'Bedford IN ', 'Thibodaux, LA', 'Brazil', 'In the moment', 'Alliston Ontario', 'SaudI arabia - riyadh ', 'New York. NY', 'Athens - Nicosia', 'Bremerton, WA', 'Tulalip, Washington', 'Halifax', 'Hilton Head, SC  ', 'SÌ£o Paulo', '2 high 2 come down ', 'Wrex', 'big boy \\x89Û¢ 0802', 'Brooklyn', 'St.Cloud, MN', 'on a catwalk somewhere', '  å_ ', 'Zac Newsome loves me', 'louisville, kentucky', 'Makai', 'Fort Valley,GA/Fayetteville,AR', 'Newark, NJ', 'the road to success', 'The Desert', 'Yuba City, CA', 'University of South Florida', 'the moon', 'Niagara Falls, Ontario', 'Woodcreek HS, Roseville, CA', 'Here & There', 'District 12 - Orange County', \"Plain O' Texas\", 'SouthEast Asia', 'Saipan, CNMI', 'Orange County, Calif.', 'lost in my thoughts', 'Orange County, CA', 'Tallahassee, FL', 'Laguna Beach, Calif. ', ' Nevada Carson City,Freeman St', 'LA ??', 'Aracaju - Sergipe', 'Nashville, Tennessee', 'Long Eaton åá Derbyshire åá UK', 'Portage, IN / Worldwide', 'Victoria, BC  Canada', 'Roads/Trails Everywhere', 'Liberty Township, Ohio', 'Aberdeenshire', 'A Hoop Somewhere', 'Bloomington, Indiana', 'Basking Ridge, NJ', 'Stalybridge, Tameside', 'Franklin, TN near Nashville', 'St. Louis, Missouri', 'Bandung', 'Louisville, KY ', 'Freeport Ny', '650/559', 'dreamy lake', 'houstn', 'hell', 'Asheville, NC', \"St. Patrick's Purgatory\", '@cockerelshoes', 'manaus', 'Sioux Falls, S.D. ', 'Republica Dominicana', 'Eastlake, OH', 'Hillsville/Lynchburg, VA', 'Some where', 'Travelling around the world ', ' 616 \\x89Û¢ Kentwood , MI ', '? Jet Life ?', 'Fairy Tail! ', 'Santo Domingo Alma Rosa ', 'Somewhere Around You', 'Houston |??| Corsicana', 'Cincinnati, OH', 'Bacon', 'Some other mansion', 'Astley, Manchester', 'Bow, NH', 'Frome, Somerset, England', 'Mars', 'Melbourne, Victoria', 'Essex, England', 'new york, ny', 'somewhere too cold for me', 'Leeds', 'Wahpeton, ND', 'Chorley, Lancashire, UK', 'Northampton, MA', 'Ventura', 'Le Memenet', 'Lubbock, Texas', 'Derby', 'Mississauga, Ontario', 'Delhi ', 'Keighley, England', 'Pomfret/Providence', 'East Lansing, MI', 'Rocketing through the galaxy', 'boston', 'Warrandyte, Australia', 'Aix-en-Provence/Utrecht', 'Van Buren, MO', 'Hawaii USA', 'Waddesdon', 'Rock Springs, WY', 'Vietnam', 'Tampa-St. Petersburg, FL', 'Huntsville, Alabama', 'Nova Scotia, Canada', 'Metro Manila', \"Jakarta/Kuala Lumpur/S'pore\", 'I ACCEPT SONG REQUESTS', 'Honolulu, Hawaii', 'Miami Beach, Fl', 'Huntsville AL', \"don't run\", 'West Midlands', 'Global-NoLocation', 'Ocean City, NJ', 'belleville', 'Kualar Lumpur, Malaysia', 'Nadiad ,Gujarat , India!!', 'South of D.C.', 'Adventist - Lesson Sabbath', 'Passamaquoddy', '\\x89Û¢III.XII.MMXI\\x89Û¢', 'Sherwood, Brisbane, Australia', 'Estados Unidos', 'Timaru District, New Zealand', 'Cameroon', 'St Austell, Cornwall', 'Ogba, Lagos, Nigeria', 'North America', 'PDX', 'Shelby County', 'port matilda pa', 'Concord, N.C.', 'Redding, California, USA', 'Slatina,Romania', 'Los Angeles for now', '????????????', 'Western Washington', 'alberta, canada', 'Montana ', 'Cape Cod', 'Nicola Valley', 'Tips on my blog at', 'Duncan', 'Texas ', 'Based in CA - Serve Nationwide', 'Lansdale,Pennsylvania', 'Carol Stream, Illinois', 'Calgary/Airdrie/RedDeer/AB', 'Hattiesburg, MS', 'Arkansas', 'Dagenham, Essex', 'Inside the Beltway (DC Area)', 'Windsor,Ontario', 'Brasil, Fortaleza ce', 'Paradise City', 'Rapid City, South Dakota', 'antoine fisher ', 'Between Dire and Radiant', 'Bay Area, CA', 'Watch Those Videos -', 'Ab, Canada', 'Newton Centre, Massachusetts', 'Kicking Horse Pass', 'far away', 'Suginami-ku, Tokyo, Japan', 'Washington State', 'Somewhere ', 'Heaven', 'Calgary, Canada', 'Virgo Supercluster', 'facebook.com/tradcatknights', 'Wyoming, MI (Grand Rapids)', 'Iliff,Colorado  ', 'Dicky Beach', 'Not Los Angeles, Not New York.', 'Calgary, AB, Canada', ' Queensland, Australia', 'Cleveland, OH - San Diego, CA', 'The barn', 'where the wild things are', '?semekeepschanging@soyeh?', 'i love you zayn', 'WORLD WIDE', 'England ', 'Sumter, SC', \"Someday I'll live in England. \", 'Hogsmeade', '5/5 access / rt link please x', 'å_: ?? ÌÑ ? : ?', '10-Jul', 'The South & WestCoast ', 'Hogwarts', '?@symbolicjensen?', 'Contoocook Valley Region of Ne', 'Alameda, CA', 'Lancashire, United Kingdom', 'a van down by the river', 'NIFC', 'Giddy, Greenland', 'Roppongi, Minato, Tokyo ', 'Pleasanton, CA', 'Portsmouth, VA', \"Dil's Campsite\", 'ilford', 'Nashville, Tn', 'SWinfo@dot.state.al.us', 'Far Away From Home', 'Muntinlupa City, Philippines', 'Mysore, Karnataka', 'Fort Worth,  Texas ', 'Greenfield, Massachusetts', 'London, Riyadh', 'Crayford, London', 'Arnhem, the Netherlands', 'Pacific Northwest', 'Somewhere in Spain', 'Jackson, MS', 'Frisco, TX', 'Malaysia/Jordan', 'Somewhere out there', 'International Action', 'Planet of da Bathing Apes', 'Maricopa, AZ', 'liverpool ', 'Albuquerque New Mexico', 'New York Brooklyn', 'Nebraska, Colorado & The GLOBE', 'Rheinbach / Germany', 'Riyadh', 'jeddah | Khartoum', 'United Hoods of the Globe', 'Jubail IC, Saudi Arabia.', '?????? ??? ?????? ????????', 'Right next to Compton', '11th dimension, los angeles', '570 Vanderbilt; Brooklyn, NY', '??????????? ???????????..? ', '?????? ???? ??????', 'Silvermoon or Ironforge', 'Charleston, WV', 'Benicia, CA ', \"Riyadh ')\", 'Houston TX', 'Innerhalb der LÌ_cke', 'eating strawberry shitsickles', 'Near Richmond, VA', 'Kolkata', 'am everywhere', 'Miami, Florida', 'NIGERIA', 'Louisville, KY', 'Sarasota, FL', 'Washington state', 'Fort Collins, CO', 'West Chester, PA', 'Free State, South Africa', 'Fresno, California', 'RSN: Tru', 'El Paso, TX', 'South Pasadena, CA', 'perth, australia ', 'Mongolia', 'brisbane, australia', 'China', 'Chiyoda Ward, Tokyo', 'rome', 'Athens,Greece', 'EastCarolina', 'IN our hearts  Earth Global ', 'France', 'tokyo', 'china', 'between ideas & 3-5pm AEST', 'Zimbabwe', 'Starling City', 'The Great State of Maine ', 'Glenview to Knoxville ', 'Roaming around the world', 'Cape Neddick, ME', 'Mariveles, Bataan', 'ÌÏT: 40.562796,-75.488849', 'Melbourne, FL', 'New Chicago', 'Australia ', 'Victorville, CA', ' Eugene, Oregon', 'THANJAVUR', 'Las Vegas, NV', 'Cumming, GA', 'westwestwestwestwestwestwest', 'NYC metro', 'Heathrow', 'OK', 'Tampa, Fl', 'TonyJ@Centralizedhockey.com', 'Pune, Maharashtra', 'cuba', 'Rocky Mountains', 'Brazos Valley, Texas', 'The Universe', '#BlackLivesMatter', ' Miami Beach', '#1 Vacation Destination,HAWAII', 'Haiku, Maui, Hawaii', 'NAWF SIDE POKING OUT ', 'Berlin - Germany', 'Vineyard', '@potteratthedisc', 'Anderson, SC', 'The Epicenter, and Beyond', 'Books Published, USA', '??? ??? ????? ??? ???.', 'Somewhere Powerbraking A Chevy', 'Mexico City', 'The Globe', 'Chicopee MA', 'Srinagar,Kashmir', 'DFW, Texas', 'Piedmont Triad, NC', 'MD', ' Tropical SE FLorida', 'Ikorodu', 'Lucknow, India', 'Doghouse', 'someplace living my life', 'Bronx NY', 'World Wide Web', 'Centurion ', 'Avon', 'Orlando,FL  USA', 'North London', 'come here in 20 minutes for an ass kicking', 'Emirates', 'Milton Keynes, England', 'Scottsdale. AZ', 'Saskatchewan, Canada', 'North West London', 'Rockland County, NY', 'Atlantic Highlands, NJ', 'Sutton, London UK', 'Alameda and Pleasanton, CA', 'Madison, WI & St. Louis MO', 'Bay Area', 'California or Colorado', 'Mesa, AZ', 'Carterville', 'Corpus - Las Vegas - Houston', 'Spring Tx', 'Georgia, U.S.A.', 'Riverview, FL ', 'beijing .China', 'Somewhere in China.', 'Peru', 'Cambridge, Massachusetts', 'Lahore', 'Saint Paul', 'Shah Alam,Malaysia', 'Dubai, UAE', 'ÌÏT: 35.223347,-80.827834', 'Plano, Texas', 'mnl', 'Louisiana', 'Nairobi , Kenya', 'Russia', 'Baltimore', 'England & Wales Border, UK', 'Zeerust, South Africa', 'Boston, Massachusetts', 'Bristol', 'The Main ', 'The windy plains of Denver', 'Sunbury, Ohio', 'Sunnyvale, CA', 'Land of Lincoln', 'NYC&NJ', 'swindon', 'Croydon', 'Asia', 'Toronto, ON, Canada', 'San Jose, CA, USA', 'UK, Republic of Ireland and Australia', 'Milton keynes', 'Pontefract UK', 'the Dirty D', 'Paducah, KY', 'Asia European Continent Korea ', 'Athens, Greece', 'Proudly Canadian!', 'Cascadia', 'County Durham, United Kingdom', 'Dundee, UK', 'Detroit Tigers Dugout', 'st.louis county missouri ', 'Detroit/Windsor', 'Dundee', 'EGYPT', 'The Circle of Life', 'i got 1/13 menpa replies, omg', 'Pocatello, Idaho', 'probably watching survivor', 'Medan,Indonesia', 'Santa Maria, CA', '??9?', 'Oklahoma, USA', 'Jakarta', 'Chicago, Il', 'LA', 'Clayton, NC', 'Bandar Lampung, Indonesia', 'Venezuela', 'buffalo / madrid / granada', 'HI\\x89Û¢UT\\x89Û¢AS', 'di langit 7 bidadari (^,^ )', 'Coventry, UK', 'Norman, Oklahoma', 'Rapid City, Black Hills, SD', 'Memphis, in the Tennessees', 'Greensboro, North Carolina', 'Leesburg, FL', 'Rotterdam, The Netherlands', 'Victoria, BC', 'winston-salem north carolina', 'Elchilicitanierraversal ', '(RP)', \" 45å¡ 5'12.53N   14å¡ 7'24.93E\", 'Reddit ', 'Asheboro, NC', 'Holland MI via Houston, CLE', 'SoDak', 'Waverly, IA', 'Why should you know?', 'Photo : Blue Mountains ', 'Bedford, England', 'Aperture Science Test Facility', 'Wandsworth, London', 'im definitely taller than you.', 'london essex england uk', '{Detailed}', 'Fairgrounds Resident', 'English Midlands', 'Victoria, Australia, Earth', 'Antarctica', 'Magnolia, Fiore ', 'New Sweden', 'cereal aisle #17:i4', \"i'm a Citizen of the World\", 'Leicester, England', 'Anonymous', 'Realville', 'by a piano probably. ', 'Fiore, Lamia Scale', 'Chattanooga TN', 'Huntsville, AL', 'Haysville, KS', 'Earth-616', 'wisco', 'Leaving Bikini Bottom', 'Tennessee, USA', \"Eww, I'm not Paul Elam\", 'Hemel Hempstead', 'Chester Football Club', 'Fresno', 'West Hollywood, CA', 'ANDY 4 LEADER X', 'Hell', 'Tama, Iowa', 'Minneapolis - St. Paul', 'Las Vegas aka Hell', 'Ashburn, VA', 'St. Louis, Mo', 'Vancouver Canada', ' The World', 'Own planet!!', 'Vancouver, BC, Canada', 'Ecuador', 'Stay Tuned ;) ', 'Cimerak - Pangandaran', 'Cottonwood Arizona', 'Wausau, Wisconsin', 'Raleigh, NC', 'BOSTON-LONDON', 'GLOBAL/WORLDWIDE', 'North Dartmouth, Massachusetts', 'Lynchburg, VA', '107-18 79TH STREET', 'The Waystone Inn', '?? Made in the Philippines ??', 'Boston/Montreal ', 'Manavadar, Gujarat', 'Pueblo, Colorado', 'PG County, MD', 'Somewhere between Chicago & Milwaukee', 'InterplanetaryZone', 'WORLDWIDE-BOSTON', 'Jersey Shore', 'Detroit, Michigan', 'laying on the bass', 'Hustletown', '? miranda ? 521 mi', 'Oldenburg // London', '#partsunknown', 'Proudly frozen Canuck eh !!', 'IL', 'KSU 2017', 'Colorado, USA', 'Storybrooke / The Moors', 'NOLA ?? TX', \"neil's kitchen  |  32215\", 'The shores of Lake Kilby', 'Two Up Two Down', 'The Internet', 'Flushing, Queens', ' Quantico Marine Base, VA.', 'Bozeman, Montana', 'Hearts & Minds', 'somewhere USA ', 'Boston MA', 'highlands&slands scotland', 'Crouch End, London', 'Ealing, London', 'Malibu/SantaFe/Winning!', 'London, Greater London, UK', 'Edinburgh, Scotland', 'Nottingham', 'Tring ', 'Co. Tyrone Northern Ireland', 'Birmingham & Bristol', \"IUPUI '19\", 'potters bar', 'Chiswick, London', 'the burrow', 'plymouth', 'The Pumpkin Carriage of Dreams', 'Holly Springs, NC ', 'Notts', 'South, England', 'home ', 'Orlando/Cocoa Beach, FL', 'Birmingham and the Marches', 'MÌ©xico D.F.', 'Greenwich Meridian', 'lia\\x89Û¢dani\\x89Û¢laura', 'Oneonta, NY/ Staten Island, NY', 'in my own personal hell (:', 'Jonesboro, AR MO, IOWA USA', 'sÌ£o luis', 'Aurora, IL', 'America of Founding Fathers', 'on to the next adventure', 'Suburban Detroit, Michigan', 'Guatemala', 'Leitchfield Kentucky', 'Littleton, CO', 'Austin TX', 'Marbella. Spain', 'Hammersmith, London', 'Ashford, Kent, United Kingdom', 'Dhaka, Bangladsh', 'Sacramento, California', '#goingdownthetoilet Illinois', 'Under Santa Barbara Skies', 'Fukushima city Fukushima.pref', 'Norwalk, CT', 'USA, North Dakota', 'japon', 'Eaubonne, 95, France', 'Pluto', 'Anywhere I like', 'Phoenix, Arizona, USA', 'Paris (France)', 'Den Helder, Rijkswerf', 'SE London(heart is by the sea)', 'Warsaw', 'Aztec NM', 'Fort Calhoun, NE', 'Bournemouth, Dorset, UK', 'Somecity, Somerset, MD', 'Dover, DE', 'Cavite, Philippines', 'Korea', 'M!A: None', 'Purfleet', 'The Memesphere', '21 | PNW', 'Miami via Lima', 'Cymru araul', 'EIC', 'NEWCASTLE', 'Jump City', 'Dudetown', 'Ondo', 'Bhubneshwar', 'cedar rapids ia', \"satan's colon\", 'Valparaiso ', 'prob turning up with sheen', '#freegucci', 'Waterloo, ON', 'The dark', 'Reading MA', 'Wynne, AR', 'The Wood', 'Palmyra, NJ', '1313 W.Patrick St, Frederick', 'Danbury, CT', 'Mid West', 'Upstairs.', 'Winnipeg, Manitoba', 'leyland', \"don't buy the s*n\", 'Overton NV', 'Born in Baltimore Living in PA', 'Elizabeth, NJ', 'Canada ', 'a feminist, modernist hag.', 'kissimmee,fl.', '828/704(Soufside)/while looking goofy in NJ', 'Merica!', 'DC Metro area', 'Federal Capital Territory', 'Illinois', 'Turkmenistan', '23 countries and counting!', 'Ontario', 'Montgomery, AL', 'Amarillo', 'Sydney, NSW', 'Central Coast, California', 'Clean World', 'Street of Dallas', 'Goa, India', 'England, Great Britain.', 'San Luis Obispo, CA', 'Kamloops, BC', 'Lyallpur, Pakistan', 'Pensacola, FL', 'Corpus Christi', 'EspaÌ±a, Spain', 'New York City, NY', 'LAGOS', 'NJ/NYC', 'Italy', 'Eagle River Alaska', 'ÌÏT: 6.488400524109015,3.352798039832285', 'Nottingham, United Kingdom', 'Akure city in ondo state ', 'Anywhere', 'FCT, Abuja ', 'Finland', 'Ile-Ife,Osun state, Nigeria', 'Fukuoka, Japan', 'kano', '?? ?+254? ? \\\\??å¡_??å¡_???å¡_?/??', 'Dammam- KSA', 'Pro-American and Anti-#Occupy', 'Durham, NC', 'The Kingdom of Fife, Scotland', 'Dallas Fort-Worth', 'Everett, WA', 'Mumbai, India', 'The P (South Philly)', 'VONT ISLAND, LAGOS', 'Leeds, UK', 'www.facebook.com/stuntfm', 'Toronto, Canada', 'Miami?Gainesville', 'illinois. united state ', 'Royton', 'the Refrigerator ', 'Leeds, United Kingdom', 'Linton Hall, VA', 'The Internetz', 'Charleston, IL', 'Narnia', 'Charlotte, NC | KÌ¦ln, NRW', 'Topeka, KS', 'Palm Bay, FL (Kissimmee)', 'Manhattan', \"elena's bed // info on link\", 'Elsewhere, NZ', '518 åá NY', 'The Shady Hyenatown of Finland', 'Maryland ', 'East TN.', 'Milwaukee WI', 'Macon, GA', 'Torry Alvarez love forever ? ?', 'Detroit', 'Petaluma, CA', '?^åá??åá?^?? ??', '?', 'Oxford / bristol', 'PARACHUTE', 'Near Warrington', '|-/', 'Pawnee', 'Derbyshire, United Kingdom', 'VCU', 'McLean, VA', 'South Florida', 'Positive 852', 'Kansas City, Mo.', 'anzio,italy', 'US, PA', 'h+l', 'SoCal', 'Bangalore, India', 'Stratford, CT', 'MI,USA', 'Houston ', 'Los Angeles ', 'missouri USA', 'South africa', 'Bucharest', 'Joshua Tree, CA', 'Area 8 ', 'Bangalore, INDIA', 'ÌÏT: 40.707762,-74.014213', 'Killa Hill, CO', 'Southern Califorina', 'all over the world', 'San Diego, Calif.', 'Geneva. And beyond. ', 'NYC, New York', 'VÌ_a LÌÁctea', 'New York, United States', 'Some Where in this World', 'russia', 'Livonia, MI', 'Karolinska vÌ_gen 18, Solna', 'I Heard #2MBikers', 'Dunwoody, GA', 'Ebola', 'Broadview Heights, Ohio', 'Poplar, London', 'LP, MN USA', 'Burlington, VT', 'La Grange Park, IL', 'Warszawa', '#MayGodHelpUS', 'Darnley, Prince Edward Island', 'Gloucester, MA', 'vancouver usa', 'Alberta ', 'Yobe State', 'Coventry, Rhode Island', 'United States of America', 'La Puente, CA', 'music.', 'Thailand Malaysia Indonesia ', 'Fairfax, VA', 'Sicamous, British Columbia', 'North Memphis/Global Citizen', 'Bridport, England', 'Porto Alegre, Rio Grande do Sul', 'North Vancouver, BC', 'Pioneer Village, KY', 'ECSU16', 'Tulsa, OK', 'North', 'Ames, IA', 'San Diego California 92101', 'Augusta, Maine, 04330', 'Ad Majorem Dei Glorium', 'Aurora, Ontario ', ' Baku & Erzurum ', 'Statute Of Limitations_', 'paradise', ' BC, US, Asia or Europe.', 'St PetersburgFL', 'EspaÌ±a', 'Tarragona', 'Warri', 'Skyhold', 'Amman,Jordan', 'tripoli international airport', 'Auckland, New Zealand', 'NYC,US - Cali, Colombia', 'QLD Australia', 'Geneva, Switzerland', '#HarleyChick#PJNT#RunBenRun', 'Big NorthEast Litter Box', 'Sand springs oklahoma', 'Surry Hills, Sydney', 'Thornton  Colorado', 'Wanderlust', 'U.S.A.   FEMA Region 5', 'Ohio, USA', 'watford', 'West Hollywood', 'The Multiverse', 'Jammu | Kashmir | Delhi', 'southern california', 'Philadelphia, Pennsylvania USA', 'Huntley, IL', 'The green and pleasant land.', 'Leeds, U.K.', 'Westerland', 'Kuala Lumpur', 'Surabaya', '#iminchina', '?????????????, Thailand ', '17th Dimension', 'USA - Canada - Europe - Asia', 'Paris, France', 'Here, there and everywhere', 'Belgrade', 'Cardiff, UK', 'Bossland', 'Uppsala, Sweden', 'East London', 'Detroit, MI', 'Montana, USA', 'Utah, USA', 'Frankfort, KY', 'In Space', 'Sligo and Galway, Ireland', 'Tipperary (Long Way) ', 'Malang', 'hertfordshire.', 'Dublin', 'SURROUNDED BY WEEABOOS', 'Vidalia GA', 'Vista, CA', 'Serva Fidem', 'Bellville, Ohio', 'trapped in America', 'A little house in the outback.', 'tri state', 'Upstate New York', 'Chicora ?? Oakland', 'heart of darkness, unholy ?', 'Colonial Heights, VA', 'The Weird Part of Wonderland', 'Cassadaga Florida', 'Columbus, Georgia', 'Accra,Ghana', 'Phoenix Az', 'ON', 'Spain - China - Latin America.', 'Chester, IL', 'West Africa', 'Made Here In Detroit ', 'Dallas, Tejas', 'ATLANTA , GEORGIA ', '| CA \\x89Û¢ GA  |', 'Depok', 'London / Birmingham', 'texas', 'Yulee, FL', 'austin tx', 'Garrett', 'followurDREAMS(& my instagram)', 'sheffield // rotherham', 'Wailuku, Maui', 'Lima, OH', 'Long Beach, CA', 'Belfast', 'fujo garbage heaven ', 'New York - Connecticut', 'snapchat~ maddzz_babby ', '2,360 miles away', 'Florida Forever', '#RedSoxNation', 'MNL', 'youtube.com/channel/UCHWTLC9B4ZjUGh7yDlb55Iw', 'CA ??DC', 'MÌ©rida, YucatÌÁn', 'Scituate, MA', 'hkXfYMhEx', 'Hamilton County, IN', 'Dakar', 'In your head', 'The Sanctuary Network, Rome', 'Tractor land aka Bristol', 'Adventuring in Narnia', 'Asgard', 'Unite. Bless. Wallahi ', 'sneaking glances at Thancred', 'ljp/4', 'Charlotte, North Carolina', 'Nirvana', 'ny', 'Mentor OH', 'Trumann, Arkansas', '18 \\x89Û¢ CC', '1D | 5SOS | AG', 'PA.USA', 'm3, k, a, d', 'pissing off antis', \"'SAN ANTONIOOOOO'\", 'sisterhood', '3000 miles from everyone', 'livin in a plastic world', 'with Doflamingo', '21, Porto', 'access to njh/5 and cth/4', 'tx', 'Massachusetts ', 'rio de janeiro | brazil', 'Moore, OK', '\\x89Û¢OlderCandyBloom\\x89Û¢', 'Justin and Ariana follow', '[@blackparavde is my frankie]', 'Daddy Kink Central', 'Wakefield, West Yorkshire', 'Pittsburgh', \"Namjoon's pants\", 'Mogadishu, New Jersey', 'All around the world', ' Jariana Town', 'Honeymoon Ì£ve.', 'Aveiro, Portugal', 'justin & ari follow || tvd', '9/1/13', 'JDB/LJC/AGB/TW/PLL', 'nap queen', 'amsterdayum 120615 062415', 'lesa * she/her', 'Griffin :3', \"xiumin's nonexistent solos\", 'marvel | books | hp | tmr', 'blackfalds.', 'San Juan, Puerto Rico', 'Freddy Fazbears pizzeria', 'BrasÌ_lia', 'POFFIN', '#Gladiator \\x89Û¢860\\x89Û¢757\\x89Û¢', 'W.I.T.S Academy', 'Where ever i please', 'Melbourne, Australia.', 'Sheffield/Leeds', 'PLFD cuh..', 'lost in history', '5-Feb', 'labyrinthia', '??+ ... ??+', 'garowe puntland somalia', 'Third rock from the Sun', 'Lives in London', 'Somalia', 'Lakewood, Tennessee', 'Smash Manor/Kanto', 'Bokaro Steel City, Jharkhand', 'Hatteras, North Carolina', '412 NW 5th Ave. Portland OR', 'Madison, Wisconsin, USA', 'Mogadishu, Somalia', 'the azure cloud', 'Perenjori, WA', 'Unknown ', 'Atlanta(ish), GA', 'Above the snake line - #YoNews', 'ill yorker', 'White Plains, NY', 'B&B near Alton Towers', 'Alger-New York-San Francisco', '\\x81Êwagger!Ì\\x90ominicanÌ÷', 'Texas af', 'Hinterestland', 'Evansville, IN', 'Greenpoint', 'ÌÏT: 42.910975,-78.865828', 'Cypress, CA 90630', 'North East Unsigned Radio', 'Every Where in the World', 'Fountain Valley, CA', 'Haarlem', 'Queensland', 'HOMRA.', 'Ciudad AutÌ_noma de Buenos Aires, Argentina', 'Not where I want to be, yet', 'Duval, WV 25573, USA ?', 'Rhyme Or Reason?', 'hey Georgia', 'nc', 'kenya', 'My subconscious', ' New England', 'UAE,Sharjah/ AbuDhabi', 'The Web', 'Paris.', 'Am International', 'Team Slytherin', 'Michel Delving.', 'Hame', 'Brizzle City !', '???  Dreamz', 'texasss', 'Diamondville', 'The TARDIS', 'Honolulu,Hawaii ', 'Flipadelphia', 'The American Wasteland (MV)', 'high way 99', '... -.- -.--', 'Canada Eh! ', 'Ohio', '828??864??803', 'Nomad, USA', 'they/them ', 'Greater Los Angeles Bearia', 'victoria mozÌ£o ', 'Hollywood', 'miami x dallas ', 'Hamburg, DE', 'Nanaimo, BC, Canada', 'Decatur, GA', 'Los Angles, CA', 'az', 'Crato - CE ', 'Ventura, Ca', 'MedellÌ_n, Antioquia', 'BrowardCounty // Florida ', 'Soufside', 'Dalston, Hackney', 'WORLDWI$E ', 'atlanta', '3.28.15|7.20.15|7.25.15', 'cigarknub@gmail.com', 'Ktx', 'PSA Nursing ', 'Narnia, Maryland', 'Winnipeg, MB, Canada', 'Bronx, NY', 'Wakefield MA', 'Huntington, WV', 'South, USA', 'Hampshire, UK', 'Louisiana, USA', 'This Is Paradise. Relax. ', 'Deployed in the Middle East', 'teh internets', 'Neath, South Wales', 'Mountains', 'Porthcawl', 'In the spirit world', 'Western New York', \"Mpela'zwe \", 'State College, Pa', 'mind ya business', 'nor*cal', 'West Palm Beach, Florida', 'philly', 'Mackem in Bolton', 'Johns Creek, GA', ' New Delhi ', ' Alberta', '#BossNation!', 'pittsboro', 'NC || OR', 'EspaÌ±a - Spain - Espagne', '#PhanTrash', 'Desert Storm?? |BCHS|', 'Ottawa, Ontario', 'Santiago de Chile', 'CamaquÌ£/Pelotas', 'Taylor Swift', 'Austin/Los Angeles', 'U.S.A and Canada', 'In a crazy genius mind', 'hatena bookmark', 'Docker container', 'DMV', 'philly ', 'south africa eastern cape', 'Amazon Seller , Propagandist', 'NJ/NY/NM/NE/ND', '3???2???????', 'Cimahi,West Java,Indonesia', 'Bukittinggi  ?? Sumatera Barat', 'Stateless Global Citizen', 'Halton Region', 'Los Angeles, Calif.', 'Warm Heart Of Africa', 'ÌÏT: 27.9136024,-81.6078532', 'VÌ_sterÌ´s, Sweden', 'Reality', 'Roadside', 'London/Lagos/FL ÌÏT: 6.6200132,', 'The Land of MAss Stupidity', 'dorito land', 'Gidi', 'Email: Lovethterry@gmail.com', 'Homs- Syria', 'lagos. Unilag', 'Did anybody see me here ??', 'Na waffi', 'Helsinki', 'Saudi Arabia', 'Garden City, NY', 'africa', 'Birmingham, United Kingdom', 'nigeria', 'Minority Privilege, USA', 'Paris', 'Chicago IL', 'Principality of Zeron', 'GCC', 'On a beach ', 'EARTH', 'Tokyo & Osaka', 'mainly California', '18 | 509 ', 'glasgow', 'Bon Temps Louisiana', 'my house', 'Beacon Hills', 'West Coast, USA', 'Gaborone, Botswana', 'Bracknell', '{GoT | Modern AU | Lizz}', 'Cardiff, Wales', 'NAIROBI  KENYA ', 'In your mind', 'Essex', 'oxford', 'Gloucester', 'i beg vines sorry ', 'toledo', 'Semarang, Indonesia', 'Lincoln City Oregon', 'Fountain City, IN ', 'gaffney, sc ', '???????, Texas', 'Camberwell, Melbourne', 'Kansas', 'ava', 'nj/ny', 'Back East in PA', '? icon by @Hashiren_3 ?', 'EveryWhere', 'Trapped in my Conscience ', 'death star', 'Brentwood,TN', 'Auburn ', 'Harlem, NY or Chocolate City', 'Polmont ', 'Predjama, Eslovenia.', 'Tn', 'South Asia', 'Reading a romance novel', 'Bulgaria', 'AUSTRALIA-SOUTHAFRICA-CAMBODIA', 'Port Williams NS', 'Dallas, TX ', 'SÌ£o Paulo, Brasil', 'WORLD', 'Stowmarket', 'Philadelphia, Pennsylvania', 'Lake Monticello, VA', 'Sao Paulo', 'WV, love the blue and gold', 'Berlin, NY, DC, Malibu', 'Shanghai', 'Anywhere Safe', 'Marietta, GA', 'Numenor', 'Salt Lake City, UT', 'Earth 0', 'New Jersey, USA', 'Lancaster, CA', 'Reston, VA, USA', 'Jeddah_Saudi Arabia.', 'toronto, ontario', 'Bangalore City, India', 'Iraq|Afghanistan| RSA |Baghdad', 'peshawar pakistan ', 'Beit El - Israel', 'New Delhi, India', 'Sanganer, Rajasthan', 'Loading...', 'Chennai', 'BILASPUR,CHHATTISGARH,495001', \"Niall's arms\", 'proudly South African', '????? ???? ????', 'Charleston S.C.', 'Hyrule', 'front row at a show', 'Arlington, VA', 'God.Family.Money', 'Kwajalein/Virginia/Dayton, OH', 'BiÌ±an,Laguna', 'Enfield, UK', 'South Carolina, USA', 'Atlanta, Georgia USA', 'Gander NF', 'nowhere', 'Palm Desert, CA', 'Palma, Islas Baleares', 'IndiLand ', 'Baydestrian', 'gamertag: bexrayandvav ', 'Jupiter', 'El Dorado, Arkansas', 'WORDLDWIDE', '73101', 'South Carolina', 'Tornado Alley, USA ', 'Nicoma Park, OK', 'Lethbridge, Alberta, Canada', 'Killafornia made me ', 'Lethbridge, AB, Canada', 'God is Love. ', 'cognitive dissonance town', 'I O W A', 'Gurgaon, Haryana. ', \"Wherever I'm sent\", 'Austin', 'Fort Knox, KY 40121', 'california', 'Providence RI / Lisnaskea ', 'Dindigul,TamilNadu.', 'khartoum sudan', '  ', 'Kentucky, USA', 'New Jersey/New York', '#SandraBland', \"'Merica\", 'Harper Woods, MI', 'dubai ', 'staggering on tenement roofs', 'houston', 'Orlando ', 'Noida, NCR, India', 'MÌ©xico', 'NYC / International', 'PA, USA', 'call me peach or sam lo', 'LITTLETON, CO, USA, TERRAN', 'Orlando', 'shoujo hell ', '10 Steps Ahead.  Cloud 9', 'central chazifornia', '????s ?? ????Ìø????Ì¡a', 'T E X A S | wwat 8.24.14', '876 Jamrock.', 'å_å_Los Mina City\\x89ã¢', 'St Louis, MO', 'WORLDWIDE!', 'Greensburg, PA', 'Like us on Face ', 'Montgomery County, MD', 'Cambridge, Massachusetts, U.S.', 'LOCAL ATLANTA NEWS 4/28/00 - 4/28/15 FREELANCER', 'Your notifications', 'Methville, CA', 'I rap to burn shame.', 'Los Angeles New York', 'www.aprylpooley.com', ' Little Rock, AR', 'The Jewfnited State', 'Minneapolis, MN', 'Gumptown', 'The Triskelion', 'Minneapolis/St. Paul', 'Kirkwall', 'Portsmouth, UK', 'cork', 'dublin ', 'ELVY', 'Tunbridge Wells', 'lowestoft', 'North East / Middlesbrough ', 'Londonstan', 'Tring, UK', 'Stage with Trey Songz', 'Hampstead, London.', 'Tamworth', 'Kawartha Lakes, Ontario, Canad', 'YA MOTHA BED', 'Indiana, USA', 'Illumination ', 'Bathtub de Bett ', 'Chasing My Dreams w/Jass??', 'Rochester Hills, MI', 'Davis, California', 'Displaced Son of TEXAS!', 'on twitter ', 'Wolverhampton', 'North Carolina ', 'Manila City', 'Louavul, KY', 'IG : Sincerely_TSUNAMI', 'Kleenex factory', '??????????????', 'Land Of The Kings', 'Winter Park, Colorado', '#ODU', 'ona block w/ my BOY ??', 'East Islip, NY', 'but i love kaylen ??', 'COMING SOON', 'Gotham City,USA', 'Hawaii', 'BROKE NIGGAS DREAM!!', 'Las Vegas, NV ', 'å¡å¡Midwest \\x89Û¢\\x89Û¢', 'Riverdale, GA ', 'Plano,TX', 'Midwest City, OK', 'Galapa / AtlÌÁntico', 'STL ?NOLA', 'instagram: bribriony', 'Long Island', 'Downtown Oklahoma City', 'Seattle native in Prescott, AZ', 'Savage States of America', 'Whole World ', 'Ibadan,Oyo state', 'ngapain?', 'Tema,Accra', 'phuket thailand', 'Unites States', 'Santiago,RepÌ¼blica Dominicana', 'Wilmington, Delaware', 'iamdigitalent.com', 'Evergreen Colorado', 'The Peach State', 'Dhaka', 'Halifax, Nova Scotia', 'Deadend, UK', 'Chester', 'eBooks, North America', 'Sydney & Worldwide', 'Scotts Valley, CA', 'IG/SC:bjfordiani', 'Wisconsin, USA', 'East Aurora, NY', 'Woosley', 'Costa Rica', 'Hamilton, Ontario CA', 'maryland', 'Attock', 'INDIA', 'CPT & JHB, South Africa', 'Oregon and Washington', \"Yuuko-san's shop\", 'Watertown, Mass.', 'Milky Way galaxy ', 'us', '??? ???? ?f glory. ?', 'Your Six', 'ÌÏT: 1.50225,103.742992', 'Newcastle, OK', 'Oshawa/Toronto', 'Very SW CA, USA....Draenor', 'Amsterdam & Worldwide', '3rd Eye Chakra', 'Perth, Australia', ' ? ??????? ? ( ?? å¡ ? ? ? å¡)', 'Ted&Qz Inc, Ireland, Europe', 'Santiago de Cmpostela Galicia', 'cleveland, oh', 'Northern Colorado', 'West Coast, Cali USA', 'right here', 'nashville, tn ', 'Incognito', 'Somewhere else...', 'In a graveyard ', 'Downtown Churubusco, Indiana', 'Host of #MindMoversPodcast', 'The D', 'Still. ??S.A.N.D.O.S??', \"We're All Mad Here\", 'New Hampshire, USA', 'ca(NADA) ', 'T-Ville', '//RP\\\\ ot @Mort3mer\\\\\\\\', 'BROOKLYN, NYC', 'åÊ(?\\x89Û¢`?\\x89Û¢å«)??', 'New York 2099', 'Halifax, NS, Canada', 'UK,singer,songwriter,?2 act', 'kediri,,jawa timur', 'MI - CA', 'Central Florida', 'CT, USA', 'www.twitch.tv/PKSparkxx', 'statesboro/vidalia', 'New Jersey, usually', 'Haveli, Maharashtra', 'Slateport City, Hoenn', 'jayankondacholapuram.tamilnadu', 'Denver Colorado. Fun Times', 'Not Of This World', 'ohio', 'Proud @BuckMasonUSA supporter!', 'Ely, Cambridgeshire', 'GrC Founder, 8,000 Subscribers', 'Beirut/Toronto', 'Regalo Island', 'california | oregon | peru |', 'N. California USA', 'Multinational *****', 'rural ohio (fuck)', 'Vermont, USA', 'Hawthorne, NE', '??? ?????????????', '( ?å¡ ?? ?å¡), ', 'Kernow', 'St. Louis', 'Holly, MI', 'Somewhere between here & there', 'CHICAGO', 'Frostburg', 'Canterbury kent', \"The Sun's Corona\", '140920-21 & 150718-19 BEIJING', 'Harbour Heights, FL', 'Sheff/Bangor/Salamanca/Madrid', 'Stamford & Cork (& Shropshire)', '#KaumElite;#F?VOR;#SMOFC', 'Richardson TX', 'London, Sydney', 'Internet', 'Where I Need To Be', 'Here, unless there.  ', 'NEPA/570', 'pettyville, usa', 'Phila.', 'brooklyn, NYC', \"Atlanta - FAU class of '18\", 'Bristol, England', 'Houston', 'Twitterville', 'Eastern Iowa', 'Fort Walton Beach, FL', 'Toronto, Bob-Lo, Miami Beach', 'planet earth', 'nap central', 'Olathe, KS', 'Madrid', 'Hartford, Connecticut', 'New Jersey ', 'Cedar Island, Clinton CT 06413', 'West Vancouver, B.C.', 'Tucson, AZ', 'Get our App', 'Vail Valley', 'Amsterdam | San Francisco', 'Ashland, Oregon', 'Riverside, California.', 'Around the world', 'Lancaster California', '?? Cloud Mafia ??', 'Eddyville, Oregon 97343', 'Galveston, Texas', 'Palm Beach County, FL', 'Georgia ? Tennessee', 'Gettysburg, PA', 'Florida USA', 'Hermitage, PA', 'Jakarta, Indonesia', 'calgary,ab', 'Newton, NJ 07860', 'she/her/your majesty/empress', 'LYNBROOK', 'Argus Industries \\\\m/666\\\\m/', 'Friendswood, TX', 'Sugar Land, TX', '(a) property of the universe', 'Home is where we park it!', 'Webster, TX', 'Maracay y Nirgua, Venezuela', 'North Cack/919', 'Scottsdale, AZ', 'Victoria, Canada', 'FILM OUT LATE 2015', 'Miami,Fla', 'santo domingo', 'Worldwide - Global', 'Suva, Fiji Islands.', 'Americas Newsroom', 'Yogya Berhati Nyaman', 'Fredericksburg, Virginia', \"Wherever I'm needed\", 'Charlotte ', 'Sale, England', 'Newcastle, England ', 'Kashmir!', 'in my head', 'Rutherfordton, NC', 'Lake Highlands', 'Charlotte, N.C.', 'iPhone: 33.104393,-96.628624', 'KADUNA, NIGERIA', 'Shady Pines ', 'Wales, United Kingdom', ' Alex/Mika/Leo|18|he/she/they', '?Gangsta OC / MV RP; 18+.?', 'Earth: Senseless nonsense', 'Not Steven Yeun / AMC.', 'cody, austin follows ?*?', 'moss chamber b', '1/10 Taron squad', 'Argentina', ' ?currently writing a book?', 'Lebanon, Tennessee', 'Pratt-on-Wye', 'Somerset, UK', 'Atlanta, Georgia', 'SF Bay Area, California / Greater Phoenix, AZ', 'Alabama, USA', 'Primum non nocere', 'Gwersyllt, Wales', 'Greenville', 'Greenville, S.C.', 'Innsmouth, Mass.', '709?', 'Norwich', 'Canada BC', 'Plano, IL', 'scumbernauld', 'khanna', 'Bangkok', 'Punjab', 'No ID, No VOTE!!!', 'Maharashtra', 'New Delhi,India', \"Xi'an, China\", \"Robin Hood's County \", 'Milwaukee County', 'Click the link below, okay ', 'probably not home', '6', 'At your back', 'Livingston, MT', '  Glasgow ', 'Denton, Texas', 'TN', '#NewcastleuponTyne #UK', 'Vancouver, Canada', 'London ', 'Lincoln']\n"
     ]
    }
   ],
   "source": [
    "# Print out unique locations\n",
    "locations = df_train['location'].unique().tolist()\n",
    "print(locations)"
   ]
  },
  {
   "cell_type": "markdown",
   "id": "d983c513",
   "metadata": {},
   "source": [
    "Note: location column may need cleaning (punctuations e.g. !!, | ,etc., digits if not lantitude, irrelevant or too general info e.g. 'milky way', 'Twitter Lockout in progress', \"Your Sister's Bedroom\", 'VISIT MY YOUTUBE CHANNEL.', etc.)\n",
    "\n",
    "'y(our) boyfriends legs '\n",
    "Somewhere Out There, not , a resident, 92, Worldwide happily Married with 2 kids, VISIT MY YOUTUBE CHANNEL, VISIT MY YOUTUBE CHANNEL. the own zone layer\n",
    "Views From The Six, Swaning Around, Wild Wild Web, physically, Yeezy Taught Me , BIG D"
   ]
  },
  {
   "cell_type": "code",
   "execution_count": 34,
   "id": "40a16304",
   "metadata": {},
   "outputs": [
    {
     "data": {
      "text/plain": [
       "'We always try to bring the heavy. #metal #RT http://t.co/YAo1e0xngw'"
      ]
     },
     "execution_count": 34,
     "metadata": {},
     "output_type": "execute_result"
    }
   ],
   "source": [
    "# Check one tweet\n",
    "df_train['text'][32]"
   ]
  },
  {
   "cell_type": "code",
   "execution_count": 35,
   "id": "fabd28d7",
   "metadata": {},
   "outputs": [
    {
     "data": {
      "text/plain": [
       "7503"
      ]
     },
     "execution_count": 35,
     "metadata": {},
     "output_type": "execute_result"
    }
   ],
   "source": [
    "# Count a num of unique tweets\n",
    "len(df_train['text'].unique())"
   ]
  },
  {
   "cell_type": "code",
   "execution_count": 36,
   "id": "5d34b637",
   "metadata": {},
   "outputs": [
    {
     "name": "stdout",
     "output_type": "stream",
     "text": [
      "The longest tweet has: 31 words\n"
     ]
    }
   ],
   "source": [
    "# Print the longest tweet\n",
    "print(\"The longest tweet has: {} words\".format(df_train['text'].apply(lambda x : len(x.split())).max()))"
   ]
  },
  {
   "cell_type": "code",
   "execution_count": 37,
   "id": "1ed8b42e",
   "metadata": {},
   "outputs": [
    {
     "name": "stdout",
     "output_type": "stream",
     "text": [
      "The shortest tweet has: 1 words\n"
     ]
    }
   ],
   "source": [
    "# Print the shortest tweet\n",
    "print(\"The shortest tweet has: {} words\".format(df_train['text'].apply(lambda x : len(x.split())).min()))"
   ]
  },
  {
   "cell_type": "code",
   "execution_count": 38,
   "id": "bf068a27",
   "metadata": {},
   "outputs": [
    {
     "data": {
      "image/png": "[encoded data removed]",
      "text/plain": [
       "<Figure size 640x480 with 1 Axes>"
      ]
     },
     "metadata": {},
     "output_type": "display_data"
    }
   ],
   "source": [
    "# Visualize length of tweets\n",
    "sns.boxplot(data=df_train, x='target', y=df_train[\"text\"].apply(lambda x : len(x.split())), palette='deep')\n",
    "plt.title(\"Word Count Distribution by Target Class\")\n",
    "plt.show()"
   ]
  },
  {
   "cell_type": "markdown",
   "id": "11d9f939",
   "metadata": {},
   "source": [
    "NOTE: there are no outliers "
   ]
  }
 ],
 "metadata": {
  "kernelspec": {
   "display_name": ".venv",
   "language": "python",
   "name": "python3"
  },
  "language_info": {
   "codemirror_mode": {
    "name": "ipython",
    "version": 3
   },
   "file_extension": ".py",
   "mimetype": "text/x-python",
   "name": "python",
   "nbconvert_exporter": "python",
   "pygments_lexer": "ipython3",
   "version": "3.9.6"
  },
  "papermill": {
   "default_parameters": {},
   "duration": 12.911681,
   "end_time": "2023-01-26T16:57:04.178789",
   "environment_variables": {},
   "exception": null,
   "input_path": "__notebook__.ipynb",
   "output_path": "__notebook__.ipynb",
   "parameters": {},
   "start_time": "2023-01-26T16:56:51.267108",
   "version": "2.3.4"
  }
 },
 "nbformat": 4,
 "nbformat_minor": 5
}
