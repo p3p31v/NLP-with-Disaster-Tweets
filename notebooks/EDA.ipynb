{
 "cells": [
  {
   "cell_type": "code",
   "execution_count": 52,
   "id": "1c18c472",
   "metadata": {
    "_cell_guid": "b1076dfc-b9ad-4769-8c92-a6c4dae69d19",
    "_uuid": "8f2839f25d086af736a60e9eeb907d3b93b6e0e5",
    "execution": {
     "iopub.execute_input": "2023-01-26T16:56:58.820696Z",
     "iopub.status.busy": "2023-01-26T16:56:58.820210Z",
     "iopub.status.idle": "2023-01-26T16:56:59.900094Z",
     "shell.execute_reply": "2023-01-26T16:56:59.898990Z"
    },
    "papermill": {
     "duration": 1.08987,
     "end_time": "2023-01-26T16:56:59.902126",
     "exception": false,
     "start_time": "2023-01-26T16:56:58.812256",
     "status": "completed"
    },
    "tags": []
   },
   "outputs": [],
   "source": [
    "# Import libraries\n",
    "import numpy as np # linear algebra\n",
    "import pandas as pd # data processing, CSV file I/O (e.g. pd.read_csv)\n",
    "import matplotlib.pyplot as plt\n",
    "import seaborn as sns\n",
    "import re #regular expressions\n",
    "import os\n",
    "\n",
    "# Increase width of columns on dataframe\n",
    "pd.set_option('display.max_colwidth', None)"
   ]
  },
  {
   "cell_type": "code",
   "execution_count": 85,
   "id": "a002fc7e",
   "metadata": {
    "execution": {
     "iopub.execute_input": "2023-01-26T16:56:59.914186Z",
     "iopub.status.busy": "2023-01-26T16:56:59.913793Z",
     "iopub.status.idle": "2023-01-26T16:56:59.961288Z",
     "shell.execute_reply": "2023-01-26T16:56:59.959761Z"
    },
    "papermill": {
     "duration": 0.056135,
     "end_time": "2023-01-26T16:56:59.963606",
     "exception": false,
     "start_time": "2023-01-26T16:56:59.907471",
     "status": "completed"
    },
    "tags": []
   },
   "outputs": [
    {
     "data": {
      "text/html": [
       "<div>\n",
       "<style scoped>\n",
       "    .dataframe tbody tr th:only-of-type {\n",
       "        vertical-align: middle;\n",
       "    }\n",
       "\n",
       "    .dataframe tbody tr th {\n",
       "        vertical-align: top;\n",
       "    }\n",
       "\n",
       "    .dataframe thead th {\n",
       "        text-align: right;\n",
       "    }\n",
       "</style>\n",
       "<table border=\"1\" class=\"dataframe\">\n",
       "  <thead>\n",
       "    <tr style=\"text-align: right;\">\n",
       "      <th></th>\n",
       "      <th>id</th>\n",
       "      <th>keyword</th>\n",
       "      <th>location</th>\n",
       "      <th>text</th>\n",
       "      <th>target</th>\n",
       "    </tr>\n",
       "  </thead>\n",
       "  <tbody>\n",
       "    <tr>\n",
       "      <th>0</th>\n",
       "      <td>1</td>\n",
       "      <td>NaN</td>\n",
       "      <td>NaN</td>\n",
       "      <td>Our Deeds are the Reason of this #earthquake May ALLAH Forgive us all</td>\n",
       "      <td>1</td>\n",
       "    </tr>\n",
       "    <tr>\n",
       "      <th>1</th>\n",
       "      <td>4</td>\n",
       "      <td>NaN</td>\n",
       "      <td>NaN</td>\n",
       "      <td>Forest fire near La Ronge Sask. Canada</td>\n",
       "      <td>1</td>\n",
       "    </tr>\n",
       "    <tr>\n",
       "      <th>2</th>\n",
       "      <td>5</td>\n",
       "      <td>NaN</td>\n",
       "      <td>NaN</td>\n",
       "      <td>All residents asked to 'shelter in place' are being notified by officers. No other evacuation or shelter in place orders are expected</td>\n",
       "      <td>1</td>\n",
       "    </tr>\n",
       "    <tr>\n",
       "      <th>3</th>\n",
       "      <td>6</td>\n",
       "      <td>NaN</td>\n",
       "      <td>NaN</td>\n",
       "      <td>13,000 people receive #wildfires evacuation orders in California</td>\n",
       "      <td>1</td>\n",
       "    </tr>\n",
       "    <tr>\n",
       "      <th>4</th>\n",
       "      <td>7</td>\n",
       "      <td>NaN</td>\n",
       "      <td>NaN</td>\n",
       "      <td>Just got sent this photo from Ruby #Alaska as smoke from #wildfires pours into a school</td>\n",
       "      <td>1</td>\n",
       "    </tr>\n",
       "    <tr>\n",
       "      <th>5</th>\n",
       "      <td>8</td>\n",
       "      <td>NaN</td>\n",
       "      <td>NaN</td>\n",
       "      <td>#RockyFire Update =&gt; California Hwy. 20 closed in both directions due to Lake County fire - #CAfire #wildfires</td>\n",
       "      <td>1</td>\n",
       "    </tr>\n",
       "    <tr>\n",
       "      <th>6</th>\n",
       "      <td>10</td>\n",
       "      <td>NaN</td>\n",
       "      <td>NaN</td>\n",
       "      <td>#flood #disaster Heavy rain causes flash flooding of streets in Manitou, Colorado Springs areas</td>\n",
       "      <td>1</td>\n",
       "    </tr>\n",
       "    <tr>\n",
       "      <th>7</th>\n",
       "      <td>13</td>\n",
       "      <td>NaN</td>\n",
       "      <td>NaN</td>\n",
       "      <td>I'm on top of the hill and I can see a fire in the woods...</td>\n",
       "      <td>1</td>\n",
       "    </tr>\n",
       "    <tr>\n",
       "      <th>8</th>\n",
       "      <td>14</td>\n",
       "      <td>NaN</td>\n",
       "      <td>NaN</td>\n",
       "      <td>There's an emergency evacuation happening now in the building across the street</td>\n",
       "      <td>1</td>\n",
       "    </tr>\n",
       "    <tr>\n",
       "      <th>9</th>\n",
       "      <td>15</td>\n",
       "      <td>NaN</td>\n",
       "      <td>NaN</td>\n",
       "      <td>I'm afraid that the tornado is coming to our area...</td>\n",
       "      <td>1</td>\n",
       "    </tr>\n",
       "    <tr>\n",
       "      <th>10</th>\n",
       "      <td>16</td>\n",
       "      <td>NaN</td>\n",
       "      <td>NaN</td>\n",
       "      <td>Three people died from the heat wave so far</td>\n",
       "      <td>1</td>\n",
       "    </tr>\n",
       "    <tr>\n",
       "      <th>11</th>\n",
       "      <td>17</td>\n",
       "      <td>NaN</td>\n",
       "      <td>NaN</td>\n",
       "      <td>Haha South Tampa is getting flooded hah- WAIT A SECOND I LIVE IN SOUTH TAMPA WHAT AM I GONNA DO WHAT AM I GONNA DO FVCK #flooding</td>\n",
       "      <td>1</td>\n",
       "    </tr>\n",
       "    <tr>\n",
       "      <th>12</th>\n",
       "      <td>18</td>\n",
       "      <td>NaN</td>\n",
       "      <td>NaN</td>\n",
       "      <td>#raining #flooding #Florida #TampaBay #Tampa 18 or 19 days. I've lost count</td>\n",
       "      <td>1</td>\n",
       "    </tr>\n",
       "    <tr>\n",
       "      <th>13</th>\n",
       "      <td>19</td>\n",
       "      <td>NaN</td>\n",
       "      <td>NaN</td>\n",
       "      <td>#Flood in Bago Myanmar #We arrived Bago</td>\n",
       "      <td>1</td>\n",
       "    </tr>\n",
       "    <tr>\n",
       "      <th>14</th>\n",
       "      <td>20</td>\n",
       "      <td>NaN</td>\n",
       "      <td>NaN</td>\n",
       "      <td>Damage to school bus on 80 in multi car crash #BREAKING</td>\n",
       "      <td>1</td>\n",
       "    </tr>\n",
       "    <tr>\n",
       "      <th>15</th>\n",
       "      <td>23</td>\n",
       "      <td>NaN</td>\n",
       "      <td>NaN</td>\n",
       "      <td>What's up man?</td>\n",
       "      <td>0</td>\n",
       "    </tr>\n",
       "    <tr>\n",
       "      <th>16</th>\n",
       "      <td>24</td>\n",
       "      <td>NaN</td>\n",
       "      <td>NaN</td>\n",
       "      <td>I love fruits</td>\n",
       "      <td>0</td>\n",
       "    </tr>\n",
       "    <tr>\n",
       "      <th>17</th>\n",
       "      <td>25</td>\n",
       "      <td>NaN</td>\n",
       "      <td>NaN</td>\n",
       "      <td>Summer is lovely</td>\n",
       "      <td>0</td>\n",
       "    </tr>\n",
       "    <tr>\n",
       "      <th>18</th>\n",
       "      <td>26</td>\n",
       "      <td>NaN</td>\n",
       "      <td>NaN</td>\n",
       "      <td>My car is so fast</td>\n",
       "      <td>0</td>\n",
       "    </tr>\n",
       "    <tr>\n",
       "      <th>19</th>\n",
       "      <td>28</td>\n",
       "      <td>NaN</td>\n",
       "      <td>NaN</td>\n",
       "      <td>What a goooooooaaaaaal!!!!!!</td>\n",
       "      <td>0</td>\n",
       "    </tr>\n",
       "    <tr>\n",
       "      <th>20</th>\n",
       "      <td>31</td>\n",
       "      <td>NaN</td>\n",
       "      <td>NaN</td>\n",
       "      <td>this is ridiculous....</td>\n",
       "      <td>0</td>\n",
       "    </tr>\n",
       "    <tr>\n",
       "      <th>21</th>\n",
       "      <td>32</td>\n",
       "      <td>NaN</td>\n",
       "      <td>NaN</td>\n",
       "      <td>London is cool ;)</td>\n",
       "      <td>0</td>\n",
       "    </tr>\n",
       "    <tr>\n",
       "      <th>22</th>\n",
       "      <td>33</td>\n",
       "      <td>NaN</td>\n",
       "      <td>NaN</td>\n",
       "      <td>Love skiing</td>\n",
       "      <td>0</td>\n",
       "    </tr>\n",
       "    <tr>\n",
       "      <th>23</th>\n",
       "      <td>34</td>\n",
       "      <td>NaN</td>\n",
       "      <td>NaN</td>\n",
       "      <td>What a wonderful day!</td>\n",
       "      <td>0</td>\n",
       "    </tr>\n",
       "    <tr>\n",
       "      <th>24</th>\n",
       "      <td>36</td>\n",
       "      <td>NaN</td>\n",
       "      <td>NaN</td>\n",
       "      <td>LOOOOOOL</td>\n",
       "      <td>0</td>\n",
       "    </tr>\n",
       "    <tr>\n",
       "      <th>25</th>\n",
       "      <td>37</td>\n",
       "      <td>NaN</td>\n",
       "      <td>NaN</td>\n",
       "      <td>No way...I can't eat that shit</td>\n",
       "      <td>0</td>\n",
       "    </tr>\n",
       "    <tr>\n",
       "      <th>26</th>\n",
       "      <td>38</td>\n",
       "      <td>NaN</td>\n",
       "      <td>NaN</td>\n",
       "      <td>Was in NYC last week!</td>\n",
       "      <td>0</td>\n",
       "    </tr>\n",
       "    <tr>\n",
       "      <th>27</th>\n",
       "      <td>39</td>\n",
       "      <td>NaN</td>\n",
       "      <td>NaN</td>\n",
       "      <td>Love my girlfriend</td>\n",
       "      <td>0</td>\n",
       "    </tr>\n",
       "    <tr>\n",
       "      <th>28</th>\n",
       "      <td>40</td>\n",
       "      <td>NaN</td>\n",
       "      <td>NaN</td>\n",
       "      <td>Cooool :)</td>\n",
       "      <td>0</td>\n",
       "    </tr>\n",
       "    <tr>\n",
       "      <th>29</th>\n",
       "      <td>41</td>\n",
       "      <td>NaN</td>\n",
       "      <td>NaN</td>\n",
       "      <td>Do you like pasta?</td>\n",
       "      <td>0</td>\n",
       "    </tr>\n",
       "    <tr>\n",
       "      <th>30</th>\n",
       "      <td>44</td>\n",
       "      <td>NaN</td>\n",
       "      <td>NaN</td>\n",
       "      <td>The end!</td>\n",
       "      <td>0</td>\n",
       "    </tr>\n",
       "    <tr>\n",
       "      <th>31</th>\n",
       "      <td>48</td>\n",
       "      <td>ablaze</td>\n",
       "      <td>Birmingham</td>\n",
       "      <td>@bbcmtd Wholesale Markets ablaze http://t.co/lHYXEOHY6C</td>\n",
       "      <td>1</td>\n",
       "    </tr>\n",
       "    <tr>\n",
       "      <th>32</th>\n",
       "      <td>49</td>\n",
       "      <td>ablaze</td>\n",
       "      <td>Est. September 2012 - Bristol</td>\n",
       "      <td>We always try to bring the heavy. #metal #RT http://t.co/YAo1e0xngw</td>\n",
       "      <td>0</td>\n",
       "    </tr>\n",
       "    <tr>\n",
       "      <th>33</th>\n",
       "      <td>50</td>\n",
       "      <td>ablaze</td>\n",
       "      <td>AFRICA</td>\n",
       "      <td>#AFRICANBAZE: Breaking news:Nigeria flag set ablaze in Aba. http://t.co/2nndBGwyEi</td>\n",
       "      <td>1</td>\n",
       "    </tr>\n",
       "    <tr>\n",
       "      <th>34</th>\n",
       "      <td>52</td>\n",
       "      <td>ablaze</td>\n",
       "      <td>Philadelphia, PA</td>\n",
       "      <td>Crying out for more! Set me ablaze</td>\n",
       "      <td>0</td>\n",
       "    </tr>\n",
       "    <tr>\n",
       "      <th>35</th>\n",
       "      <td>53</td>\n",
       "      <td>ablaze</td>\n",
       "      <td>London, UK</td>\n",
       "      <td>On plus side LOOK AT THE SKY LAST NIGHT IT WAS ABLAZE http://t.co/qqsmshaJ3N</td>\n",
       "      <td>0</td>\n",
       "    </tr>\n",
       "    <tr>\n",
       "      <th>36</th>\n",
       "      <td>54</td>\n",
       "      <td>ablaze</td>\n",
       "      <td>Pretoria</td>\n",
       "      <td>@PhDSquares #mufc they've built so much hype around new acquisitions but I doubt they will set the EPL ablaze this season.</td>\n",
       "      <td>0</td>\n",
       "    </tr>\n",
       "    <tr>\n",
       "      <th>37</th>\n",
       "      <td>55</td>\n",
       "      <td>ablaze</td>\n",
       "      <td>World Wide!!</td>\n",
       "      <td>INEC Office in Abia Set Ablaze - http://t.co/3ImaomknnA</td>\n",
       "      <td>1</td>\n",
       "    </tr>\n",
       "    <tr>\n",
       "      <th>38</th>\n",
       "      <td>56</td>\n",
       "      <td>ablaze</td>\n",
       "      <td>NaN</td>\n",
       "      <td>Barbados #Bridgetown JAMAICA ÛÒ Two cars set ablaze: SANTA CRUZ ÛÓ Head of the St Elizabeth Police Superintende...  http://t.co/wDUEaj8Q4J</td>\n",
       "      <td>1</td>\n",
       "    </tr>\n",
       "    <tr>\n",
       "      <th>39</th>\n",
       "      <td>57</td>\n",
       "      <td>ablaze</td>\n",
       "      <td>Paranaque City</td>\n",
       "      <td>Ablaze for you Lord :D</td>\n",
       "      <td>0</td>\n",
       "    </tr>\n",
       "    <tr>\n",
       "      <th>40</th>\n",
       "      <td>59</td>\n",
       "      <td>ablaze</td>\n",
       "      <td>Live On Webcam</td>\n",
       "      <td>Check these out: http://t.co/rOI2NSmEJJ http://t.co/3Tj8ZjiN21 http://t.co/YDUiXEfIpE http://t.co/LxTjc87KLS #nsfw</td>\n",
       "      <td>0</td>\n",
       "    </tr>\n",
       "    <tr>\n",
       "      <th>41</th>\n",
       "      <td>61</td>\n",
       "      <td>ablaze</td>\n",
       "      <td>NaN</td>\n",
       "      <td>on the outside you're ablaze and alive\\nbut you're dead inside</td>\n",
       "      <td>0</td>\n",
       "    </tr>\n",
       "    <tr>\n",
       "      <th>42</th>\n",
       "      <td>62</td>\n",
       "      <td>ablaze</td>\n",
       "      <td>milky way</td>\n",
       "      <td>Had an awesome time visiting the CFC head office the ancop site and ablaze. Thanks to Tita Vida for taking care of us ??</td>\n",
       "      <td>0</td>\n",
       "    </tr>\n",
       "    <tr>\n",
       "      <th>43</th>\n",
       "      <td>63</td>\n",
       "      <td>ablaze</td>\n",
       "      <td>NaN</td>\n",
       "      <td>SOOOO PUMPED FOR ABLAZE ???? @southridgelife</td>\n",
       "      <td>0</td>\n",
       "    </tr>\n",
       "    <tr>\n",
       "      <th>44</th>\n",
       "      <td>64</td>\n",
       "      <td>ablaze</td>\n",
       "      <td>NaN</td>\n",
       "      <td>I wanted to set Chicago ablaze with my preaching... But not my hotel! http://t.co/o9qknbfOFX</td>\n",
       "      <td>0</td>\n",
       "    </tr>\n",
       "    <tr>\n",
       "      <th>45</th>\n",
       "      <td>65</td>\n",
       "      <td>ablaze</td>\n",
       "      <td>NaN</td>\n",
       "      <td>I gained 3 followers in the last week. You? Know your stats and grow with http://t.co/TIyUliF5c6</td>\n",
       "      <td>0</td>\n",
       "    </tr>\n",
       "    <tr>\n",
       "      <th>46</th>\n",
       "      <td>66</td>\n",
       "      <td>ablaze</td>\n",
       "      <td>GREENSBORO,NORTH CAROLINA</td>\n",
       "      <td>How the West was burned: Thousands of wildfires ablaze in California alone http://t.co/vl5TBR3wbr</td>\n",
       "      <td>1</td>\n",
       "    </tr>\n",
       "    <tr>\n",
       "      <th>47</th>\n",
       "      <td>67</td>\n",
       "      <td>ablaze</td>\n",
       "      <td>NaN</td>\n",
       "      <td>Building the perfect tracklist to life leave the streets ablaze</td>\n",
       "      <td>0</td>\n",
       "    </tr>\n",
       "    <tr>\n",
       "      <th>48</th>\n",
       "      <td>68</td>\n",
       "      <td>ablaze</td>\n",
       "      <td>Live On Webcam</td>\n",
       "      <td>Check these out: http://t.co/rOI2NSmEJJ http://t.co/3Tj8ZjiN21 http://t.co/YDUiXEfIpE http://t.co/LxTjc87KLS #nsfw</td>\n",
       "      <td>0</td>\n",
       "    </tr>\n",
       "    <tr>\n",
       "      <th>49</th>\n",
       "      <td>71</td>\n",
       "      <td>ablaze</td>\n",
       "      <td>England.</td>\n",
       "      <td>First night with retainers in. It's quite weird. Better get used to it; I have to wear them every single night for the next year at least.</td>\n",
       "      <td>0</td>\n",
       "    </tr>\n",
       "  </tbody>\n",
       "</table>\n",
       "</div>"
      ],
      "text/plain": [
       "    id keyword                       location  \\\n",
       "0    1     NaN                            NaN   \n",
       "1    4     NaN                            NaN   \n",
       "2    5     NaN                            NaN   \n",
       "3    6     NaN                            NaN   \n",
       "4    7     NaN                            NaN   \n",
       "5    8     NaN                            NaN   \n",
       "6   10     NaN                            NaN   \n",
       "7   13     NaN                            NaN   \n",
       "8   14     NaN                            NaN   \n",
       "9   15     NaN                            NaN   \n",
       "10  16     NaN                            NaN   \n",
       "11  17     NaN                            NaN   \n",
       "12  18     NaN                            NaN   \n",
       "13  19     NaN                            NaN   \n",
       "14  20     NaN                            NaN   \n",
       "15  23     NaN                            NaN   \n",
       "16  24     NaN                            NaN   \n",
       "17  25     NaN                            NaN   \n",
       "18  26     NaN                            NaN   \n",
       "19  28     NaN                            NaN   \n",
       "20  31     NaN                            NaN   \n",
       "21  32     NaN                            NaN   \n",
       "22  33     NaN                            NaN   \n",
       "23  34     NaN                            NaN   \n",
       "24  36     NaN                            NaN   \n",
       "25  37     NaN                            NaN   \n",
       "26  38     NaN                            NaN   \n",
       "27  39     NaN                            NaN   \n",
       "28  40     NaN                            NaN   \n",
       "29  41     NaN                            NaN   \n",
       "30  44     NaN                            NaN   \n",
       "31  48  ablaze                     Birmingham   \n",
       "32  49  ablaze  Est. September 2012 - Bristol   \n",
       "33  50  ablaze                         AFRICA   \n",
       "34  52  ablaze               Philadelphia, PA   \n",
       "35  53  ablaze                     London, UK   \n",
       "36  54  ablaze                       Pretoria   \n",
       "37  55  ablaze                   World Wide!!   \n",
       "38  56  ablaze                            NaN   \n",
       "39  57  ablaze                 Paranaque City   \n",
       "40  59  ablaze                 Live On Webcam   \n",
       "41  61  ablaze                            NaN   \n",
       "42  62  ablaze                      milky way   \n",
       "43  63  ablaze                            NaN   \n",
       "44  64  ablaze                            NaN   \n",
       "45  65  ablaze                            NaN   \n",
       "46  66  ablaze      GREENSBORO,NORTH CAROLINA   \n",
       "47  67  ablaze                            NaN   \n",
       "48  68  ablaze                 Live On Webcam   \n",
       "49  71  ablaze                       England.   \n",
       "\n",
       "                                                                                                                                            text  \\\n",
       "0                                                                          Our Deeds are the Reason of this #earthquake May ALLAH Forgive us all   \n",
       "1                                                                                                         Forest fire near La Ronge Sask. Canada   \n",
       "2          All residents asked to 'shelter in place' are being notified by officers. No other evacuation or shelter in place orders are expected   \n",
       "3                                                                              13,000 people receive #wildfires evacuation orders in California    \n",
       "4                                                       Just got sent this photo from Ruby #Alaska as smoke from #wildfires pours into a school    \n",
       "5                                 #RockyFire Update => California Hwy. 20 closed in both directions due to Lake County fire - #CAfire #wildfires   \n",
       "6                                                #flood #disaster Heavy rain causes flash flooding of streets in Manitou, Colorado Springs areas   \n",
       "7                                                                                    I'm on top of the hill and I can see a fire in the woods...   \n",
       "8                                                                There's an emergency evacuation happening now in the building across the street   \n",
       "9                                                                                           I'm afraid that the tornado is coming to our area...   \n",
       "10                                                                                                   Three people died from the heat wave so far   \n",
       "11             Haha South Tampa is getting flooded hah- WAIT A SECOND I LIVE IN SOUTH TAMPA WHAT AM I GONNA DO WHAT AM I GONNA DO FVCK #flooding   \n",
       "12                                                                  #raining #flooding #Florida #TampaBay #Tampa 18 or 19 days. I've lost count    \n",
       "13                                                                                                       #Flood in Bago Myanmar #We arrived Bago   \n",
       "14                                                                                      Damage to school bus on 80 in multi car crash #BREAKING    \n",
       "15                                                                                                                                What's up man?   \n",
       "16                                                                                                                                 I love fruits   \n",
       "17                                                                                                                              Summer is lovely   \n",
       "18                                                                                                                             My car is so fast   \n",
       "19                                                                                                                  What a goooooooaaaaaal!!!!!!   \n",
       "20                                                                                                                        this is ridiculous....   \n",
       "21                                                                                                                             London is cool ;)   \n",
       "22                                                                                                                                   Love skiing   \n",
       "23                                                                                                                         What a wonderful day!   \n",
       "24                                                                                                                                      LOOOOOOL   \n",
       "25                                                                                                                No way...I can't eat that shit   \n",
       "26                                                                                                                         Was in NYC last week!   \n",
       "27                                                                                                                            Love my girlfriend   \n",
       "28                                                                                                                                     Cooool :)   \n",
       "29                                                                                                                            Do you like pasta?   \n",
       "30                                                                                                                                      The end!   \n",
       "31                                                                                       @bbcmtd Wholesale Markets ablaze http://t.co/lHYXEOHY6C   \n",
       "32                                                                           We always try to bring the heavy. #metal #RT http://t.co/YAo1e0xngw   \n",
       "33                                                            #AFRICANBAZE: Breaking news:Nigeria flag set ablaze in Aba. http://t.co/2nndBGwyEi   \n",
       "34                                                                                                            Crying out for more! Set me ablaze   \n",
       "35                                                                  On plus side LOOK AT THE SKY LAST NIGHT IT WAS ABLAZE http://t.co/qqsmshaJ3N   \n",
       "36                    @PhDSquares #mufc they've built so much hype around new acquisitions but I doubt they will set the EPL ablaze this season.   \n",
       "37                                                                                       INEC Office in Abia Set Ablaze - http://t.co/3ImaomknnA   \n",
       "38  Barbados #Bridgetown JAMAICA ÛÒ Two cars set ablaze: SANTA CRUZ ÛÓ Head of the St Elizabeth Police Superintende...  http://t.co/wDUEaj8Q4J   \n",
       "39                                                                                                                        Ablaze for you Lord :D   \n",
       "40                            Check these out: http://t.co/rOI2NSmEJJ http://t.co/3Tj8ZjiN21 http://t.co/YDUiXEfIpE http://t.co/LxTjc87KLS #nsfw   \n",
       "41                                                                                on the outside you're ablaze and alive\\nbut you're dead inside   \n",
       "42                      Had an awesome time visiting the CFC head office the ancop site and ablaze. Thanks to Tita Vida for taking care of us ??   \n",
       "43                                                                                                  SOOOO PUMPED FOR ABLAZE ???? @southridgelife   \n",
       "44                                                  I wanted to set Chicago ablaze with my preaching... But not my hotel! http://t.co/o9qknbfOFX   \n",
       "45                                              I gained 3 followers in the last week. You? Know your stats and grow with http://t.co/TIyUliF5c6   \n",
       "46                                             How the West was burned: Thousands of wildfires ablaze in California alone http://t.co/vl5TBR3wbr   \n",
       "47                                                                               Building the perfect tracklist to life leave the streets ablaze   \n",
       "48                            Check these out: http://t.co/rOI2NSmEJJ http://t.co/3Tj8ZjiN21 http://t.co/YDUiXEfIpE http://t.co/LxTjc87KLS #nsfw   \n",
       "49    First night with retainers in. It's quite weird. Better get used to it; I have to wear them every single night for the next year at least.   \n",
       "\n",
       "    target  \n",
       "0        1  \n",
       "1        1  \n",
       "2        1  \n",
       "3        1  \n",
       "4        1  \n",
       "5        1  \n",
       "6        1  \n",
       "7        1  \n",
       "8        1  \n",
       "9        1  \n",
       "10       1  \n",
       "11       1  \n",
       "12       1  \n",
       "13       1  \n",
       "14       1  \n",
       "15       0  \n",
       "16       0  \n",
       "17       0  \n",
       "18       0  \n",
       "19       0  \n",
       "20       0  \n",
       "21       0  \n",
       "22       0  \n",
       "23       0  \n",
       "24       0  \n",
       "25       0  \n",
       "26       0  \n",
       "27       0  \n",
       "28       0  \n",
       "29       0  \n",
       "30       0  \n",
       "31       1  \n",
       "32       0  \n",
       "33       1  \n",
       "34       0  \n",
       "35       0  \n",
       "36       0  \n",
       "37       1  \n",
       "38       1  \n",
       "39       0  \n",
       "40       0  \n",
       "41       0  \n",
       "42       0  \n",
       "43       0  \n",
       "44       0  \n",
       "45       0  \n",
       "46       1  \n",
       "47       0  \n",
       "48       0  \n",
       "49       0  "
      ]
     },
     "execution_count": 85,
     "metadata": {},
     "output_type": "execute_result"
    }
   ],
   "source": [
    "# Import training dataset\n",
    "df_train = pd.read_csv('../input/nlp-getting-started/train.csv')\n",
    "df_train.head(50)"
   ]
  },
  {
   "cell_type": "code",
   "execution_count": 54,
   "id": "ce3f7162",
   "metadata": {},
   "outputs": [
    {
     "name": "stdout",
     "output_type": "stream",
     "text": [
      "<class 'pandas.core.frame.DataFrame'>\n",
      "RangeIndex: 7613 entries, 0 to 7612\n",
      "Data columns (total 5 columns):\n",
      " #   Column    Non-Null Count  Dtype \n",
      "---  ------    --------------  ----- \n",
      " 0   id        7613 non-null   int64 \n",
      " 1   keyword   7552 non-null   object\n",
      " 2   location  5080 non-null   object\n",
      " 3   text      7613 non-null   object\n",
      " 4   target    7613 non-null   int64 \n",
      "dtypes: int64(2), object(3)\n",
      "memory usage: 297.5+ KB\n"
     ]
    }
   ],
   "source": [
    "# Info of training dataset\n",
    "df_train.info()"
   ]
  },
  {
   "cell_type": "code",
   "execution_count": 55,
   "id": "cafc0646",
   "metadata": {
    "execution": {
     "iopub.execute_input": "2023-01-26T16:57:00.018640Z",
     "iopub.status.busy": "2023-01-26T16:57:00.018313Z",
     "iopub.status.idle": "2023-01-26T16:57:00.192711Z",
     "shell.execute_reply": "2023-01-26T16:57:00.191412Z"
    },
    "papermill": {
     "duration": 0.183526,
     "end_time": "2023-01-26T16:57:00.195002",
     "exception": false,
     "start_time": "2023-01-26T16:57:00.011476",
     "status": "completed"
    },
    "tags": []
   },
   "outputs": [
    {
     "data": {
      "image/png": "[encoded data removed]",
      "text/plain": [
       "<Figure size 2000x600 with 1 Axes>"
      ]
     },
     "metadata": {},
     "output_type": "display_data"
    }
   ],
   "source": [
    "# Check if data is balanced\n",
    "plt.figure(figsize=(20, 6))\n",
    "sns.countplot(data=df_train['target'])\n",
    "plt.title(\"Target\", fontsize=20)\n",
    "plt.show()"
   ]
  },
  {
   "cell_type": "code",
   "execution_count": 56,
   "id": "c786800d",
   "metadata": {
    "execution": {
     "iopub.execute_input": "2023-01-26T16:57:00.208185Z",
     "iopub.status.busy": "2023-01-26T16:57:00.207673Z",
     "iopub.status.idle": "2023-01-26T16:57:02.121484Z",
     "shell.execute_reply": "2023-01-26T16:57:02.119987Z"
    },
    "papermill": {
     "duration": 1.923054,
     "end_time": "2023-01-26T16:57:02.123668",
     "exception": false,
     "start_time": "2023-01-26T16:57:00.200614",
     "status": "completed"
    },
    "tags": []
   },
   "outputs": [
    {
     "data": {
      "text/plain": [
       "fatalities               45\n",
       "deluge                   42\n",
       "armageddon               42\n",
       "sinking                  41\n",
       "damage                   41\n",
       "                         ..\n",
       "forest%20fire            19\n",
       "epicentre                12\n",
       "threat                   11\n",
       "inundation               10\n",
       "radiation%20emergency     9\n",
       "Name: keyword, Length: 221, dtype: int64"
      ]
     },
     "execution_count": 56,
     "metadata": {},
     "output_type": "execute_result"
    }
   ],
   "source": [
    "# Check different keywords\n",
    "df_train[\"keyword\"].value_counts()"
   ]
  },
  {
   "cell_type": "code",
   "execution_count": 57,
   "id": "ebb05116",
   "metadata": {
    "execution": {
     "iopub.execute_input": "2023-01-26T16:57:02.160589Z",
     "iopub.status.busy": "2023-01-26T16:57:02.159319Z",
     "iopub.status.idle": "2023-01-26T16:57:02.415935Z",
     "shell.execute_reply": "2023-01-26T16:57:02.413639Z"
    },
    "papermill": {
     "duration": 0.267487,
     "end_time": "2023-01-26T16:57:02.418383",
     "exception": false,
     "start_time": "2023-01-26T16:57:02.150896",
     "status": "completed"
    },
    "tags": []
   },
   "outputs": [
    {
     "name": "stdout",
     "output_type": "stream",
     "text": [
      "Disaster found in 0\n",
      "Disaster found in 3\n",
      "Disaster found in 4\n",
      "Disaster found in 5\n",
      "Disaster found in 6\n",
      "Disaster found in 9\n",
      "Disaster found in 11\n",
      "Disaster found in 12\n",
      "Disaster found in 46\n",
      "Disaster found in 59\n",
      "Disaster found in 653\n",
      "Disaster found in 669\n",
      "Disaster found in 1128\n",
      "Disaster found in 1231\n",
      "Disaster found in 1517\n",
      "Disaster found in 1710\n",
      "Disaster found in 2206\n",
      "Disaster found in 2366\n",
      "Disaster found in 2369\n",
      "Disaster found in 2373\n",
      "Disaster found in 2375\n",
      "Disaster found in 2376\n",
      "Disaster found in 2377\n",
      "Disaster found in 2380\n",
      "Disaster found in 2382\n",
      "Disaster found in 2386\n",
      "Disaster found in 2391\n",
      "Disaster found in 2392\n",
      "Disaster found in 2394\n",
      "Disaster found in 2435\n",
      "Disaster found in 2827\n",
      "Disaster found in 2835\n",
      "Disaster found in 2853\n",
      "Disaster found in 2854\n",
      "Disaster found in 2856\n",
      "Disaster found in 2857\n",
      "Disaster found in 2860\n",
      "Disaster found in 2876\n",
      "Disaster found in 2884\n",
      "Disaster found in 2915\n",
      "Disaster found in 3028\n",
      "Disaster found in 3029\n",
      "Disaster found in 3030\n",
      "Disaster found in 3035\n",
      "Disaster found in 3038\n",
      "Disaster found in 3041\n",
      "Disaster found in 3043\n",
      "Disaster found in 3044\n",
      "Disaster found in 3046\n",
      "Disaster found in 3047\n",
      "Disaster found in 3048\n",
      "Disaster found in 3051\n",
      "Disaster found in 3054\n",
      "Disaster found in 3061\n",
      "Disaster found in 3062\n",
      "Disaster found in 3065\n",
      "Disaster found in 3152\n",
      "Disaster found in 3182\n",
      "Disaster found in 3196\n",
      "Disaster found in 3220\n",
      "Disaster found in 3287\n",
      "Disaster found in 3315\n",
      "Disaster found in 3328\n",
      "Disaster found in 3331\n",
      "Disaster found in 3337\n",
      "Disaster found in 3353\n",
      "Disaster found in 3364\n",
      "Disaster found in 3371\n",
      "Disaster found in 3576\n",
      "Disaster found in 3642\n",
      "Disaster found in 3911\n",
      "Disaster found in 3915\n",
      "Disaster found in 3918\n",
      "Disaster found in 3919\n",
      "Disaster found in 3920\n",
      "Disaster found in 3925\n",
      "Disaster found in 3931\n",
      "Disaster found in 3935\n",
      "Disaster found in 3940\n",
      "Disaster found in 3943\n",
      "Disaster found in 3946\n",
      "Disaster found in 3947\n",
      "Disaster found in 3948\n",
      "Disaster found in 3949\n",
      "Disaster found in 3951\n",
      "Disaster found in 3954\n",
      "Disaster found in 3957\n",
      "Disaster found in 3958\n",
      "Disaster found in 3959\n",
      "Disaster found in 3960\n",
      "Disaster found in 3962\n",
      "Disaster found in 3965\n",
      "Disaster found in 3967\n",
      "Disaster found in 3968\n",
      "Disaster found in 3969\n",
      "Disaster found in 3971\n",
      "Disaster found in 3974\n",
      "Disaster found in 3976\n",
      "Disaster found in 3977\n",
      "Disaster found in 3978\n",
      "Disaster found in 3979\n",
      "Disaster found in 3981\n",
      "Disaster found in 3985\n",
      "Disaster found in 3986\n",
      "Disaster found in 3987\n",
      "Disaster found in 3988\n",
      "Disaster found in 3989\n",
      "Disaster found in 3990\n",
      "Disaster found in 3991\n",
      "Disaster found in 3992\n",
      "Disaster found in 3993\n",
      "Disaster found in 3994\n",
      "Disaster found in 3995\n",
      "Disaster found in 3997\n",
      "Disaster found in 3999\n",
      "Disaster found in 4000\n",
      "Disaster found in 4002\n",
      "Disaster found in 4004\n",
      "Disaster found in 4006\n",
      "Disaster found in 4007\n",
      "Disaster found in 4008\n",
      "Disaster found in 4009\n",
      "Disaster found in 4010\n",
      "Disaster found in 4011\n",
      "Disaster found in 4012\n",
      "Disaster found in 4013\n",
      "Disaster found in 4014\n",
      "Disaster found in 4015\n",
      "Disaster found in 4016\n",
      "Disaster found in 4018\n",
      "Disaster found in 4019\n",
      "Disaster found in 4040\n",
      "Disaster found in 4043\n",
      "Disaster found in 4049\n",
      "Disaster found in 4064\n",
      "Disaster found in 4127\n",
      "Disaster found in 4269\n",
      "Disaster found in 4489\n",
      "Disaster found in 4490\n",
      "Disaster found in 4493\n",
      "Disaster found in 4499\n",
      "Disaster found in 4501\n",
      "Disaster found in 4504\n",
      "Disaster found in 4507\n",
      "Disaster found in 4508\n",
      "Disaster found in 4512\n",
      "Disaster found in 4514\n",
      "Disaster found in 4515\n",
      "Disaster found in 4520\n",
      "Disaster found in 4523\n",
      "Disaster found in 4526\n",
      "Disaster found in 4652\n",
      "Disaster found in 4672\n",
      "Disaster found in 4701\n",
      "Disaster found in 4752\n",
      "Disaster found in 5568\n",
      "Disaster found in 5572\n",
      "Disaster found in 5581\n",
      "Disaster found in 5582\n",
      "Disaster found in 5585\n",
      "Disaster found in 5589\n",
      "Disaster found in 5590\n",
      "Disaster found in 5591\n",
      "Disaster found in 5593\n",
      "Disaster found in 5594\n",
      "Disaster found in 5599\n",
      "Disaster found in 5600\n",
      "Disaster found in 5601\n",
      "Disaster found in 5607\n",
      "Disaster found in 5608\n",
      "Disaster found in 5609\n",
      "Disaster found in 5610\n",
      "Disaster found in 5672\n",
      "Disaster found in 5686\n",
      "Disaster found in 5737\n",
      "Disaster found in 6024\n",
      "Disaster found in 6154\n",
      "Disaster found in 6161\n",
      "Disaster found in 6741\n",
      "Disaster found in 6742\n",
      "Disaster found in 6743\n",
      "Disaster found in 6748\n",
      "Disaster found in 6750\n",
      "Disaster found in 6753\n",
      "Disaster found in 6754\n",
      "Disaster found in 6755\n",
      "Disaster found in 6756\n",
      "Disaster found in 6757\n",
      "Disaster found in 6758\n",
      "Disaster found in 6759\n",
      "Disaster found in 6763\n",
      "Disaster found in 6765\n",
      "Disaster found in 6768\n",
      "Disaster found in 6769\n",
      "Disaster found in 6771\n",
      "Disaster found in 6772\n",
      "Disaster found in 6773\n",
      "Disaster found in 6790\n",
      "Disaster found in 6944\n",
      "Disaster found in 6948\n",
      "Disaster found in 6950\n",
      "Disaster found in 6951\n",
      "Disaster found in 6954\n",
      "Disaster found in 6956\n",
      "Disaster found in 6957\n",
      "Disaster found in 6960\n",
      "Disaster found in 6962\n",
      "Disaster found in 6964\n",
      "Disaster found in 6965\n",
      "Disaster found in 6967\n",
      "Disaster found in 6968\n",
      "Disaster found in 6969\n",
      "Disaster found in 6970\n",
      "Disaster found in 6972\n",
      "Disaster found in 6973\n",
      "Disaster found in 7122\n",
      "Disaster found in 7131\n",
      "Disaster found in 7135\n",
      "Disaster found in 7142\n",
      "Disaster found in 7150\n",
      "Disaster found in 7306\n",
      "Disaster found in 7310\n",
      "Disaster found in 7325\n",
      "Disaster found in 7326\n",
      "Disaster found in 7331\n",
      "Disaster found in 7335\n",
      "Disaster found in 7338\n",
      "Disaster found in 7340\n",
      "Disaster found in 7343\n",
      "Disaster found in 7346\n",
      "Disaster found in 7348\n",
      "Disaster found in 7350\n",
      "Disaster found in 7351\n",
      "Disaster found in 7354\n",
      "Disaster found in 7357\n",
      "Disaster found in 7589\n",
      "Disaster found in 7602\n"
     ]
    }
   ],
   "source": [
    "# Try to find disasters based on some key words\n",
    "for i in range(len(df_train['text'])):\n",
    "    if 'earthquake' in df_train['text'][i] or 'hurricane' in df_train['text'][i] or 'flood' in df_train['text'][i] or 'tsunami' in df_train['text'][i] or 'tornado' in df_train['text'][i] or 'wildfire' in df_train['text'][i]:\n",
    "        print('Disaster found in ' + str(i))"
   ]
  },
  {
   "cell_type": "code",
   "execution_count": 86,
   "id": "951d714c",
   "metadata": {
    "execution": {
     "iopub.execute_input": "2023-01-26T16:57:02.433218Z",
     "iopub.status.busy": "2023-01-26T16:57:02.432870Z",
     "iopub.status.idle": "2023-01-26T16:57:02.997405Z",
     "shell.execute_reply": "2023-01-26T16:57:02.995694Z"
    },
    "papermill": {
     "duration": 0.574719,
     "end_time": "2023-01-26T16:57:03.000007",
     "exception": false,
     "start_time": "2023-01-26T16:57:02.425288",
     "status": "completed"
    },
    "tags": []
   },
   "outputs": [
    {
     "name": "stdout",
     "output_type": "stream",
     "text": [
      "Hashtag found in 0\n",
      "Hashtag found in 6\n",
      "Hashtag found in 1666\n",
      "Hashtag found in 1851\n",
      "Hashtag found in 2179\n",
      "Hashtag found in 2788\n",
      "Hashtag found in 3028\n",
      "Hashtag found in 3038\n",
      "Hashtag found in 3046\n",
      "Hashtag found in 3061\n",
      "Hashtag found in 3150\n",
      "Hashtag found in 3162\n",
      "Hashtag found in 3771\n",
      "Hashtag found in 3793\n",
      "Hashtag found in 3974\n",
      "Hashtag found in 3997\n",
      "Hashtag found in 5018\n",
      "Hashtag found in 5086\n",
      "Hashtag found in 5542\n",
      "Hashtag found in 6024\n",
      "Hashtag found in 6735\n",
      "Hashtag found in 6951\n",
      "Hashtag found in 6956\n",
      "Hashtag found in 7131\n",
      "Hashtag found in 7135\n",
      "Hashtag found in 7298\n",
      "Hashtag found in 7350\n",
      "Hashtag found in 7373\n"
     ]
    }
   ],
   "source": [
    "# Try to find disasters based on some hashtags\n",
    "for i in range(len(df_train['text'])):\n",
    "    if '#disaster' in df_train['text'][i] or '#nature' in df_train['text'][i] or '#tsunami' in df_train['text'][i] or '#covid' in df_train['text'][i] or '#earthquake' in df_train['text'][i] or '#naturaldisaster' in df_train['text'][i] or '#disasterrelief' in df_train['text'][i] or '#gempabumi' in df_train['text'][i] or '#emergency' in df_train['text'][i] or '#fire' in df_train['text'][i] or '#love' in df_train['text'][i] or '#disastermanagement' in df_train['text'][i] or '#bencanaalarm' in df_train['text'][i]:\n",
    "        print('Hashtag found in ' + str(i))"
   ]
  },
  {
   "cell_type": "code",
   "execution_count": 59,
   "id": "86091386",
   "metadata": {
    "execution": {
     "iopub.execute_input": "2023-01-26T16:57:03.015289Z",
     "iopub.status.busy": "2023-01-26T16:57:03.014947Z",
     "iopub.status.idle": "2023-01-26T16:57:03.020838Z",
     "shell.execute_reply": "2023-01-26T16:57:03.019169Z"
    },
    "papermill": {
     "duration": 0.016236,
     "end_time": "2023-01-26T16:57:03.023303",
     "exception": false,
     "start_time": "2023-01-26T16:57:03.007067",
     "status": "completed"
    },
    "tags": []
   },
   "outputs": [],
   "source": [
    "hashtags = re.sub(\" \",',',\"#disaster #nature #tsunami #covid #earthquake #naturaldisaster #disasterrelief #flood #bencana #indonesia #disasterpreparedness #gempabumi #emergency #fire #love #disastermanagement #bencanaalam #hurricane #disasterrecovery #help #earth #gempa #bhfyp #life #disasterresponse #climatechange #disasters #tsunamipalu #viral #world\")"
   ]
  },
  {
   "cell_type": "code",
   "execution_count": 60,
   "id": "135661ef",
   "metadata": {
    "execution": {
     "iopub.execute_input": "2023-01-26T16:57:03.038819Z",
     "iopub.status.busy": "2023-01-26T16:57:03.037851Z",
     "iopub.status.idle": "2023-01-26T16:57:03.043578Z",
     "shell.execute_reply": "2023-01-26T16:57:03.042408Z"
    },
    "papermill": {
     "duration": 0.01566,
     "end_time": "2023-01-26T16:57:03.045716",
     "exception": false,
     "start_time": "2023-01-26T16:57:03.030056",
     "status": "completed"
    },
    "tags": []
   },
   "outputs": [
    {
     "name": "stdout",
     "output_type": "stream",
     "text": [
      "#disaster\n"
     ]
    }
   ],
   "source": [
    "print(hashtags.split(',')[0])\n",
    "    "
   ]
  },
  {
   "cell_type": "code",
   "execution_count": 61,
   "id": "3ab386a6",
   "metadata": {
    "execution": {
     "iopub.execute_input": "2023-01-26T16:57:03.062192Z",
     "iopub.status.busy": "2023-01-26T16:57:03.061853Z",
     "iopub.status.idle": "2023-01-26T16:57:03.067554Z",
     "shell.execute_reply": "2023-01-26T16:57:03.066284Z"
    },
    "papermill": {
     "duration": 0.016316,
     "end_time": "2023-01-26T16:57:03.069586",
     "exception": false,
     "start_time": "2023-01-26T16:57:03.053270",
     "status": "completed"
    },
    "tags": []
   },
   "outputs": [
    {
     "name": "stdout",
     "output_type": "stream",
     "text": [
      "#\n"
     ]
    }
   ],
   "source": [
    "print(hashtags[0])"
   ]
  },
  {
   "cell_type": "code",
   "execution_count": 62,
   "id": "e6a16212",
   "metadata": {
    "execution": {
     "iopub.execute_input": "2023-01-26T16:57:03.084158Z",
     "iopub.status.busy": "2023-01-26T16:57:03.083839Z",
     "iopub.status.idle": "2023-01-26T16:57:03.089665Z",
     "shell.execute_reply": "2023-01-26T16:57:03.087998Z"
    },
    "papermill": {
     "duration": 0.015529,
     "end_time": "2023-01-26T16:57:03.091821",
     "exception": false,
     "start_time": "2023-01-26T16:57:03.076292",
     "status": "completed"
    },
    "tags": []
   },
   "outputs": [],
   "source": [
    "hashtags2 = re.sub(\" \",',',\"#banjir #photography #chernobyl #storm #water #likuifaksi #floods #india #megatsunami #waterdamage #instagram #tsunamiwarning #gunungmeletus #bmkg #art #longsor #tornado #siagabencana #tsunamiaceh #terremoto #coronavirus #emergencypreparedness #rain #survival #news #safety #bnpb #rescue #history #flooding\")"
   ]
  },
  {
   "cell_type": "code",
   "execution_count": 63,
   "id": "6d1ce1d4",
   "metadata": {
    "execution": {
     "iopub.execute_input": "2023-01-26T16:57:03.106747Z",
     "iopub.status.busy": "2023-01-26T16:57:03.106413Z",
     "iopub.status.idle": "2023-01-26T16:57:03.177628Z",
     "shell.execute_reply": "2023-01-26T16:57:03.176519Z"
    },
    "papermill": {
     "duration": 0.080938,
     "end_time": "2023-01-26T16:57:03.179699",
     "exception": false,
     "start_time": "2023-01-26T16:57:03.098761",
     "status": "completed"
    },
    "tags": []
   },
   "outputs": [],
   "source": [
    "k=0\n",
    "hashtags_disaster = []\n",
    "for i in hashtags.split(','):\n",
    "    for j in df_train['text']:\n",
    "        if i in j:\n",
    "            hashtags_disaster.append(k)\n",
    "        k=k+1\n",
    "    "
   ]
  },
  {
   "cell_type": "code",
   "execution_count": 64,
   "id": "a245eaf2",
   "metadata": {
    "execution": {
     "iopub.execute_input": "2023-01-26T16:57:03.193534Z",
     "iopub.status.busy": "2023-01-26T16:57:03.193256Z",
     "iopub.status.idle": "2023-01-26T16:57:03.240708Z",
     "shell.execute_reply": "2023-01-26T16:57:03.239787Z"
    },
    "papermill": {
     "duration": 0.056917,
     "end_time": "2023-01-26T16:57:03.243082",
     "exception": false,
     "start_time": "2023-01-26T16:57:03.186165",
     "status": "completed"
    },
    "tags": []
   },
   "outputs": [],
   "source": [
    "disaster = []\n",
    "for i in range(len(df_train['text'])):\n",
    "    if df_train['target'][i]==1:\n",
    "        disaster.append(i)"
   ]
  },
  {
   "cell_type": "code",
   "execution_count": 65,
   "id": "70b65693",
   "metadata": {
    "execution": {
     "iopub.execute_input": "2023-01-26T16:57:03.258284Z",
     "iopub.status.busy": "2023-01-26T16:57:03.257916Z",
     "iopub.status.idle": "2023-01-26T16:57:03.265768Z",
     "shell.execute_reply": "2023-01-26T16:57:03.264318Z"
    },
    "papermill": {
     "duration": 0.01955,
     "end_time": "2023-01-26T16:57:03.269395",
     "exception": false,
     "start_time": "2023-01-26T16:57:03.249845",
     "status": "completed"
    },
    "tags": []
   },
   "outputs": [],
   "source": [
    "overlap_disaster = []\n",
    "for i in disaster:\n",
    "    if i in hashtags_disaster:\n",
    "        overlap_disaster.append(i)\n",
    "        "
   ]
  },
  {
   "cell_type": "code",
   "execution_count": 66,
   "id": "2a283617",
   "metadata": {
    "execution": {
     "iopub.execute_input": "2023-01-26T16:57:03.284860Z",
     "iopub.status.busy": "2023-01-26T16:57:03.284496Z",
     "iopub.status.idle": "2023-01-26T16:57:03.291814Z",
     "shell.execute_reply": "2023-01-26T16:57:03.290851Z"
    },
    "papermill": {
     "duration": 0.01803,
     "end_time": "2023-01-26T16:57:03.294292",
     "exception": false,
     "start_time": "2023-01-26T16:57:03.276262",
     "status": "completed"
    },
    "tags": []
   },
   "outputs": [
    {
     "data": {
      "text/plain": [
       "65"
      ]
     },
     "execution_count": 66,
     "metadata": {},
     "output_type": "execute_result"
    }
   ],
   "source": [
    "len(hashtags_disaster)"
   ]
  },
  {
   "cell_type": "code",
   "execution_count": 67,
   "id": "724c3140",
   "metadata": {
    "execution": {
     "iopub.execute_input": "2023-01-26T16:57:03.310046Z",
     "iopub.status.busy": "2023-01-26T16:57:03.309716Z",
     "iopub.status.idle": "2023-01-26T16:57:03.314546Z",
     "shell.execute_reply": "2023-01-26T16:57:03.313971Z"
    },
    "papermill": {
     "duration": 0.01505,
     "end_time": "2023-01-26T16:57:03.316450",
     "exception": false,
     "start_time": "2023-01-26T16:57:03.301400",
     "status": "completed"
    },
    "tags": []
   },
   "outputs": [
    {
     "data": {
      "text/plain": [
       "6"
      ]
     },
     "execution_count": 67,
     "metadata": {},
     "output_type": "execute_result"
    }
   ],
   "source": [
    "len(overlap_disaster)"
   ]
  },
  {
   "cell_type": "code",
   "execution_count": 68,
   "id": "aa2fa485",
   "metadata": {
    "execution": {
     "iopub.execute_input": "2023-01-26T16:57:03.331541Z",
     "iopub.status.busy": "2023-01-26T16:57:03.331242Z",
     "iopub.status.idle": "2023-01-26T16:57:03.339334Z",
     "shell.execute_reply": "2023-01-26T16:57:03.338159Z"
    },
    "papermill": {
     "duration": 0.018649,
     "end_time": "2023-01-26T16:57:03.342156",
     "exception": false,
     "start_time": "2023-01-26T16:57:03.323507",
     "status": "completed"
    },
    "tags": []
   },
   "outputs": [
    {
     "data": {
      "text/plain": [
       "[2]"
      ]
     },
     "execution_count": 68,
     "metadata": {},
     "output_type": "execute_result"
    }
   ],
   "source": [
    "my_list = [1, 2, 3]\n",
    "[i for i in my_list if i==2]"
   ]
  },
  {
   "cell_type": "code",
   "execution_count": 69,
   "id": "33762665",
   "metadata": {
    "execution": {
     "iopub.execute_input": "2023-01-26T16:57:03.358272Z",
     "iopub.status.busy": "2023-01-26T16:57:03.357936Z",
     "iopub.status.idle": "2023-01-26T16:57:03.367458Z",
     "shell.execute_reply": "2023-01-26T16:57:03.366404Z"
    },
    "papermill": {
     "duration": 0.020003,
     "end_time": "2023-01-26T16:57:03.369444",
     "exception": false,
     "start_time": "2023-01-26T16:57:03.349441",
     "status": "completed"
    },
    "tags": []
   },
   "outputs": [
    {
     "data": {
      "text/plain": [
       "array(['Our Deeds are the Reason of this #earthquake May ALLAH Forgive us all',\n",
       "       'Forest fire near La Ronge Sask. Canada',\n",
       "       \"All residents asked to 'shelter in place' are being notified by officers. No other evacuation or shelter in place orders are expected\",\n",
       "       ...,\n",
       "       'Suicide bomber kills 15 in Saudi security site mosque - Reuters via World - Google News - Wall ... http://t.co/nF4IculOje',\n",
       "       'Two giant cranes holding a bridge collapse into nearby homes http://t.co/STfMbbZFB5',\n",
       "       'The Latest: More Homes Razed by Northern California Wildfire - ABC News http://t.co/YmY4rSkQ3d'],\n",
       "      dtype=object)"
      ]
     },
     "execution_count": 69,
     "metadata": {},
     "output_type": "execute_result"
    }
   ],
   "source": [
    "#df_train['text'].values.tolist()\n",
    "df_train['text'].unique()"
   ]
  },
  {
   "cell_type": "code",
   "execution_count": 70,
   "id": "cef0063d",
   "metadata": {
    "execution": {
     "iopub.execute_input": "2023-01-26T16:57:03.385217Z",
     "iopub.status.busy": "2023-01-26T16:57:03.384857Z",
     "iopub.status.idle": "2023-01-26T16:57:03.391660Z",
     "shell.execute_reply": "2023-01-26T16:57:03.390230Z"
    },
    "papermill": {
     "duration": 0.017402,
     "end_time": "2023-01-26T16:57:03.393884",
     "exception": false,
     "start_time": "2023-01-26T16:57:03.376482",
     "status": "completed"
    },
    "tags": []
   },
   "outputs": [],
   "source": [
    "df_train.sort_values(by=\"target\", ascending=False, inplace=True)"
   ]
  },
  {
   "cell_type": "code",
   "execution_count": 71,
   "id": "80b91d8a",
   "metadata": {
    "execution": {
     "iopub.execute_input": "2023-01-26T16:57:03.410014Z",
     "iopub.status.busy": "2023-01-26T16:57:03.409686Z",
     "iopub.status.idle": "2023-01-26T16:57:03.420979Z",
     "shell.execute_reply": "2023-01-26T16:57:03.420304Z"
    },
    "papermill": {
     "duration": 0.020826,
     "end_time": "2023-01-26T16:57:03.422523",
     "exception": false,
     "start_time": "2023-01-26T16:57:03.401697",
     "status": "completed"
    },
    "tags": []
   },
   "outputs": [
    {
     "data": {
      "text/html": [
       "<div>\n",
       "<style scoped>\n",
       "    .dataframe tbody tr th:only-of-type {\n",
       "        vertical-align: middle;\n",
       "    }\n",
       "\n",
       "    .dataframe tbody tr th {\n",
       "        vertical-align: top;\n",
       "    }\n",
       "\n",
       "    .dataframe thead th {\n",
       "        text-align: right;\n",
       "    }\n",
       "</style>\n",
       "<table border=\"1\" class=\"dataframe\">\n",
       "  <thead>\n",
       "    <tr style=\"text-align: right;\">\n",
       "      <th></th>\n",
       "      <th>id</th>\n",
       "      <th>keyword</th>\n",
       "      <th>location</th>\n",
       "      <th>text</th>\n",
       "      <th>target</th>\n",
       "    </tr>\n",
       "  </thead>\n",
       "  <tbody>\n",
       "    <tr>\n",
       "      <th>0</th>\n",
       "      <td>1</td>\n",
       "      <td>NaN</td>\n",
       "      <td>NaN</td>\n",
       "      <td>Our Deeds are the Reason of this #earthquake May ALLAH Forgive us all</td>\n",
       "      <td>1</td>\n",
       "    </tr>\n",
       "    <tr>\n",
       "      <th>4069</th>\n",
       "      <td>5783</td>\n",
       "      <td>forest%20fires</td>\n",
       "      <td>NaN</td>\n",
       "      <td>When ur friend and u are talking about forest fires in a forest and he tells u to drop ur mix tape out there... #straightfire</td>\n",
       "      <td>1</td>\n",
       "    </tr>\n",
       "    <tr>\n",
       "      <th>4067</th>\n",
       "      <td>5780</td>\n",
       "      <td>forest%20fires</td>\n",
       "      <td>Lansdale,Pennsylvania</td>\n",
       "      <td>U.S. Forest Service says spending more than half of budget on fires: By Ian SimpsonÛ_ http://t.co/UyYYrKd6q3</td>\n",
       "      <td>1</td>\n",
       "    </tr>\n",
       "    <tr>\n",
       "      <th>4066</th>\n",
       "      <td>5778</td>\n",
       "      <td>forest%20fires</td>\n",
       "      <td>Vancouver, BC</td>\n",
       "      <td>Forest fires could delay @AbbyAirshow but officials say it could be a good thing http://t.co/Vxjcx8uKMd</td>\n",
       "      <td>1</td>\n",
       "    </tr>\n",
       "    <tr>\n",
       "      <th>4065</th>\n",
       "      <td>5777</td>\n",
       "      <td>forest%20fires</td>\n",
       "      <td>Portland, Oregon</td>\n",
       "      <td>Inciweb OR Update:  Rogue River-Siskiyou National Forest Fires  8/5/15 12:00 PM (Rogue River-Siskiyou NF AreaÛ_ http://t.co/LkwxU8QV7n</td>\n",
       "      <td>1</td>\n",
       "    </tr>\n",
       "    <tr>\n",
       "      <th>4064</th>\n",
       "      <td>5776</td>\n",
       "      <td>forest%20fires</td>\n",
       "      <td>Based in CA - Serve Nationwide</td>\n",
       "      <td>Property losses from northern California wildfire nearly double http://t.co/oTfW5SEkD7 via @YahooNews</td>\n",
       "      <td>1</td>\n",
       "    </tr>\n",
       "    <tr>\n",
       "      <th>4063</th>\n",
       "      <td>5775</td>\n",
       "      <td>forest%20fires</td>\n",
       "      <td>NaN</td>\n",
       "      <td>U.S. Forest Service says spending more than half of budget on fires http://t.co/1hLVrKwgIP</td>\n",
       "      <td>1</td>\n",
       "    </tr>\n",
       "    <tr>\n",
       "      <th>4062</th>\n",
       "      <td>5772</td>\n",
       "      <td>forest%20fires</td>\n",
       "      <td>NaN</td>\n",
       "      <td>CLIMATE CONSEQUENCES: U.S. Forest Service Says Spending More Than Half Of Budget On Fires http://t.co/k0QtL8aODH http://t.co/zQBXe7x9Y7</td>\n",
       "      <td>1</td>\n",
       "    </tr>\n",
       "    <tr>\n",
       "      <th>4060</th>\n",
       "      <td>5769</td>\n",
       "      <td>forest%20fires</td>\n",
       "      <td>NaN</td>\n",
       "      <td>#HeartDisease U.S. Forest Service says spending more than half of budget on fires http://t.co/KzfiGkEeva</td>\n",
       "      <td>1</td>\n",
       "    </tr>\n",
       "    <tr>\n",
       "      <th>4059</th>\n",
       "      <td>5766</td>\n",
       "      <td>forest%20fires</td>\n",
       "      <td>Duncan</td>\n",
       "      <td>@BlueJays @Braves @Angels Instead of dumping water on yourselves please send it to British Columbia to help with the forest fires</td>\n",
       "      <td>1</td>\n",
       "    </tr>\n",
       "  </tbody>\n",
       "</table>\n",
       "</div>"
      ],
      "text/plain": [
       "        id         keyword                        location  \\\n",
       "0        1             NaN                             NaN   \n",
       "4069  5783  forest%20fires                             NaN   \n",
       "4067  5780  forest%20fires           Lansdale,Pennsylvania   \n",
       "4066  5778  forest%20fires                   Vancouver, BC   \n",
       "4065  5777  forest%20fires                Portland, Oregon   \n",
       "4064  5776  forest%20fires  Based in CA - Serve Nationwide   \n",
       "4063  5775  forest%20fires                             NaN   \n",
       "4062  5772  forest%20fires                             NaN   \n",
       "4060  5769  forest%20fires                             NaN   \n",
       "4059  5766  forest%20fires                          Duncan   \n",
       "\n",
       "                                                                                                                                         text  \\\n",
       "0                                                                       Our Deeds are the Reason of this #earthquake May ALLAH Forgive us all   \n",
       "4069            When ur friend and u are talking about forest fires in a forest and he tells u to drop ur mix tape out there... #straightfire   \n",
       "4067                            U.S. Forest Service says spending more than half of budget on fires: By Ian SimpsonÛ_ http://t.co/UyYYrKd6q3   \n",
       "4066                                  Forest fires could delay @AbbyAirshow but officials say it could be a good thing http://t.co/Vxjcx8uKMd   \n",
       "4065  Inciweb OR Update:  Rogue River-Siskiyou National Forest Fires  8/5/15 12:00 PM (Rogue River-Siskiyou NF AreaÛ_ http://t.co/LkwxU8QV7n   \n",
       "4064                                    Property losses from northern California wildfire nearly double http://t.co/oTfW5SEkD7 via @YahooNews   \n",
       "4063                                               U.S. Forest Service says spending more than half of budget on fires http://t.co/1hLVrKwgIP   \n",
       "4062  CLIMATE CONSEQUENCES: U.S. Forest Service Says Spending More Than Half Of Budget On Fires http://t.co/k0QtL8aODH http://t.co/zQBXe7x9Y7   \n",
       "4060                                 #HeartDisease U.S. Forest Service says spending more than half of budget on fires http://t.co/KzfiGkEeva   \n",
       "4059        @BlueJays @Braves @Angels Instead of dumping water on yourselves please send it to British Columbia to help with the forest fires   \n",
       "\n",
       "      target  \n",
       "0          1  \n",
       "4069       1  \n",
       "4067       1  \n",
       "4066       1  \n",
       "4065       1  \n",
       "4064       1  \n",
       "4063       1  \n",
       "4062       1  \n",
       "4060       1  \n",
       "4059       1  "
      ]
     },
     "execution_count": 71,
     "metadata": {},
     "output_type": "execute_result"
    }
   ],
   "source": [
    "df_train.head(10)"
   ]
  },
  {
   "cell_type": "raw",
   "id": "8ce2055e",
   "metadata": {
    "papermill": {
     "duration": 0.007458,
     "end_time": "2023-01-26T16:57:03.437023",
     "exception": false,
     "start_time": "2023-01-26T16:57:03.429565",
     "status": "completed"
    },
    "tags": []
   },
   "source": [
    "print(df_train['target'])"
   ]
  },
  {
   "cell_type": "code",
   "execution_count": 72,
   "id": "7e4d8dd6",
   "metadata": {
    "papermill": {
     "duration": 0.006729,
     "end_time": "2023-01-26T16:57:03.451244",
     "exception": false,
     "start_time": "2023-01-26T16:57:03.444515",
     "status": "completed"
    },
    "tags": []
   },
   "outputs": [
    {
     "data": {
      "text/plain": [
       "id             0\n",
       "keyword       61\n",
       "location    2533\n",
       "text           0\n",
       "target         0\n",
       "dtype: int64"
      ]
     },
     "execution_count": 72,
     "metadata": {},
     "output_type": "execute_result"
    }
   ],
   "source": [
    "df_train.isna().sum()"
   ]
  },
  {
   "cell_type": "code",
   "execution_count": 73,
   "id": "ea1e9ca6",
   "metadata": {},
   "outputs": [
    {
     "data": {
      "text/plain": [
       "0    4342\n",
       "1    3271\n",
       "Name: target, dtype: int64"
      ]
     },
     "execution_count": 73,
     "metadata": {},
     "output_type": "execute_result"
    }
   ],
   "source": [
    "df_train['target'].value_counts()"
   ]
  },
  {
   "cell_type": "code",
   "execution_count": 74,
   "id": "75db63c6",
   "metadata": {},
   "outputs": [
    {
     "data": {
      "text/plain": [
       "(7613,)"
      ]
     },
     "execution_count": 74,
     "metadata": {},
     "output_type": "execute_result"
    }
   ],
   "source": [
    "y=df_train['target'].values\n",
    "y.shape"
   ]
  },
  {
   "cell_type": "code",
   "execution_count": 75,
   "id": "b3490ff0",
   "metadata": {},
   "outputs": [
    {
     "data": {
      "text/plain": [
       "(7613,)"
      ]
     },
     "execution_count": 75,
     "metadata": {},
     "output_type": "execute_result"
    }
   ],
   "source": [
    "x=df_train['text'].values\n",
    "x.shape"
   ]
  },
  {
   "cell_type": "code",
   "execution_count": 76,
   "id": "eae1cbb8",
   "metadata": {},
   "outputs": [
    {
     "ename": "NameError",
     "evalue": "name 'train_test_split' is not defined",
     "output_type": "error",
     "traceback": [
      "\u001b[0;31m---------------------------------------------------------------------------\u001b[0m",
      "\u001b[0;31mNameError\u001b[0m                                 Traceback (most recent call last)",
      "Cell \u001b[0;32mIn[76], line 1\u001b[0m\n\u001b[0;32m----> 1\u001b[0m (x_train,x_test,y_train,y_test)\u001b[39m=\u001b[39mtrain_test_split(x,y,test_size\u001b[39m=\u001b[39m\u001b[39m0.4\u001b[39m)\n\u001b[1;32m      2\u001b[0m x_train\u001b[39m.\u001b[39mshape\n\u001b[1;32m      3\u001b[0m y_train\u001b[39m.\u001b[39mshape\n",
      "\u001b[0;31mNameError\u001b[0m: name 'train_test_split' is not defined"
     ]
    }
   ],
   "source": [
    "(x_train,x_test,y_train,y_test)=train_test_split(x,y,test_size=0.4)\n",
    "x_train.shape\n",
    "y_train.shape\n",
    "x_test.shape\n",
    "y_test.shape"
   ]
  },
  {
   "cell_type": "code",
   "execution_count": 77,
   "id": "f8c6a971",
   "metadata": {},
   "outputs": [
    {
     "ename": "NameError",
     "evalue": "name 'x_train' is not defined",
     "output_type": "error",
     "traceback": [
      "\u001b[0;31m---------------------------------------------------------------------------\u001b[0m",
      "\u001b[0;31mNameError\u001b[0m                                 Traceback (most recent call last)",
      "Cell \u001b[0;32mIn[77], line 1\u001b[0m\n\u001b[0;32m----> 1\u001b[0m df1\u001b[39m=\u001b[39mpd\u001b[39m.\u001b[39mDataFrame(x_train)\n\u001b[1;32m      2\u001b[0m df1\u001b[39m=\u001b[39mdf1\u001b[39m.\u001b[39mrename(columns\u001b[39m=\u001b[39m{\u001b[39m0\u001b[39m:\u001b[39m'\u001b[39m\u001b[39mtext\u001b[39m\u001b[39m'\u001b[39m})\n",
      "\u001b[0;31mNameError\u001b[0m: name 'x_train' is not defined"
     ]
    }
   ],
   "source": [
    "df1=pd.DataFrame(x_train)\n",
    "df1=df1.rename(columns={0:'text'})"
   ]
  },
  {
   "cell_type": "code",
   "execution_count": 78,
   "id": "b2be1abb",
   "metadata": {},
   "outputs": [
    {
     "ename": "NameError",
     "evalue": "name 'y_train' is not defined",
     "output_type": "error",
     "traceback": [
      "\u001b[0;31m---------------------------------------------------------------------------\u001b[0m",
      "\u001b[0;31mNameError\u001b[0m                                 Traceback (most recent call last)",
      "Cell \u001b[0;32mIn[78], line 1\u001b[0m\n\u001b[0;32m----> 1\u001b[0m df2\u001b[39m=\u001b[39mpd\u001b[39m.\u001b[39mDataFrame(y_train)\n\u001b[1;32m      2\u001b[0m df2\u001b[39m=\u001b[39mdf2\u001b[39m.\u001b[39mrename(columns\u001b[39m=\u001b[39m{\u001b[39m0\u001b[39m:\u001b[39m'\u001b[39m\u001b[39mtarget\u001b[39m\u001b[39m'\u001b[39m})\n\u001b[1;32m      3\u001b[0m df_df2\u001b[39m=\u001b[39mpd\u001b[39m.\u001b[39mconcat([df1,df2],axis\u001b[39m=\u001b[39m\u001b[39m1\u001b[39m)\n",
      "\u001b[0;31mNameError\u001b[0m: name 'y_train' is not defined"
     ]
    }
   ],
   "source": [
    "df2=pd.DataFrame(y_train)\n",
    "df2=df2.rename(columns={0:'target'})\n",
    "df_df2=pd.concat([df1,df2],axis=1)"
   ]
  },
  {
   "cell_type": "code",
   "execution_count": 79,
   "id": "7ee66c78",
   "metadata": {},
   "outputs": [
    {
     "ename": "NameError",
     "evalue": "name 'df_df2' is not defined",
     "output_type": "error",
     "traceback": [
      "\u001b[0;31m---------------------------------------------------------------------------\u001b[0m",
      "\u001b[0;31mNameError\u001b[0m                                 Traceback (most recent call last)",
      "Cell \u001b[0;32mIn[79], line 1\u001b[0m\n\u001b[0;32m----> 1\u001b[0m df_df2\u001b[39m.\u001b[39mhead()\n",
      "\u001b[0;31mNameError\u001b[0m: name 'df_df2' is not defined"
     ]
    }
   ],
   "source": [
    "df_df2.head()"
   ]
  },
  {
   "cell_type": "code",
   "execution_count": 80,
   "id": "0507b54b",
   "metadata": {},
   "outputs": [
    {
     "ename": "NameError",
     "evalue": "name 'x_test' is not defined",
     "output_type": "error",
     "traceback": [
      "\u001b[0;31m---------------------------------------------------------------------------\u001b[0m",
      "\u001b[0;31mNameError\u001b[0m                                 Traceback (most recent call last)",
      "Cell \u001b[0;32mIn[80], line 1\u001b[0m\n\u001b[0;32m----> 1\u001b[0m df3\u001b[39m=\u001b[39mpd\u001b[39m.\u001b[39mDataFrame(x_test)\n\u001b[1;32m      2\u001b[0m df3\u001b[39m=\u001b[39mdf3\u001b[39m.\u001b[39mrename(columns\u001b[39m=\u001b[39m{\u001b[39m0\u001b[39m:\u001b[39m'\u001b[39m\u001b[39mtext\u001b[39m\u001b[39m'\u001b[39m})\n",
      "\u001b[0;31mNameError\u001b[0m: name 'x_test' is not defined"
     ]
    }
   ],
   "source": [
    "df3=pd.DataFrame(x_test)\n",
    "df3=df3.rename(columns={0:'text'})\n"
   ]
  },
  {
   "cell_type": "code",
   "execution_count": 81,
   "id": "06d4e1b0",
   "metadata": {},
   "outputs": [
    {
     "ename": "NameError",
     "evalue": "name 'y_test' is not defined",
     "output_type": "error",
     "traceback": [
      "\u001b[0;31m---------------------------------------------------------------------------\u001b[0m",
      "\u001b[0;31mNameError\u001b[0m                                 Traceback (most recent call last)",
      "Cell \u001b[0;32mIn[81], line 1\u001b[0m\n\u001b[0;32m----> 1\u001b[0m df4\u001b[39m=\u001b[39mpd\u001b[39m.\u001b[39mDataFrame(y_test)\n\u001b[1;32m      2\u001b[0m df4\u001b[39m=\u001b[39mdf2\u001b[39m.\u001b[39mrename(columns\u001b[39m=\u001b[39m{\u001b[39m0\u001b[39m:\u001b[39m'\u001b[39m\u001b[39mtarget\u001b[39m\u001b[39m'\u001b[39m})\n\u001b[1;32m      3\u001b[0m df_test\u001b[39m=\u001b[39mpd\u001b[39m.\u001b[39mconcat([df3,df4],axis\u001b[39m=\u001b[39m\u001b[39m1\u001b[39m)\n",
      "\u001b[0;31mNameError\u001b[0m: name 'y_test' is not defined"
     ]
    }
   ],
   "source": [
    "df4=pd.DataFrame(y_test)\n",
    "df4=df2.rename(columns={0:'target'})\n",
    "df_test=pd.concat([df3,df4],axis=1)"
   ]
  },
  {
   "cell_type": "code",
   "execution_count": 82,
   "id": "57872d7b",
   "metadata": {},
   "outputs": [
    {
     "ename": "NameError",
     "evalue": "name 'df_test' is not defined",
     "output_type": "error",
     "traceback": [
      "\u001b[0;31m---------------------------------------------------------------------------\u001b[0m",
      "\u001b[0;31mNameError\u001b[0m                                 Traceback (most recent call last)",
      "Cell \u001b[0;32mIn[82], line 1\u001b[0m\n\u001b[0;32m----> 1\u001b[0m df_test\u001b[39m.\u001b[39mhead()\n",
      "\u001b[0;31mNameError\u001b[0m: name 'df_test' is not defined"
     ]
    }
   ],
   "source": [
    "df_test.head()"
   ]
  },
  {
   "cell_type": "code",
   "execution_count": 83,
   "id": "1227d3a7",
   "metadata": {},
   "outputs": [],
   "source": [
    "#defining the function to remove punctuation\n",
    "def remove_punctuation(text):\n",
    "  if(type(text)==float):\n",
    "    return text\n",
    "  ans=\"\"  \n",
    "  for i in text:     \n",
    "    if i not in string.punctuation:\n",
    "      ans+=i    \n",
    "  return ans"
   ]
  },
  {
   "cell_type": "code",
   "execution_count": 84,
   "id": "ab4b66b5",
   "metadata": {},
   "outputs": [
    {
     "ename": "NameError",
     "evalue": "name 'string' is not defined",
     "output_type": "error",
     "traceback": [
      "\u001b[0;31m---------------------------------------------------------------------------\u001b[0m",
      "\u001b[0;31mNameError\u001b[0m                                 Traceback (most recent call last)",
      "Cell \u001b[0;32mIn[84], line 2\u001b[0m\n\u001b[1;32m      1\u001b[0m \u001b[39m#storing the puntuation free text in a new column called clean_msg\u001b[39;00m\n\u001b[0;32m----> 2\u001b[0m df_df2[\u001b[39m'\u001b[39m\u001b[39mtext\u001b[39m\u001b[39m'\u001b[39m]\u001b[39m=\u001b[39m df_train[\u001b[39m'\u001b[39;49m\u001b[39mtext\u001b[39;49m\u001b[39m'\u001b[39;49m]\u001b[39m.\u001b[39;49mapply(\u001b[39mlambda\u001b[39;49;00m x:remove_punctuation(x))\n\u001b[1;32m      3\u001b[0m df_test[\u001b[39m'\u001b[39m\u001b[39mtext\u001b[39m\u001b[39m'\u001b[39m]\u001b[39m=\u001b[39m df_test[\u001b[39m'\u001b[39m\u001b[39mtext\u001b[39m\u001b[39m'\u001b[39m]\u001b[39m.\u001b[39mapply(\u001b[39mlambda\u001b[39;00m x:remove_punctuation(x))\n",
      "File \u001b[0;32m~/Documents/Udemy ML-AI/NLP-with-Disaster-Tweets/venv/lib/python3.10/site-packages/pandas/core/series.py:4771\u001b[0m, in \u001b[0;36mSeries.apply\u001b[0;34m(self, func, convert_dtype, args, **kwargs)\u001b[0m\n\u001b[1;32m   4661\u001b[0m \u001b[39mdef\u001b[39;00m \u001b[39mapply\u001b[39m(\n\u001b[1;32m   4662\u001b[0m     \u001b[39mself\u001b[39m,\n\u001b[1;32m   4663\u001b[0m     func: AggFuncType,\n\u001b[0;32m   (...)\u001b[0m\n\u001b[1;32m   4666\u001b[0m     \u001b[39m*\u001b[39m\u001b[39m*\u001b[39mkwargs,\n\u001b[1;32m   4667\u001b[0m ) \u001b[39m-\u001b[39m\u001b[39m>\u001b[39m DataFrame \u001b[39m|\u001b[39m Series:\n\u001b[1;32m   4668\u001b[0m \u001b[39m    \u001b[39m\u001b[39m\"\"\"\u001b[39;00m\n\u001b[1;32m   4669\u001b[0m \u001b[39m    Invoke function on values of Series.\u001b[39;00m\n\u001b[1;32m   4670\u001b[0m \n\u001b[0;32m   (...)\u001b[0m\n\u001b[1;32m   4769\u001b[0m \u001b[39m    dtype: float64\u001b[39;00m\n\u001b[1;32m   4770\u001b[0m \u001b[39m    \"\"\"\u001b[39;00m\n\u001b[0;32m-> 4771\u001b[0m     \u001b[39mreturn\u001b[39;00m SeriesApply(\u001b[39mself\u001b[39;49m, func, convert_dtype, args, kwargs)\u001b[39m.\u001b[39;49mapply()\n",
      "File \u001b[0;32m~/Documents/Udemy ML-AI/NLP-with-Disaster-Tweets/venv/lib/python3.10/site-packages/pandas/core/apply.py:1105\u001b[0m, in \u001b[0;36mSeriesApply.apply\u001b[0;34m(self)\u001b[0m\n\u001b[1;32m   1102\u001b[0m     \u001b[39mreturn\u001b[39;00m \u001b[39mself\u001b[39m\u001b[39m.\u001b[39mapply_str()\n\u001b[1;32m   1104\u001b[0m \u001b[39m# self.f is Callable\u001b[39;00m\n\u001b[0;32m-> 1105\u001b[0m \u001b[39mreturn\u001b[39;00m \u001b[39mself\u001b[39;49m\u001b[39m.\u001b[39;49mapply_standard()\n",
      "File \u001b[0;32m~/Documents/Udemy ML-AI/NLP-with-Disaster-Tweets/venv/lib/python3.10/site-packages/pandas/core/apply.py:1156\u001b[0m, in \u001b[0;36mSeriesApply.apply_standard\u001b[0;34m(self)\u001b[0m\n\u001b[1;32m   1154\u001b[0m     \u001b[39melse\u001b[39;00m:\n\u001b[1;32m   1155\u001b[0m         values \u001b[39m=\u001b[39m obj\u001b[39m.\u001b[39mastype(\u001b[39mobject\u001b[39m)\u001b[39m.\u001b[39m_values\n\u001b[0;32m-> 1156\u001b[0m         mapped \u001b[39m=\u001b[39m lib\u001b[39m.\u001b[39;49mmap_infer(\n\u001b[1;32m   1157\u001b[0m             values,\n\u001b[1;32m   1158\u001b[0m             f,\n\u001b[1;32m   1159\u001b[0m             convert\u001b[39m=\u001b[39;49m\u001b[39mself\u001b[39;49m\u001b[39m.\u001b[39;49mconvert_dtype,\n\u001b[1;32m   1160\u001b[0m         )\n\u001b[1;32m   1162\u001b[0m \u001b[39mif\u001b[39;00m \u001b[39mlen\u001b[39m(mapped) \u001b[39mand\u001b[39;00m \u001b[39misinstance\u001b[39m(mapped[\u001b[39m0\u001b[39m], ABCSeries):\n\u001b[1;32m   1163\u001b[0m     \u001b[39m# GH#43986 Need to do list(mapped) in order to get treated as nested\u001b[39;00m\n\u001b[1;32m   1164\u001b[0m     \u001b[39m#  See also GH#25959 regarding EA support\u001b[39;00m\n\u001b[1;32m   1165\u001b[0m     \u001b[39mreturn\u001b[39;00m obj\u001b[39m.\u001b[39m_constructor_expanddim(\u001b[39mlist\u001b[39m(mapped), index\u001b[39m=\u001b[39mobj\u001b[39m.\u001b[39mindex)\n",
      "File \u001b[0;32m~/Documents/Udemy ML-AI/NLP-with-Disaster-Tweets/venv/lib/python3.10/site-packages/pandas/_libs/lib.pyx:2918\u001b[0m, in \u001b[0;36mpandas._libs.lib.map_infer\u001b[0;34m()\u001b[0m\n",
      "Cell \u001b[0;32mIn[84], line 2\u001b[0m, in \u001b[0;36m<lambda>\u001b[0;34m(x)\u001b[0m\n\u001b[1;32m      1\u001b[0m \u001b[39m#storing the puntuation free text in a new column called clean_msg\u001b[39;00m\n\u001b[0;32m----> 2\u001b[0m df_df2[\u001b[39m'\u001b[39m\u001b[39mtext\u001b[39m\u001b[39m'\u001b[39m]\u001b[39m=\u001b[39m df_train[\u001b[39m'\u001b[39m\u001b[39mtext\u001b[39m\u001b[39m'\u001b[39m]\u001b[39m.\u001b[39mapply(\u001b[39mlambda\u001b[39;00m x:remove_punctuation(x))\n\u001b[1;32m      3\u001b[0m df_test[\u001b[39m'\u001b[39m\u001b[39mtext\u001b[39m\u001b[39m'\u001b[39m]\u001b[39m=\u001b[39m df_test[\u001b[39m'\u001b[39m\u001b[39mtext\u001b[39m\u001b[39m'\u001b[39m]\u001b[39m.\u001b[39mapply(\u001b[39mlambda\u001b[39;00m x:remove_punctuation(x))\n",
      "Cell \u001b[0;32mIn[83], line 7\u001b[0m, in \u001b[0;36mremove_punctuation\u001b[0;34m(text)\u001b[0m\n\u001b[1;32m      5\u001b[0m ans\u001b[39m=\u001b[39m\u001b[39m\"\u001b[39m\u001b[39m\"\u001b[39m  \n\u001b[1;32m      6\u001b[0m \u001b[39mfor\u001b[39;00m i \u001b[39min\u001b[39;00m text:     \n\u001b[0;32m----> 7\u001b[0m   \u001b[39mif\u001b[39;00m i \u001b[39mnot\u001b[39;00m \u001b[39min\u001b[39;00m string\u001b[39m.\u001b[39mpunctuation:\n\u001b[1;32m      8\u001b[0m     ans\u001b[39m+\u001b[39m\u001b[39m=\u001b[39mi    \n\u001b[1;32m      9\u001b[0m \u001b[39mreturn\u001b[39;00m ans\n",
      "\u001b[0;31mNameError\u001b[0m: name 'string' is not defined"
     ]
    }
   ],
   "source": [
    "#storing the puntuation free text in a new column called clean_msg\n",
    "df_df2['text']= df_train['text'].apply(lambda x:remove_punctuation(x))\n",
    "df_test['text']= df_test['text'].apply(lambda x:remove_punctuation(x))"
   ]
  },
  {
   "cell_type": "code",
   "execution_count": 18,
   "id": "3f011d77",
   "metadata": {},
   "outputs": [
    {
     "ename": "NameError",
     "evalue": "name 'df_df2' is not defined",
     "output_type": "error",
     "traceback": [
      "\u001b[0;31m---------------------------------------------------------------------------\u001b[0m",
      "\u001b[0;31mNameError\u001b[0m                                 Traceback (most recent call last)",
      "Cell \u001b[0;32mIn[18], line 1\u001b[0m\n\u001b[0;32m----> 1\u001b[0m df_df2\u001b[39m.\u001b[39mhead()\n\u001b[1;32m      2\u001b[0m \u001b[39m#punctuations are removed from news column in train dataset\u001b[39;00m\n",
      "\u001b[0;31mNameError\u001b[0m: name 'df_df2' is not defined"
     ]
    }
   ],
   "source": [
    "df_df2.head()\n",
    "#punctuations are removed from news column in train dataset"
   ]
  }
 ],
 "metadata": {
  "kernelspec": {
   "display_name": "Python 3.10.6 ('venv': venv)",
   "language": "python",
   "name": "python3"
  },
  "language_info": {
   "codemirror_mode": {
    "name": "ipython",
    "version": 3
   },
   "file_extension": ".py",
   "mimetype": "text/x-python",
   "name": "python",
   "nbconvert_exporter": "python",
   "pygments_lexer": "ipython3",
   "version": "3.10.6"
  },
  "papermill": {
   "default_parameters": {},
   "duration": 12.911681,
   "end_time": "2023-01-26T16:57:04.178789",
   "environment_variables": {},
   "exception": null,
   "input_path": "__notebook__.ipynb",
   "output_path": "__notebook__.ipynb",
   "parameters": {},
   "start_time": "2023-01-26T16:56:51.267108",
   "version": "2.3.4"
  },
  "vscode": {
   "interpreter": {
    "hash": "a8241d5bc9f0ca5468a4ecaa9dbd18c269dd78357cbd4874712dbf16867d095f"
   }
  }
 },
 "nbformat": 4,
 "nbformat_minor": 5
}
