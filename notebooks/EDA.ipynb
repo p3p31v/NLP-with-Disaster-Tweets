{
 "cells": [
  {
   "cell_type": "code",
   "execution_count": 34,
   "id": "1c18c472",
   "metadata": {
    "_cell_guid": "b1076dfc-b9ad-4769-8c92-a6c4dae69d19",
    "_uuid": "8f2839f25d086af736a60e9eeb907d3b93b6e0e5",
    "execution": {
     "iopub.execute_input": "2023-01-26T16:56:58.820696Z",
     "iopub.status.busy": "2023-01-26T16:56:58.820210Z",
     "iopub.status.idle": "2023-01-26T16:56:59.900094Z",
     "shell.execute_reply": "2023-01-26T16:56:59.898990Z"
    },
    "papermill": {
     "duration": 1.08987,
     "end_time": "2023-01-26T16:56:59.902126",
     "exception": false,
     "start_time": "2023-01-26T16:56:58.812256",
     "status": "completed"
    },
    "tags": []
   },
   "outputs": [],
   "source": [
    "# Import libraries\n",
    "import numpy as np # linear algebra\n",
    "import pandas as pd # data processing, CSV file I/O (e.g. pd.read_csv)\n",
    "import matplotlib.pyplot as plt\n",
    "import seaborn as sns\n",
    "import re #regular expressions\n",
    "import os\n",
    "from nltk.tokenize import word_tokenize\n",
    "from sklearn.feature_extraction.text import CountVectorizer\n",
    "from sklearn.model_selection import train_test_split\n",
    "import spacy\n",
    "import pyLDAvis.gensim_models\n",
    "import en_core_web_md #sm/md/lg size\n",
    "from gensim.corpora.dictionary import Dictionary\n",
    "from gensim.models import LdaMulticore\n",
    "from gensim.models import CoherenceModel\n",
    "import seaborn as sns\n",
    "import string\n",
    "import nltk\n",
    "from nltk.corpus import stopwords\n",
    "\n",
    "# Increase width of columns on dataframe\n",
    "pd.set_option('display.max_colwidth', None)\n",
    "# Visualise inside a notebook\n",
    "pyLDAvis.enable_notebook()"
   ]
  },
  {
   "cell_type": "code",
   "execution_count": 2,
   "id": "1f6e694b",
   "metadata": {},
   "outputs": [],
   "source": [
    "# Import the spaCy model\n",
    "nlp = en_core_web_md.load()"
   ]
  },
  {
   "cell_type": "code",
   "execution_count": 3,
   "id": "a002fc7e",
   "metadata": {
    "execution": {
     "iopub.execute_input": "2023-01-26T16:56:59.914186Z",
     "iopub.status.busy": "2023-01-26T16:56:59.913793Z",
     "iopub.status.idle": "2023-01-26T16:56:59.961288Z",
     "shell.execute_reply": "2023-01-26T16:56:59.959761Z"
    },
    "papermill": {
     "duration": 0.056135,
     "end_time": "2023-01-26T16:56:59.963606",
     "exception": false,
     "start_time": "2023-01-26T16:56:59.907471",
     "status": "completed"
    },
    "tags": []
   },
   "outputs": [
    {
     "data": {
      "text/html": [
       "<div>\n",
       "<style scoped>\n",
       "    .dataframe tbody tr th:only-of-type {\n",
       "        vertical-align: middle;\n",
       "    }\n",
       "\n",
       "    .dataframe tbody tr th {\n",
       "        vertical-align: top;\n",
       "    }\n",
       "\n",
       "    .dataframe thead th {\n",
       "        text-align: right;\n",
       "    }\n",
       "</style>\n",
       "<table border=\"1\" class=\"dataframe\">\n",
       "  <thead>\n",
       "    <tr style=\"text-align: right;\">\n",
       "      <th></th>\n",
       "      <th>id</th>\n",
       "      <th>keyword</th>\n",
       "      <th>location</th>\n",
       "      <th>text</th>\n",
       "      <th>target</th>\n",
       "    </tr>\n",
       "  </thead>\n",
       "  <tbody>\n",
       "    <tr>\n",
       "      <th>0</th>\n",
       "      <td>1</td>\n",
       "      <td>NaN</td>\n",
       "      <td>NaN</td>\n",
       "      <td>Our Deeds are the Reason of this #earthquake May ALLAH Forgive us all</td>\n",
       "      <td>1</td>\n",
       "    </tr>\n",
       "    <tr>\n",
       "      <th>1</th>\n",
       "      <td>4</td>\n",
       "      <td>NaN</td>\n",
       "      <td>NaN</td>\n",
       "      <td>Forest fire near La Ronge Sask. Canada</td>\n",
       "      <td>1</td>\n",
       "    </tr>\n",
       "    <tr>\n",
       "      <th>2</th>\n",
       "      <td>5</td>\n",
       "      <td>NaN</td>\n",
       "      <td>NaN</td>\n",
       "      <td>All residents asked to 'shelter in place' are being notified by officers. No other evacuation or shelter in place orders are expected</td>\n",
       "      <td>1</td>\n",
       "    </tr>\n",
       "    <tr>\n",
       "      <th>3</th>\n",
       "      <td>6</td>\n",
       "      <td>NaN</td>\n",
       "      <td>NaN</td>\n",
       "      <td>13,000 people receive #wildfires evacuation orders in California</td>\n",
       "      <td>1</td>\n",
       "    </tr>\n",
       "    <tr>\n",
       "      <th>4</th>\n",
       "      <td>7</td>\n",
       "      <td>NaN</td>\n",
       "      <td>NaN</td>\n",
       "      <td>Just got sent this photo from Ruby #Alaska as smoke from #wildfires pours into a school</td>\n",
       "      <td>1</td>\n",
       "    </tr>\n",
       "    <tr>\n",
       "      <th>5</th>\n",
       "      <td>8</td>\n",
       "      <td>NaN</td>\n",
       "      <td>NaN</td>\n",
       "      <td>#RockyFire Update =&gt; California Hwy. 20 closed in both directions due to Lake County fire - #CAfire #wildfires</td>\n",
       "      <td>1</td>\n",
       "    </tr>\n",
       "    <tr>\n",
       "      <th>6</th>\n",
       "      <td>10</td>\n",
       "      <td>NaN</td>\n",
       "      <td>NaN</td>\n",
       "      <td>#flood #disaster Heavy rain causes flash flooding of streets in Manitou, Colorado Springs areas</td>\n",
       "      <td>1</td>\n",
       "    </tr>\n",
       "    <tr>\n",
       "      <th>7</th>\n",
       "      <td>13</td>\n",
       "      <td>NaN</td>\n",
       "      <td>NaN</td>\n",
       "      <td>I'm on top of the hill and I can see a fire in the woods...</td>\n",
       "      <td>1</td>\n",
       "    </tr>\n",
       "    <tr>\n",
       "      <th>8</th>\n",
       "      <td>14</td>\n",
       "      <td>NaN</td>\n",
       "      <td>NaN</td>\n",
       "      <td>There's an emergency evacuation happening now in the building across the street</td>\n",
       "      <td>1</td>\n",
       "    </tr>\n",
       "    <tr>\n",
       "      <th>9</th>\n",
       "      <td>15</td>\n",
       "      <td>NaN</td>\n",
       "      <td>NaN</td>\n",
       "      <td>I'm afraid that the tornado is coming to our area...</td>\n",
       "      <td>1</td>\n",
       "    </tr>\n",
       "    <tr>\n",
       "      <th>10</th>\n",
       "      <td>16</td>\n",
       "      <td>NaN</td>\n",
       "      <td>NaN</td>\n",
       "      <td>Three people died from the heat wave so far</td>\n",
       "      <td>1</td>\n",
       "    </tr>\n",
       "    <tr>\n",
       "      <th>11</th>\n",
       "      <td>17</td>\n",
       "      <td>NaN</td>\n",
       "      <td>NaN</td>\n",
       "      <td>Haha South Tampa is getting flooded hah- WAIT A SECOND I LIVE IN SOUTH TAMPA WHAT AM I GONNA DO WHAT AM I GONNA DO FVCK #flooding</td>\n",
       "      <td>1</td>\n",
       "    </tr>\n",
       "    <tr>\n",
       "      <th>12</th>\n",
       "      <td>18</td>\n",
       "      <td>NaN</td>\n",
       "      <td>NaN</td>\n",
       "      <td>#raining #flooding #Florida #TampaBay #Tampa 18 or 19 days. I've lost count</td>\n",
       "      <td>1</td>\n",
       "    </tr>\n",
       "    <tr>\n",
       "      <th>13</th>\n",
       "      <td>19</td>\n",
       "      <td>NaN</td>\n",
       "      <td>NaN</td>\n",
       "      <td>#Flood in Bago Myanmar #We arrived Bago</td>\n",
       "      <td>1</td>\n",
       "    </tr>\n",
       "    <tr>\n",
       "      <th>14</th>\n",
       "      <td>20</td>\n",
       "      <td>NaN</td>\n",
       "      <td>NaN</td>\n",
       "      <td>Damage to school bus on 80 in multi car crash #BREAKING</td>\n",
       "      <td>1</td>\n",
       "    </tr>\n",
       "    <tr>\n",
       "      <th>15</th>\n",
       "      <td>23</td>\n",
       "      <td>NaN</td>\n",
       "      <td>NaN</td>\n",
       "      <td>What's up man?</td>\n",
       "      <td>0</td>\n",
       "    </tr>\n",
       "    <tr>\n",
       "      <th>16</th>\n",
       "      <td>24</td>\n",
       "      <td>NaN</td>\n",
       "      <td>NaN</td>\n",
       "      <td>I love fruits</td>\n",
       "      <td>0</td>\n",
       "    </tr>\n",
       "    <tr>\n",
       "      <th>17</th>\n",
       "      <td>25</td>\n",
       "      <td>NaN</td>\n",
       "      <td>NaN</td>\n",
       "      <td>Summer is lovely</td>\n",
       "      <td>0</td>\n",
       "    </tr>\n",
       "    <tr>\n",
       "      <th>18</th>\n",
       "      <td>26</td>\n",
       "      <td>NaN</td>\n",
       "      <td>NaN</td>\n",
       "      <td>My car is so fast</td>\n",
       "      <td>0</td>\n",
       "    </tr>\n",
       "    <tr>\n",
       "      <th>19</th>\n",
       "      <td>28</td>\n",
       "      <td>NaN</td>\n",
       "      <td>NaN</td>\n",
       "      <td>What a goooooooaaaaaal!!!!!!</td>\n",
       "      <td>0</td>\n",
       "    </tr>\n",
       "    <tr>\n",
       "      <th>20</th>\n",
       "      <td>31</td>\n",
       "      <td>NaN</td>\n",
       "      <td>NaN</td>\n",
       "      <td>this is ridiculous....</td>\n",
       "      <td>0</td>\n",
       "    </tr>\n",
       "    <tr>\n",
       "      <th>21</th>\n",
       "      <td>32</td>\n",
       "      <td>NaN</td>\n",
       "      <td>NaN</td>\n",
       "      <td>London is cool ;)</td>\n",
       "      <td>0</td>\n",
       "    </tr>\n",
       "    <tr>\n",
       "      <th>22</th>\n",
       "      <td>33</td>\n",
       "      <td>NaN</td>\n",
       "      <td>NaN</td>\n",
       "      <td>Love skiing</td>\n",
       "      <td>0</td>\n",
       "    </tr>\n",
       "    <tr>\n",
       "      <th>23</th>\n",
       "      <td>34</td>\n",
       "      <td>NaN</td>\n",
       "      <td>NaN</td>\n",
       "      <td>What a wonderful day!</td>\n",
       "      <td>0</td>\n",
       "    </tr>\n",
       "    <tr>\n",
       "      <th>24</th>\n",
       "      <td>36</td>\n",
       "      <td>NaN</td>\n",
       "      <td>NaN</td>\n",
       "      <td>LOOOOOOL</td>\n",
       "      <td>0</td>\n",
       "    </tr>\n",
       "    <tr>\n",
       "      <th>25</th>\n",
       "      <td>37</td>\n",
       "      <td>NaN</td>\n",
       "      <td>NaN</td>\n",
       "      <td>No way...I can't eat that shit</td>\n",
       "      <td>0</td>\n",
       "    </tr>\n",
       "    <tr>\n",
       "      <th>26</th>\n",
       "      <td>38</td>\n",
       "      <td>NaN</td>\n",
       "      <td>NaN</td>\n",
       "      <td>Was in NYC last week!</td>\n",
       "      <td>0</td>\n",
       "    </tr>\n",
       "    <tr>\n",
       "      <th>27</th>\n",
       "      <td>39</td>\n",
       "      <td>NaN</td>\n",
       "      <td>NaN</td>\n",
       "      <td>Love my girlfriend</td>\n",
       "      <td>0</td>\n",
       "    </tr>\n",
       "    <tr>\n",
       "      <th>28</th>\n",
       "      <td>40</td>\n",
       "      <td>NaN</td>\n",
       "      <td>NaN</td>\n",
       "      <td>Cooool :)</td>\n",
       "      <td>0</td>\n",
       "    </tr>\n",
       "    <tr>\n",
       "      <th>29</th>\n",
       "      <td>41</td>\n",
       "      <td>NaN</td>\n",
       "      <td>NaN</td>\n",
       "      <td>Do you like pasta?</td>\n",
       "      <td>0</td>\n",
       "    </tr>\n",
       "    <tr>\n",
       "      <th>30</th>\n",
       "      <td>44</td>\n",
       "      <td>NaN</td>\n",
       "      <td>NaN</td>\n",
       "      <td>The end!</td>\n",
       "      <td>0</td>\n",
       "    </tr>\n",
       "    <tr>\n",
       "      <th>31</th>\n",
       "      <td>48</td>\n",
       "      <td>ablaze</td>\n",
       "      <td>Birmingham</td>\n",
       "      <td>@bbcmtd Wholesale Markets ablaze http://t.co/lHYXEOHY6C</td>\n",
       "      <td>1</td>\n",
       "    </tr>\n",
       "    <tr>\n",
       "      <th>32</th>\n",
       "      <td>49</td>\n",
       "      <td>ablaze</td>\n",
       "      <td>Est. September 2012 - Bristol</td>\n",
       "      <td>We always try to bring the heavy. #metal #RT http://t.co/YAo1e0xngw</td>\n",
       "      <td>0</td>\n",
       "    </tr>\n",
       "    <tr>\n",
       "      <th>33</th>\n",
       "      <td>50</td>\n",
       "      <td>ablaze</td>\n",
       "      <td>AFRICA</td>\n",
       "      <td>#AFRICANBAZE: Breaking news:Nigeria flag set ablaze in Aba. http://t.co/2nndBGwyEi</td>\n",
       "      <td>1</td>\n",
       "    </tr>\n",
       "    <tr>\n",
       "      <th>34</th>\n",
       "      <td>52</td>\n",
       "      <td>ablaze</td>\n",
       "      <td>Philadelphia, PA</td>\n",
       "      <td>Crying out for more! Set me ablaze</td>\n",
       "      <td>0</td>\n",
       "    </tr>\n",
       "    <tr>\n",
       "      <th>35</th>\n",
       "      <td>53</td>\n",
       "      <td>ablaze</td>\n",
       "      <td>London, UK</td>\n",
       "      <td>On plus side LOOK AT THE SKY LAST NIGHT IT WAS ABLAZE http://t.co/qqsmshaJ3N</td>\n",
       "      <td>0</td>\n",
       "    </tr>\n",
       "    <tr>\n",
       "      <th>36</th>\n",
       "      <td>54</td>\n",
       "      <td>ablaze</td>\n",
       "      <td>Pretoria</td>\n",
       "      <td>@PhDSquares #mufc they've built so much hype around new acquisitions but I doubt they will set the EPL ablaze this season.</td>\n",
       "      <td>0</td>\n",
       "    </tr>\n",
       "    <tr>\n",
       "      <th>37</th>\n",
       "      <td>55</td>\n",
       "      <td>ablaze</td>\n",
       "      <td>World Wide!!</td>\n",
       "      <td>INEC Office in Abia Set Ablaze - http://t.co/3ImaomknnA</td>\n",
       "      <td>1</td>\n",
       "    </tr>\n",
       "    <tr>\n",
       "      <th>38</th>\n",
       "      <td>56</td>\n",
       "      <td>ablaze</td>\n",
       "      <td>NaN</td>\n",
       "      <td>Barbados #Bridgetown JAMAICA ÛÒ Two cars set ablaze: SANTA CRUZ ÛÓ Head of the St Elizabeth Police Superintende...  http://t.co/wDUEaj8Q4J</td>\n",
       "      <td>1</td>\n",
       "    </tr>\n",
       "    <tr>\n",
       "      <th>39</th>\n",
       "      <td>57</td>\n",
       "      <td>ablaze</td>\n",
       "      <td>Paranaque City</td>\n",
       "      <td>Ablaze for you Lord :D</td>\n",
       "      <td>0</td>\n",
       "    </tr>\n",
       "    <tr>\n",
       "      <th>40</th>\n",
       "      <td>59</td>\n",
       "      <td>ablaze</td>\n",
       "      <td>Live On Webcam</td>\n",
       "      <td>Check these out: http://t.co/rOI2NSmEJJ http://t.co/3Tj8ZjiN21 http://t.co/YDUiXEfIpE http://t.co/LxTjc87KLS #nsfw</td>\n",
       "      <td>0</td>\n",
       "    </tr>\n",
       "    <tr>\n",
       "      <th>41</th>\n",
       "      <td>61</td>\n",
       "      <td>ablaze</td>\n",
       "      <td>NaN</td>\n",
       "      <td>on the outside you're ablaze and alive\\nbut you're dead inside</td>\n",
       "      <td>0</td>\n",
       "    </tr>\n",
       "    <tr>\n",
       "      <th>42</th>\n",
       "      <td>62</td>\n",
       "      <td>ablaze</td>\n",
       "      <td>milky way</td>\n",
       "      <td>Had an awesome time visiting the CFC head office the ancop site and ablaze. Thanks to Tita Vida for taking care of us ??</td>\n",
       "      <td>0</td>\n",
       "    </tr>\n",
       "    <tr>\n",
       "      <th>43</th>\n",
       "      <td>63</td>\n",
       "      <td>ablaze</td>\n",
       "      <td>NaN</td>\n",
       "      <td>SOOOO PUMPED FOR ABLAZE ???? @southridgelife</td>\n",
       "      <td>0</td>\n",
       "    </tr>\n",
       "    <tr>\n",
       "      <th>44</th>\n",
       "      <td>64</td>\n",
       "      <td>ablaze</td>\n",
       "      <td>NaN</td>\n",
       "      <td>I wanted to set Chicago ablaze with my preaching... But not my hotel! http://t.co/o9qknbfOFX</td>\n",
       "      <td>0</td>\n",
       "    </tr>\n",
       "    <tr>\n",
       "      <th>45</th>\n",
       "      <td>65</td>\n",
       "      <td>ablaze</td>\n",
       "      <td>NaN</td>\n",
       "      <td>I gained 3 followers in the last week. You? Know your stats and grow with http://t.co/TIyUliF5c6</td>\n",
       "      <td>0</td>\n",
       "    </tr>\n",
       "    <tr>\n",
       "      <th>46</th>\n",
       "      <td>66</td>\n",
       "      <td>ablaze</td>\n",
       "      <td>GREENSBORO,NORTH CAROLINA</td>\n",
       "      <td>How the West was burned: Thousands of wildfires ablaze in California alone http://t.co/vl5TBR3wbr</td>\n",
       "      <td>1</td>\n",
       "    </tr>\n",
       "    <tr>\n",
       "      <th>47</th>\n",
       "      <td>67</td>\n",
       "      <td>ablaze</td>\n",
       "      <td>NaN</td>\n",
       "      <td>Building the perfect tracklist to life leave the streets ablaze</td>\n",
       "      <td>0</td>\n",
       "    </tr>\n",
       "    <tr>\n",
       "      <th>48</th>\n",
       "      <td>68</td>\n",
       "      <td>ablaze</td>\n",
       "      <td>Live On Webcam</td>\n",
       "      <td>Check these out: http://t.co/rOI2NSmEJJ http://t.co/3Tj8ZjiN21 http://t.co/YDUiXEfIpE http://t.co/LxTjc87KLS #nsfw</td>\n",
       "      <td>0</td>\n",
       "    </tr>\n",
       "    <tr>\n",
       "      <th>49</th>\n",
       "      <td>71</td>\n",
       "      <td>ablaze</td>\n",
       "      <td>England.</td>\n",
       "      <td>First night with retainers in. It's quite weird. Better get used to it; I have to wear them every single night for the next year at least.</td>\n",
       "      <td>0</td>\n",
       "    </tr>\n",
       "  </tbody>\n",
       "</table>\n",
       "</div>"
      ],
      "text/plain": [
       "    id keyword                       location  \\\n",
       "0    1     NaN                            NaN   \n",
       "1    4     NaN                            NaN   \n",
       "2    5     NaN                            NaN   \n",
       "3    6     NaN                            NaN   \n",
       "4    7     NaN                            NaN   \n",
       "5    8     NaN                            NaN   \n",
       "6   10     NaN                            NaN   \n",
       "7   13     NaN                            NaN   \n",
       "8   14     NaN                            NaN   \n",
       "9   15     NaN                            NaN   \n",
       "10  16     NaN                            NaN   \n",
       "11  17     NaN                            NaN   \n",
       "12  18     NaN                            NaN   \n",
       "13  19     NaN                            NaN   \n",
       "14  20     NaN                            NaN   \n",
       "15  23     NaN                            NaN   \n",
       "16  24     NaN                            NaN   \n",
       "17  25     NaN                            NaN   \n",
       "18  26     NaN                            NaN   \n",
       "19  28     NaN                            NaN   \n",
       "20  31     NaN                            NaN   \n",
       "21  32     NaN                            NaN   \n",
       "22  33     NaN                            NaN   \n",
       "23  34     NaN                            NaN   \n",
       "24  36     NaN                            NaN   \n",
       "25  37     NaN                            NaN   \n",
       "26  38     NaN                            NaN   \n",
       "27  39     NaN                            NaN   \n",
       "28  40     NaN                            NaN   \n",
       "29  41     NaN                            NaN   \n",
       "30  44     NaN                            NaN   \n",
       "31  48  ablaze                     Birmingham   \n",
       "32  49  ablaze  Est. September 2012 - Bristol   \n",
       "33  50  ablaze                         AFRICA   \n",
       "34  52  ablaze               Philadelphia, PA   \n",
       "35  53  ablaze                     London, UK   \n",
       "36  54  ablaze                       Pretoria   \n",
       "37  55  ablaze                   World Wide!!   \n",
       "38  56  ablaze                            NaN   \n",
       "39  57  ablaze                 Paranaque City   \n",
       "40  59  ablaze                 Live On Webcam   \n",
       "41  61  ablaze                            NaN   \n",
       "42  62  ablaze                      milky way   \n",
       "43  63  ablaze                            NaN   \n",
       "44  64  ablaze                            NaN   \n",
       "45  65  ablaze                            NaN   \n",
       "46  66  ablaze      GREENSBORO,NORTH CAROLINA   \n",
       "47  67  ablaze                            NaN   \n",
       "48  68  ablaze                 Live On Webcam   \n",
       "49  71  ablaze                       England.   \n",
       "\n",
       "                                                                                                                                            text  \\\n",
       "0                                                                          Our Deeds are the Reason of this #earthquake May ALLAH Forgive us all   \n",
       "1                                                                                                         Forest fire near La Ronge Sask. Canada   \n",
       "2          All residents asked to 'shelter in place' are being notified by officers. No other evacuation or shelter in place orders are expected   \n",
       "3                                                                              13,000 people receive #wildfires evacuation orders in California    \n",
       "4                                                       Just got sent this photo from Ruby #Alaska as smoke from #wildfires pours into a school    \n",
       "5                                 #RockyFire Update => California Hwy. 20 closed in both directions due to Lake County fire - #CAfire #wildfires   \n",
       "6                                                #flood #disaster Heavy rain causes flash flooding of streets in Manitou, Colorado Springs areas   \n",
       "7                                                                                    I'm on top of the hill and I can see a fire in the woods...   \n",
       "8                                                                There's an emergency evacuation happening now in the building across the street   \n",
       "9                                                                                           I'm afraid that the tornado is coming to our area...   \n",
       "10                                                                                                   Three people died from the heat wave so far   \n",
       "11             Haha South Tampa is getting flooded hah- WAIT A SECOND I LIVE IN SOUTH TAMPA WHAT AM I GONNA DO WHAT AM I GONNA DO FVCK #flooding   \n",
       "12                                                                  #raining #flooding #Florida #TampaBay #Tampa 18 or 19 days. I've lost count    \n",
       "13                                                                                                       #Flood in Bago Myanmar #We arrived Bago   \n",
       "14                                                                                      Damage to school bus on 80 in multi car crash #BREAKING    \n",
       "15                                                                                                                                What's up man?   \n",
       "16                                                                                                                                 I love fruits   \n",
       "17                                                                                                                              Summer is lovely   \n",
       "18                                                                                                                             My car is so fast   \n",
       "19                                                                                                                  What a goooooooaaaaaal!!!!!!   \n",
       "20                                                                                                                        this is ridiculous....   \n",
       "21                                                                                                                             London is cool ;)   \n",
       "22                                                                                                                                   Love skiing   \n",
       "23                                                                                                                         What a wonderful day!   \n",
       "24                                                                                                                                      LOOOOOOL   \n",
       "25                                                                                                                No way...I can't eat that shit   \n",
       "26                                                                                                                         Was in NYC last week!   \n",
       "27                                                                                                                            Love my girlfriend   \n",
       "28                                                                                                                                     Cooool :)   \n",
       "29                                                                                                                            Do you like pasta?   \n",
       "30                                                                                                                                      The end!   \n",
       "31                                                                                       @bbcmtd Wholesale Markets ablaze http://t.co/lHYXEOHY6C   \n",
       "32                                                                           We always try to bring the heavy. #metal #RT http://t.co/YAo1e0xngw   \n",
       "33                                                            #AFRICANBAZE: Breaking news:Nigeria flag set ablaze in Aba. http://t.co/2nndBGwyEi   \n",
       "34                                                                                                            Crying out for more! Set me ablaze   \n",
       "35                                                                  On plus side LOOK AT THE SKY LAST NIGHT IT WAS ABLAZE http://t.co/qqsmshaJ3N   \n",
       "36                    @PhDSquares #mufc they've built so much hype around new acquisitions but I doubt they will set the EPL ablaze this season.   \n",
       "37                                                                                       INEC Office in Abia Set Ablaze - http://t.co/3ImaomknnA   \n",
       "38  Barbados #Bridgetown JAMAICA ÛÒ Two cars set ablaze: SANTA CRUZ ÛÓ Head of the St Elizabeth Police Superintende...  http://t.co/wDUEaj8Q4J   \n",
       "39                                                                                                                        Ablaze for you Lord :D   \n",
       "40                            Check these out: http://t.co/rOI2NSmEJJ http://t.co/3Tj8ZjiN21 http://t.co/YDUiXEfIpE http://t.co/LxTjc87KLS #nsfw   \n",
       "41                                                                                on the outside you're ablaze and alive\\nbut you're dead inside   \n",
       "42                      Had an awesome time visiting the CFC head office the ancop site and ablaze. Thanks to Tita Vida for taking care of us ??   \n",
       "43                                                                                                  SOOOO PUMPED FOR ABLAZE ???? @southridgelife   \n",
       "44                                                  I wanted to set Chicago ablaze with my preaching... But not my hotel! http://t.co/o9qknbfOFX   \n",
       "45                                              I gained 3 followers in the last week. You? Know your stats and grow with http://t.co/TIyUliF5c6   \n",
       "46                                             How the West was burned: Thousands of wildfires ablaze in California alone http://t.co/vl5TBR3wbr   \n",
       "47                                                                               Building the perfect tracklist to life leave the streets ablaze   \n",
       "48                            Check these out: http://t.co/rOI2NSmEJJ http://t.co/3Tj8ZjiN21 http://t.co/YDUiXEfIpE http://t.co/LxTjc87KLS #nsfw   \n",
       "49    First night with retainers in. It's quite weird. Better get used to it; I have to wear them every single night for the next year at least.   \n",
       "\n",
       "    target  \n",
       "0        1  \n",
       "1        1  \n",
       "2        1  \n",
       "3        1  \n",
       "4        1  \n",
       "5        1  \n",
       "6        1  \n",
       "7        1  \n",
       "8        1  \n",
       "9        1  \n",
       "10       1  \n",
       "11       1  \n",
       "12       1  \n",
       "13       1  \n",
       "14       1  \n",
       "15       0  \n",
       "16       0  \n",
       "17       0  \n",
       "18       0  \n",
       "19       0  \n",
       "20       0  \n",
       "21       0  \n",
       "22       0  \n",
       "23       0  \n",
       "24       0  \n",
       "25       0  \n",
       "26       0  \n",
       "27       0  \n",
       "28       0  \n",
       "29       0  \n",
       "30       0  \n",
       "31       1  \n",
       "32       0  \n",
       "33       1  \n",
       "34       0  \n",
       "35       0  \n",
       "36       0  \n",
       "37       1  \n",
       "38       1  \n",
       "39       0  \n",
       "40       0  \n",
       "41       0  \n",
       "42       0  \n",
       "43       0  \n",
       "44       0  \n",
       "45       0  \n",
       "46       1  \n",
       "47       0  \n",
       "48       0  \n",
       "49       0  "
      ]
     },
     "execution_count": 3,
     "metadata": {},
     "output_type": "execute_result"
    }
   ],
   "source": [
    "# Import training dataset\n",
    "df_train = pd.read_csv('../input/nlp-getting-started/train.csv')\n",
    "df_train.head(50)"
   ]
  },
  {
   "cell_type": "code",
   "execution_count": 4,
   "id": "ce3f7162",
   "metadata": {},
   "outputs": [
    {
     "name": "stdout",
     "output_type": "stream",
     "text": [
      "<class 'pandas.core.frame.DataFrame'>\n",
      "RangeIndex: 7613 entries, 0 to 7612\n",
      "Data columns (total 5 columns):\n",
      " #   Column    Non-Null Count  Dtype \n",
      "---  ------    --------------  ----- \n",
      " 0   id        7613 non-null   int64 \n",
      " 1   keyword   7552 non-null   object\n",
      " 2   location  5080 non-null   object\n",
      " 3   text      7613 non-null   object\n",
      " 4   target    7613 non-null   int64 \n",
      "dtypes: int64(2), object(3)\n",
      "memory usage: 297.5+ KB\n"
     ]
    }
   ],
   "source": [
    "# Info of training dataset\n",
    "df_train.info()"
   ]
  },
  {
   "cell_type": "code",
   "execution_count": 5,
   "id": "04704700",
   "metadata": {},
   "outputs": [],
   "source": [
    "landing_df_train = df_train.copy()"
   ]
  },
  {
   "cell_type": "code",
   "execution_count": 6,
   "id": "58372414",
   "metadata": {},
   "outputs": [
    {
     "data": {
      "text/html": [
       "<div>\n",
       "<style scoped>\n",
       "    .dataframe tbody tr th:only-of-type {\n",
       "        vertical-align: middle;\n",
       "    }\n",
       "\n",
       "    .dataframe tbody tr th {\n",
       "        vertical-align: top;\n",
       "    }\n",
       "\n",
       "    .dataframe thead th {\n",
       "        text-align: right;\n",
       "    }\n",
       "</style>\n",
       "<table border=\"1\" class=\"dataframe\">\n",
       "  <thead>\n",
       "    <tr style=\"text-align: right;\">\n",
       "      <th></th>\n",
       "      <th>id</th>\n",
       "      <th>keyword</th>\n",
       "      <th>location</th>\n",
       "      <th>text</th>\n",
       "      <th>target</th>\n",
       "    </tr>\n",
       "  </thead>\n",
       "  <tbody>\n",
       "    <tr>\n",
       "      <th>0</th>\n",
       "      <td>1</td>\n",
       "      <td>NaN</td>\n",
       "      <td>NaN</td>\n",
       "      <td>Our Deeds are the Reason of this #earthquake May ALLAH Forgive us all</td>\n",
       "      <td>1</td>\n",
       "    </tr>\n",
       "    <tr>\n",
       "      <th>1</th>\n",
       "      <td>4</td>\n",
       "      <td>NaN</td>\n",
       "      <td>NaN</td>\n",
       "      <td>Forest fire near La Ronge Sask. Canada</td>\n",
       "      <td>1</td>\n",
       "    </tr>\n",
       "    <tr>\n",
       "      <th>2</th>\n",
       "      <td>5</td>\n",
       "      <td>NaN</td>\n",
       "      <td>NaN</td>\n",
       "      <td>All residents asked to 'shelter in place' are being notified by officers. No other evacuation or shelter in place orders are expected</td>\n",
       "      <td>1</td>\n",
       "    </tr>\n",
       "    <tr>\n",
       "      <th>3</th>\n",
       "      <td>6</td>\n",
       "      <td>NaN</td>\n",
       "      <td>NaN</td>\n",
       "      <td>13,000 people receive #wildfires evacuation orders in California</td>\n",
       "      <td>1</td>\n",
       "    </tr>\n",
       "    <tr>\n",
       "      <th>4</th>\n",
       "      <td>7</td>\n",
       "      <td>NaN</td>\n",
       "      <td>NaN</td>\n",
       "      <td>Just got sent this photo from Ruby #Alaska as smoke from #wildfires pours into a school</td>\n",
       "      <td>1</td>\n",
       "    </tr>\n",
       "  </tbody>\n",
       "</table>\n",
       "</div>"
      ],
      "text/plain": [
       "   id keyword location  \\\n",
       "0   1     NaN      NaN   \n",
       "1   4     NaN      NaN   \n",
       "2   5     NaN      NaN   \n",
       "3   6     NaN      NaN   \n",
       "4   7     NaN      NaN   \n",
       "\n",
       "                                                                                                                                    text  \\\n",
       "0                                                                  Our Deeds are the Reason of this #earthquake May ALLAH Forgive us all   \n",
       "1                                                                                                 Forest fire near La Ronge Sask. Canada   \n",
       "2  All residents asked to 'shelter in place' are being notified by officers. No other evacuation or shelter in place orders are expected   \n",
       "3                                                                      13,000 people receive #wildfires evacuation orders in California    \n",
       "4                                               Just got sent this photo from Ruby #Alaska as smoke from #wildfires pours into a school    \n",
       "\n",
       "   target  \n",
       "0       1  \n",
       "1       1  \n",
       "2       1  \n",
       "3       1  \n",
       "4       1  "
      ]
     },
     "execution_count": 6,
     "metadata": {},
     "output_type": "execute_result"
    }
   ],
   "source": [
    "landing_df_train.index.sort_values()\n",
    "landing_df_train.head()\n"
   ]
  },
  {
   "cell_type": "code",
   "execution_count": 7,
   "id": "0fe9169f",
   "metadata": {},
   "outputs": [
    {
     "data": {
      "text/html": [
       "<div>\n",
       "<style scoped>\n",
       "    .dataframe tbody tr th:only-of-type {\n",
       "        vertical-align: middle;\n",
       "    }\n",
       "\n",
       "    .dataframe tbody tr th {\n",
       "        vertical-align: top;\n",
       "    }\n",
       "\n",
       "    .dataframe thead th {\n",
       "        text-align: right;\n",
       "    }\n",
       "</style>\n",
       "<table border=\"1\" class=\"dataframe\">\n",
       "  <thead>\n",
       "    <tr style=\"text-align: right;\">\n",
       "      <th></th>\n",
       "      <th>id</th>\n",
       "      <th>keyword</th>\n",
       "      <th>location</th>\n",
       "      <th>text</th>\n",
       "      <th>target</th>\n",
       "    </tr>\n",
       "  </thead>\n",
       "  <tbody>\n",
       "    <tr>\n",
       "      <th>0</th>\n",
       "      <td>1</td>\n",
       "      <td>NaN</td>\n",
       "      <td>NaN</td>\n",
       "      <td>Our Deeds are the Reason of this #earthquake May ALLAH Forgive us all</td>\n",
       "      <td>1</td>\n",
       "    </tr>\n",
       "    <tr>\n",
       "      <th>1</th>\n",
       "      <td>4</td>\n",
       "      <td>NaN</td>\n",
       "      <td>NaN</td>\n",
       "      <td>Forest fire near La Ronge Sask. Canada</td>\n",
       "      <td>1</td>\n",
       "    </tr>\n",
       "    <tr>\n",
       "      <th>2</th>\n",
       "      <td>5</td>\n",
       "      <td>NaN</td>\n",
       "      <td>NaN</td>\n",
       "      <td>All residents asked to 'shelter in place' are being notified by officers. No other evacuation or shelter in place orders are expected</td>\n",
       "      <td>1</td>\n",
       "    </tr>\n",
       "    <tr>\n",
       "      <th>3</th>\n",
       "      <td>6</td>\n",
       "      <td>NaN</td>\n",
       "      <td>NaN</td>\n",
       "      <td>13,000 people receive #wildfires evacuation orders in California</td>\n",
       "      <td>1</td>\n",
       "    </tr>\n",
       "    <tr>\n",
       "      <th>4</th>\n",
       "      <td>7</td>\n",
       "      <td>NaN</td>\n",
       "      <td>NaN</td>\n",
       "      <td>Just got sent this photo from Ruby #Alaska as smoke from #wildfires pours into a school</td>\n",
       "      <td>1</td>\n",
       "    </tr>\n",
       "    <tr>\n",
       "      <th>...</th>\n",
       "      <td>...</td>\n",
       "      <td>...</td>\n",
       "      <td>...</td>\n",
       "      <td>...</td>\n",
       "      <td>...</td>\n",
       "    </tr>\n",
       "    <tr>\n",
       "      <th>7608</th>\n",
       "      <td>10869</td>\n",
       "      <td>NaN</td>\n",
       "      <td>NaN</td>\n",
       "      <td>Two giant cranes holding a bridge collapse into nearby homes http://t.co/STfMbbZFB5</td>\n",
       "      <td>1</td>\n",
       "    </tr>\n",
       "    <tr>\n",
       "      <th>7609</th>\n",
       "      <td>10870</td>\n",
       "      <td>NaN</td>\n",
       "      <td>NaN</td>\n",
       "      <td>@aria_ahrary @TheTawniest The out of control wild fires in California even in the Northern part of the state. Very troubling.</td>\n",
       "      <td>1</td>\n",
       "    </tr>\n",
       "    <tr>\n",
       "      <th>7610</th>\n",
       "      <td>10871</td>\n",
       "      <td>NaN</td>\n",
       "      <td>NaN</td>\n",
       "      <td>M1.94 [01:04 UTC]?5km S of Volcano Hawaii. http://t.co/zDtoyd8EbJ</td>\n",
       "      <td>1</td>\n",
       "    </tr>\n",
       "    <tr>\n",
       "      <th>7611</th>\n",
       "      <td>10872</td>\n",
       "      <td>NaN</td>\n",
       "      <td>NaN</td>\n",
       "      <td>Police investigating after an e-bike collided with a car in Little Portugal. E-bike rider suffered serious non-life threatening injuries.</td>\n",
       "      <td>1</td>\n",
       "    </tr>\n",
       "    <tr>\n",
       "      <th>7612</th>\n",
       "      <td>10873</td>\n",
       "      <td>NaN</td>\n",
       "      <td>NaN</td>\n",
       "      <td>The Latest: More Homes Razed by Northern California Wildfire - ABC News http://t.co/YmY4rSkQ3d</td>\n",
       "      <td>1</td>\n",
       "    </tr>\n",
       "  </tbody>\n",
       "</table>\n",
       "<p>7613 rows × 5 columns</p>\n",
       "</div>"
      ],
      "text/plain": [
       "         id keyword location  \\\n",
       "0         1     NaN      NaN   \n",
       "1         4     NaN      NaN   \n",
       "2         5     NaN      NaN   \n",
       "3         6     NaN      NaN   \n",
       "4         7     NaN      NaN   \n",
       "...     ...     ...      ...   \n",
       "7608  10869     NaN      NaN   \n",
       "7609  10870     NaN      NaN   \n",
       "7610  10871     NaN      NaN   \n",
       "7611  10872     NaN      NaN   \n",
       "7612  10873     NaN      NaN   \n",
       "\n",
       "                                                                                                                                           text  \\\n",
       "0                                                                         Our Deeds are the Reason of this #earthquake May ALLAH Forgive us all   \n",
       "1                                                                                                        Forest fire near La Ronge Sask. Canada   \n",
       "2         All residents asked to 'shelter in place' are being notified by officers. No other evacuation or shelter in place orders are expected   \n",
       "3                                                                             13,000 people receive #wildfires evacuation orders in California    \n",
       "4                                                      Just got sent this photo from Ruby #Alaska as smoke from #wildfires pours into a school    \n",
       "...                                                                                                                                         ...   \n",
       "7608                                                        Two giant cranes holding a bridge collapse into nearby homes http://t.co/STfMbbZFB5   \n",
       "7609              @aria_ahrary @TheTawniest The out of control wild fires in California even in the Northern part of the state. Very troubling.   \n",
       "7610                                                                          M1.94 [01:04 UTC]?5km S of Volcano Hawaii. http://t.co/zDtoyd8EbJ   \n",
       "7611  Police investigating after an e-bike collided with a car in Little Portugal. E-bike rider suffered serious non-life threatening injuries.   \n",
       "7612                                             The Latest: More Homes Razed by Northern California Wildfire - ABC News http://t.co/YmY4rSkQ3d   \n",
       "\n",
       "      target  \n",
       "0          1  \n",
       "1          1  \n",
       "2          1  \n",
       "3          1  \n",
       "4          1  \n",
       "...      ...  \n",
       "7608       1  \n",
       "7609       1  \n",
       "7610       1  \n",
       "7611       1  \n",
       "7612       1  \n",
       "\n",
       "[7613 rows x 5 columns]"
      ]
     },
     "execution_count": 7,
     "metadata": {},
     "output_type": "execute_result"
    }
   ],
   "source": [
    "landing_df_train.sort_index()"
   ]
  },
  {
   "cell_type": "code",
   "execution_count": 8,
   "id": "698671b8",
   "metadata": {},
   "outputs": [
    {
     "data": {
      "text/plain": [
       "array([[1, nan, nan,\n",
       "        'Our Deeds are the Reason of this #earthquake May ALLAH Forgive us all',\n",
       "        1],\n",
       "       [4, nan, nan, 'Forest fire near La Ronge Sask. Canada', 1],\n",
       "       [5, nan, nan,\n",
       "        \"All residents asked to 'shelter in place' are being notified by officers. No other evacuation or shelter in place orders are expected\",\n",
       "        1],\n",
       "       ...,\n",
       "       [10871, nan, nan,\n",
       "        'M1.94 [01:04 UTC]?5km S of Volcano Hawaii. http://t.co/zDtoyd8EbJ',\n",
       "        1],\n",
       "       [10872, nan, nan,\n",
       "        'Police investigating after an e-bike collided with a car in Little Portugal. E-bike rider suffered serious non-life threatening injuries.',\n",
       "        1],\n",
       "       [10873, nan, nan,\n",
       "        'The Latest: More Homes Razed by Northern California Wildfire - ABC News http://t.co/YmY4rSkQ3d',\n",
       "        1]], dtype=object)"
      ]
     },
     "execution_count": 8,
     "metadata": {},
     "output_type": "execute_result"
    }
   ],
   "source": [
    "#Transforming DataFrame into array\n",
    "landing_df_train.values"
   ]
  },
  {
   "cell_type": "code",
   "execution_count": 9,
   "id": "081a0c8c",
   "metadata": {},
   "outputs": [
    {
     "name": "stdout",
     "output_type": "stream",
     "text": [
      "3342\n"
     ]
    }
   ],
   "source": [
    "#unique values for the location column\n",
    "print(len(landing_df_train['location'].unique()))"
   ]
  },
  {
   "cell_type": "code",
   "execution_count": 10,
   "id": "d817be15",
   "metadata": {},
   "outputs": [
    {
     "data": {
      "text/plain": [
       "3341"
      ]
     },
     "execution_count": 10,
     "metadata": {},
     "output_type": "execute_result"
    }
   ],
   "source": [
    "len(landing_df_train.pivot_table(index=['location'],aggfunc='size'))\n"
   ]
  },
  {
   "cell_type": "code",
   "execution_count": 11,
   "id": "905c1b93",
   "metadata": {},
   "outputs": [
    {
     "data": {
      "text/html": [
       "<div>\n",
       "<style scoped>\n",
       "    .dataframe tbody tr th:only-of-type {\n",
       "        vertical-align: middle;\n",
       "    }\n",
       "\n",
       "    .dataframe tbody tr th {\n",
       "        vertical-align: top;\n",
       "    }\n",
       "\n",
       "    .dataframe thead th {\n",
       "        text-align: right;\n",
       "    }\n",
       "</style>\n",
       "<table border=\"1\" class=\"dataframe\">\n",
       "  <thead>\n",
       "    <tr style=\"text-align: right;\">\n",
       "      <th></th>\n",
       "      <th>target</th>\n",
       "      <th>location</th>\n",
       "    </tr>\n",
       "  </thead>\n",
       "  <tbody>\n",
       "    <tr>\n",
       "      <th>0</th>\n",
       "      <td>1</td>\n",
       "      <td>NaN</td>\n",
       "    </tr>\n",
       "    <tr>\n",
       "      <th>1</th>\n",
       "      <td>1</td>\n",
       "      <td>NaN</td>\n",
       "    </tr>\n",
       "    <tr>\n",
       "      <th>2</th>\n",
       "      <td>1</td>\n",
       "      <td>NaN</td>\n",
       "    </tr>\n",
       "    <tr>\n",
       "      <th>3</th>\n",
       "      <td>1</td>\n",
       "      <td>NaN</td>\n",
       "    </tr>\n",
       "    <tr>\n",
       "      <th>4</th>\n",
       "      <td>1</td>\n",
       "      <td>NaN</td>\n",
       "    </tr>\n",
       "    <tr>\n",
       "      <th>...</th>\n",
       "      <td>...</td>\n",
       "      <td>...</td>\n",
       "    </tr>\n",
       "    <tr>\n",
       "      <th>7608</th>\n",
       "      <td>1</td>\n",
       "      <td>NaN</td>\n",
       "    </tr>\n",
       "    <tr>\n",
       "      <th>7609</th>\n",
       "      <td>1</td>\n",
       "      <td>NaN</td>\n",
       "    </tr>\n",
       "    <tr>\n",
       "      <th>7610</th>\n",
       "      <td>1</td>\n",
       "      <td>NaN</td>\n",
       "    </tr>\n",
       "    <tr>\n",
       "      <th>7611</th>\n",
       "      <td>1</td>\n",
       "      <td>NaN</td>\n",
       "    </tr>\n",
       "    <tr>\n",
       "      <th>7612</th>\n",
       "      <td>1</td>\n",
       "      <td>NaN</td>\n",
       "    </tr>\n",
       "  </tbody>\n",
       "</table>\n",
       "<p>7613 rows × 2 columns</p>\n",
       "</div>"
      ],
      "text/plain": [
       "      target location\n",
       "0          1      NaN\n",
       "1          1      NaN\n",
       "2          1      NaN\n",
       "3          1      NaN\n",
       "4          1      NaN\n",
       "...      ...      ...\n",
       "7608       1      NaN\n",
       "7609       1      NaN\n",
       "7610       1      NaN\n",
       "7611       1      NaN\n",
       "7612       1      NaN\n",
       "\n",
       "[7613 rows x 2 columns]"
      ]
     },
     "execution_count": 11,
     "metadata": {},
     "output_type": "execute_result"
    }
   ],
   "source": [
    "landing_df_train[['target', 'location']]"
   ]
  },
  {
   "cell_type": "code",
   "execution_count": 12,
   "id": "48f809ea",
   "metadata": {},
   "outputs": [
    {
     "data": {
      "text/plain": [
       "(7613, 5)"
      ]
     },
     "execution_count": 12,
     "metadata": {},
     "output_type": "execute_result"
    }
   ],
   "source": [
    "landing_df_train.shape"
   ]
  },
  {
   "cell_type": "code",
   "execution_count": 31,
   "id": "e3f1026a",
   "metadata": {},
   "outputs": [],
   "source": [
    "#we remove the punctuation for each tweet\n",
    "landing_df_train['text'] = landing_df_train['text'].apply(lambda x: re.sub('[%s]' % re.escape(string.punctuation), '', x))"
   ]
  },
  {
   "cell_type": "code",
   "execution_count": 32,
   "id": "abf86604",
   "metadata": {},
   "outputs": [
    {
     "data": {
      "text/html": [
       "<div>\n",
       "<style scoped>\n",
       "    .dataframe tbody tr th:only-of-type {\n",
       "        vertical-align: middle;\n",
       "    }\n",
       "\n",
       "    .dataframe tbody tr th {\n",
       "        vertical-align: top;\n",
       "    }\n",
       "\n",
       "    .dataframe thead th {\n",
       "        text-align: right;\n",
       "    }\n",
       "</style>\n",
       "<table border=\"1\" class=\"dataframe\">\n",
       "  <thead>\n",
       "    <tr style=\"text-align: right;\">\n",
       "      <th></th>\n",
       "      <th>id</th>\n",
       "      <th>keyword</th>\n",
       "      <th>location</th>\n",
       "      <th>text</th>\n",
       "      <th>target</th>\n",
       "    </tr>\n",
       "  </thead>\n",
       "  <tbody>\n",
       "    <tr>\n",
       "      <th>0</th>\n",
       "      <td>1</td>\n",
       "      <td>NaN</td>\n",
       "      <td>NaN</td>\n",
       "      <td>Our Deeds are the Reason of this earthquake May ALLAH Forgive us all</td>\n",
       "      <td>1</td>\n",
       "    </tr>\n",
       "    <tr>\n",
       "      <th>1</th>\n",
       "      <td>4</td>\n",
       "      <td>NaN</td>\n",
       "      <td>NaN</td>\n",
       "      <td>Forest fire near La Ronge Sask Canada</td>\n",
       "      <td>1</td>\n",
       "    </tr>\n",
       "    <tr>\n",
       "      <th>2</th>\n",
       "      <td>5</td>\n",
       "      <td>NaN</td>\n",
       "      <td>NaN</td>\n",
       "      <td>All residents asked to shelter in place are being notified by officers No other evacuation or shelter in place orders are expected</td>\n",
       "      <td>1</td>\n",
       "    </tr>\n",
       "    <tr>\n",
       "      <th>3</th>\n",
       "      <td>6</td>\n",
       "      <td>NaN</td>\n",
       "      <td>NaN</td>\n",
       "      <td>13000 people receive wildfires evacuation orders in California</td>\n",
       "      <td>1</td>\n",
       "    </tr>\n",
       "    <tr>\n",
       "      <th>4</th>\n",
       "      <td>7</td>\n",
       "      <td>NaN</td>\n",
       "      <td>NaN</td>\n",
       "      <td>Just got sent this photo from Ruby Alaska as smoke from wildfires pours into a school</td>\n",
       "      <td>1</td>\n",
       "    </tr>\n",
       "  </tbody>\n",
       "</table>\n",
       "</div>"
      ],
      "text/plain": [
       "   id keyword location  \\\n",
       "0   1     NaN      NaN   \n",
       "1   4     NaN      NaN   \n",
       "2   5     NaN      NaN   \n",
       "3   6     NaN      NaN   \n",
       "4   7     NaN      NaN   \n",
       "\n",
       "                                                                                                                                 text  \\\n",
       "0                                                                Our Deeds are the Reason of this earthquake May ALLAH Forgive us all   \n",
       "1                                                                                               Forest fire near La Ronge Sask Canada   \n",
       "2  All residents asked to shelter in place are being notified by officers No other evacuation or shelter in place orders are expected   \n",
       "3                                                                     13000 people receive wildfires evacuation orders in California    \n",
       "4                                              Just got sent this photo from Ruby Alaska as smoke from wildfires pours into a school    \n",
       "\n",
       "   target  \n",
       "0       1  \n",
       "1       1  \n",
       "2       1  \n",
       "3       1  \n",
       "4       1  "
      ]
     },
     "execution_count": 32,
     "metadata": {},
     "output_type": "execute_result"
    }
   ],
   "source": [
    "landing_df_train.head()"
   ]
  },
  {
   "cell_type": "code",
   "execution_count": 36,
   "id": "34a745c5",
   "metadata": {},
   "outputs": [
    {
     "name": "stderr",
     "output_type": "stream",
     "text": [
      "[nltk_data] Downloading package stopwords to /home/jose/nltk_data...\n",
      "[nltk_data]   Unzipping corpora/stopwords.zip.\n"
     ]
    }
   ],
   "source": [
    "#stopwords set defined\n",
    "nltk.download('stopwords')\n",
    "stop_words = set(stopwords.words('english'))"
   ]
  },
  {
   "cell_type": "code",
   "execution_count": 37,
   "id": "ea26d49b",
   "metadata": {},
   "outputs": [
    {
     "name": "stdout",
     "output_type": "stream",
     "text": [
      "{'too', 'my', 'don', 'me', 'these', 'now', 'their', 'into', \"you've\", 'if', 'but', 'before', 'am', 'isn', 'been', 'how', 'over', 'above', \"didn't\", 'weren', 'has', 'have', 'ours', 'yourselves', 'we', 'further', 'doesn', 'all', 'haven', 'for', 'themselves', 'as', 'ain', \"wouldn't\", 'herself', 'couldn', 'this', 't', \"mustn't\", 'from', 'wouldn', 'do', 'once', 'each', 'any', 'our', 'd', 'while', 'or', 'had', 'and', 'you', 'why', 'did', 'mustn', 'up', \"haven't\", 'he', 'are', 'than', 'shan', 'myself', 'yours', 'because', 'mightn', 'y', 'his', 'hasn', 'they', \"it's\", 'nor', 'being', 'shouldn', 'other', \"aren't\", 'both', \"shan't\", 've', \"you're\", 'what', 'will', 'himself', 'does', \"you'd\", 'then', 'those', 'were', 's', \"hasn't\", 'having', 'during', 'some', \"should've\", 'needn', 'an', 'off', 'here', 'few', \"weren't\", 'theirs', 'hers', \"couldn't\", 'who', 'more', 'just', 'where', \"shouldn't\", 'it', 'in', 'by', 'after', 'such', 'her', 'that', 'so', 'of', 'against', 'through', 'your', 'she', 'to', 'm', 'yourself', 'which', 'ourselves', 'own', \"that'll\", 'should', 'll', \"won't\", 'about', 'on', 'very', \"needn't\", 'i', 'out', 'down', 'no', 'hadn', \"hadn't\", 'when', 'didn', \"mightn't\", 'at', 'a', 'aren', \"she's\", 'itself', \"wasn't\", 'whom', \"doesn't\", 'below', 'be', 'again', \"don't\", 'until', 'wasn', 'won', 'is', 'only', 'him', 'was', 'between', 'not', 'its', 'the', 'doing', 're', 'can', \"isn't\", 'them', 'o', 'with', 'there', \"you'll\", 'most', 'same', 'under', 'ma'}\n"
     ]
    }
   ],
   "source": [
    "print(stop_words)"
   ]
  },
  {
   "cell_type": "code",
   "execution_count": 38,
   "id": "2cbe71fb",
   "metadata": {},
   "outputs": [],
   "source": [
    "landing_df_train['text'] = landing_df_train['text'].apply(lambda x: ' '.join([word for word in x.split() if word.lower() not in stop_words]))\n"
   ]
  },
  {
   "cell_type": "code",
   "execution_count": 39,
   "id": "f80fdff0",
   "metadata": {},
   "outputs": [
    {
     "data": {
      "text/html": [
       "<div>\n",
       "<style scoped>\n",
       "    .dataframe tbody tr th:only-of-type {\n",
       "        vertical-align: middle;\n",
       "    }\n",
       "\n",
       "    .dataframe tbody tr th {\n",
       "        vertical-align: top;\n",
       "    }\n",
       "\n",
       "    .dataframe thead th {\n",
       "        text-align: right;\n",
       "    }\n",
       "</style>\n",
       "<table border=\"1\" class=\"dataframe\">\n",
       "  <thead>\n",
       "    <tr style=\"text-align: right;\">\n",
       "      <th></th>\n",
       "      <th>id</th>\n",
       "      <th>keyword</th>\n",
       "      <th>location</th>\n",
       "      <th>text</th>\n",
       "      <th>target</th>\n",
       "    </tr>\n",
       "  </thead>\n",
       "  <tbody>\n",
       "    <tr>\n",
       "      <th>0</th>\n",
       "      <td>1</td>\n",
       "      <td>NaN</td>\n",
       "      <td>NaN</td>\n",
       "      <td>Deeds Reason earthquake May ALLAH Forgive us</td>\n",
       "      <td>1</td>\n",
       "    </tr>\n",
       "    <tr>\n",
       "      <th>1</th>\n",
       "      <td>4</td>\n",
       "      <td>NaN</td>\n",
       "      <td>NaN</td>\n",
       "      <td>Forest fire near La Ronge Sask Canada</td>\n",
       "      <td>1</td>\n",
       "    </tr>\n",
       "    <tr>\n",
       "      <th>2</th>\n",
       "      <td>5</td>\n",
       "      <td>NaN</td>\n",
       "      <td>NaN</td>\n",
       "      <td>residents asked shelter place notified officers evacuation shelter place orders expected</td>\n",
       "      <td>1</td>\n",
       "    </tr>\n",
       "    <tr>\n",
       "      <th>3</th>\n",
       "      <td>6</td>\n",
       "      <td>NaN</td>\n",
       "      <td>NaN</td>\n",
       "      <td>13000 people receive wildfires evacuation orders California</td>\n",
       "      <td>1</td>\n",
       "    </tr>\n",
       "    <tr>\n",
       "      <th>4</th>\n",
       "      <td>7</td>\n",
       "      <td>NaN</td>\n",
       "      <td>NaN</td>\n",
       "      <td>got sent photo Ruby Alaska smoke wildfires pours school</td>\n",
       "      <td>1</td>\n",
       "    </tr>\n",
       "  </tbody>\n",
       "</table>\n",
       "</div>"
      ],
      "text/plain": [
       "   id keyword location  \\\n",
       "0   1     NaN      NaN   \n",
       "1   4     NaN      NaN   \n",
       "2   5     NaN      NaN   \n",
       "3   6     NaN      NaN   \n",
       "4   7     NaN      NaN   \n",
       "\n",
       "                                                                                       text  \\\n",
       "0                                              Deeds Reason earthquake May ALLAH Forgive us   \n",
       "1                                                     Forest fire near La Ronge Sask Canada   \n",
       "2  residents asked shelter place notified officers evacuation shelter place orders expected   \n",
       "3                               13000 people receive wildfires evacuation orders California   \n",
       "4                                   got sent photo Ruby Alaska smoke wildfires pours school   \n",
       "\n",
       "   target  \n",
       "0       1  \n",
       "1       1  \n",
       "2       1  \n",
       "3       1  \n",
       "4       1  "
      ]
     },
     "execution_count": 39,
     "metadata": {},
     "output_type": "execute_result"
    }
   ],
   "source": [
    "landing_df_train.head()"
   ]
  },
  {
   "cell_type": "code",
   "execution_count": 14,
   "id": "cafc0646",
   "metadata": {
    "execution": {
     "iopub.execute_input": "2023-01-26T16:57:00.018640Z",
     "iopub.status.busy": "2023-01-26T16:57:00.018313Z",
     "iopub.status.idle": "2023-01-26T16:57:00.192711Z",
     "shell.execute_reply": "2023-01-26T16:57:00.191412Z"
    },
    "papermill": {
     "duration": 0.183526,
     "end_time": "2023-01-26T16:57:00.195002",
     "exception": false,
     "start_time": "2023-01-26T16:57:00.011476",
     "status": "completed"
    },
    "tags": []
   },
   "outputs": [
    {
     "data": {
      "image/png": "[encoded data removed]",
      "text/plain": [
       "<Figure size 2000x600 with 1 Axes>"
      ]
     },
     "metadata": {},
     "output_type": "display_data"
    }
   ],
   "source": [
    "# Check if data is balanced\n",
    "plt.figure(figsize=(20, 6))\n",
    "ax = sns.countplot(x=df_train[\"target\"])\n",
    "ax.set_title(\"Target\", fontsize=20)\n",
    "plt.show()"
   ]
  },
  {
   "cell_type": "code",
   "execution_count": 15,
   "id": "c786800d",
   "metadata": {
    "execution": {
     "iopub.execute_input": "2023-01-26T16:57:00.208185Z",
     "iopub.status.busy": "2023-01-26T16:57:00.207673Z",
     "iopub.status.idle": "2023-01-26T16:57:02.121484Z",
     "shell.execute_reply": "2023-01-26T16:57:02.119987Z"
    },
    "papermill": {
     "duration": 1.923054,
     "end_time": "2023-01-26T16:57:02.123668",
     "exception": false,
     "start_time": "2023-01-26T16:57:00.200614",
     "status": "completed"
    },
    "tags": []
   },
   "outputs": [
    {
     "data": {
      "text/plain": [
       "fatalities               45\n",
       "deluge                   42\n",
       "armageddon               42\n",
       "sinking                  41\n",
       "damage                   41\n",
       "                         ..\n",
       "forest%20fire            19\n",
       "epicentre                12\n",
       "threat                   11\n",
       "inundation               10\n",
       "radiation%20emergency     9\n",
       "Name: keyword, Length: 221, dtype: int64"
      ]
     },
     "execution_count": 15,
     "metadata": {},
     "output_type": "execute_result"
    }
   ],
   "source": [
    "# Check different keywords\n",
    "df_train[\"keyword\"].value_counts()"
   ]
  },
  {
   "cell_type": "code",
   "execution_count": 16,
   "id": "3c7424cb",
   "metadata": {},
   "outputs": [
    {
     "data": {
      "text/plain": [
       "id                                                                           49\n",
       "keyword                                                                  ablaze\n",
       "location                                          Est. September 2012 - Bristol\n",
       "text        We always try to bring the heavy. #metal #RT http://t.co/YAo1e0xngw\n",
       "target                                                                        0\n",
       "Name: 32, dtype: object"
      ]
     },
     "execution_count": 16,
     "metadata": {},
     "output_type": "execute_result"
    }
   ],
   "source": [
    "# Checking one non disaster tweet\n",
    "df_train.iloc[32]"
   ]
  },
  {
   "cell_type": "code",
   "execution_count": 17,
   "id": "56adbdc5",
   "metadata": {},
   "outputs": [
    {
     "data": {
      "text/plain": [
       "id                                                                                          50\n",
       "keyword                                                                                 ablaze\n",
       "location                                                                                AFRICA\n",
       "text        #AFRICANBAZE: Breaking news:Nigeria flag set ablaze in Aba. http://t.co/2nndBGwyEi\n",
       "target                                                                                       1\n",
       "Name: 33, dtype: object"
      ]
     },
     "execution_count": 17,
     "metadata": {},
     "output_type": "execute_result"
    }
   ],
   "source": [
    "# Checking one disaster tweet\n",
    "df_train.iloc[33]"
   ]
  },
  {
   "cell_type": "code",
   "execution_count": 18,
   "id": "6a98936b",
   "metadata": {},
   "outputs": [
    {
     "data": {
      "text/plain": [
       "id                                                               48\n",
       "keyword                                                      ablaze\n",
       "location                                                 Birmingham\n",
       "text        @bbcmtd Wholesale Markets ablaze http://t.co/lHYXEOHY6C\n",
       "target                                                            1\n",
       "Name: 31, dtype: object"
      ]
     },
     "execution_count": 18,
     "metadata": {},
     "output_type": "execute_result"
    }
   ],
   "source": [
    "# Checking one disaster tweet\n",
    "df_train.iloc[31]"
   ]
  },
  {
   "cell_type": "code",
   "execution_count": 19,
   "id": "ed58f21d",
   "metadata": {},
   "outputs": [],
   "source": [
    "# Converting tweets to Spacy docs\n",
    "tweet_non_disaster = nlp(df_train.iloc[32]['text'])\n",
    "tweet_disaster_1 = nlp(df_train.iloc[31]['text'])\n",
    "tweet_disaster_2 = nlp(df_train.iloc[33]['text'])"
   ]
  },
  {
   "cell_type": "code",
   "execution_count": 20,
   "id": "df2c43bd",
   "metadata": {},
   "outputs": [
    {
     "name": "stdout",
     "output_type": "stream",
     "text": [
      "@bbcmtd Wholesale Markets ablaze http://t.co/lHYXEOHY6C <-> We always try to bring the heavy. #metal #RT http://t.co/YAo1e0xngw 0.23727926195159454\n"
     ]
    }
   ],
   "source": [
    "# Comparing similarities disaster vs non disaster\n",
    "print(tweet_disaster_1,\"<->\",tweet_non_disaster,tweet_disaster_1.similarity(tweet_non_disaster))"
   ]
  },
  {
   "cell_type": "code",
   "execution_count": 21,
   "id": "1ff9f87f",
   "metadata": {},
   "outputs": [
    {
     "name": "stdout",
     "output_type": "stream",
     "text": [
      "@bbcmtd Wholesale Markets ablaze http://t.co/lHYXEOHY6C <-> #AFRICANBAZE: Breaking news:Nigeria flag set ablaze in Aba. http://t.co/2nndBGwyEi 0.40555911607955897\n"
     ]
    }
   ],
   "source": [
    "# Comparing similarities disaster vs disaster\n",
    "print(tweet_disaster_1,\"<->\",tweet_disaster_2,tweet_disaster_1.similarity(tweet_disaster_2))"
   ]
  },
  {
   "cell_type": "code",
   "execution_count": 22,
   "id": "f16352bb",
   "metadata": {},
   "outputs": [
    {
     "name": "stdout",
     "output_type": "stream",
     "text": [
      "# # SYM $ nmod # False False\n",
      "AFRICANBAZE AFRICANBAZE NOUN NNS ROOT XXXX True False\n",
      ": : PUNCT : punct : False False\n",
      "Breaking break VERB VBG amod Xxxxx True False\n",
      "news news NOUN NN ROOT xxxx True False\n",
      ": : PUNCT : punct : False False\n",
      "Nigeria Nigeria PROPN NNP appos Xxxxx True False\n",
      "flag flag NOUN NN npadvmod xxxx True False\n",
      "set set VERB VBN acl xxx True False\n",
      "ablaze ablaze NOUN NN dobj xxxx True False\n",
      "in in ADP IN prep xx True True\n",
      "Aba Aba PROPN NNP pobj Xxx True False\n",
      ". . PUNCT . pobj . False False\n",
      "http://t.co/2nndBGwyEi http://t.co/2nndBGwyEi PROPN NNP punct xxxx://x.xx/dxxxXXxxXx False False\n"
     ]
    }
   ],
   "source": [
    "# Checking properties of token\n",
    "for token in tweet_disaster_2:\n",
    "    print(token.text, token.lemma_, token.pos_, token.tag_, token.dep_,\n",
    "            token.shape_, token.is_alpha, token.is_stop)"
   ]
  },
  {
   "cell_type": "code",
   "execution_count": 23,
   "id": "c4386fba",
   "metadata": {},
   "outputs": [],
   "source": [
    "# Check different words on Tweets\n",
    "# initialize CountVectorizer\n",
    "\n",
    "\n",
    "\n",
    "\n",
    "\n",
    "\n",
    "ctv = CountVectorizer(tokenizer=word_tokenize,token_pattern=None)"
   ]
  },
  {
   "cell_type": "code",
   "execution_count": 24,
   "id": "c6d24592",
   "metadata": {},
   "outputs": [],
   "source": [
    "# Create corpus with disaster tweets\n",
    "corpus_disaster = df_train[df_train['target'] ==1]['text']"
   ]
  },
  {
   "cell_type": "code",
   "execution_count": null,
   "id": "7123be6d",
   "metadata": {},
   "outputs": [],
   "source": []
  },
  {
   "cell_type": "code",
   "execution_count": 25,
   "id": "966fc239",
   "metadata": {},
   "outputs": [],
   "source": [
    "#Removing stopwords\n",
    "removal= ['PRON','CCONJ','PUNCT','PART','DET','ADP','SPACE', 'NUM', 'SYM', 'AUX', 'SCONJ']"
   ]
  },
  {
   "cell_type": "code",
   "execution_count": 26,
   "id": "182810a0",
   "metadata": {},
   "outputs": [],
   "source": [
    "#Tokenization\n",
    "tokens = []\n",
    "for summary in nlp.pipe(corpus_disaster):\n",
    "   proj_tok = [token.lemma_.lower() for token in summary if token.pos_ not in removal and not token.is_stop and token.is_alpha]\n",
    "   tokens.append(proj_tok)"
   ]
  },
  {
   "cell_type": "code",
   "execution_count": 27,
   "id": "ea86a173",
   "metadata": {},
   "outputs": [
    {
     "ename": "LookupError",
     "evalue": "\n**********************************************************************\n  Resource \u001b[93mpunkt\u001b[0m not found.\n  Please use the NLTK Downloader to obtain the resource:\n\n  \u001b[31m>>> import nltk\n  >>> nltk.download('punkt')\n  \u001b[0m\n  For more information see: https://www.nltk.org/data.html\n\n  Attempted to load \u001b[93mtokenizers/punkt/PY3/english.pickle\u001b[0m\n\n  Searched in:\n    - '/home/jose/nltk_data'\n    - '/home/jose/NLP-with-Disaster-Tweets/venv/nltk_data'\n    - '/home/jose/NLP-with-Disaster-Tweets/venv/share/nltk_data'\n    - '/home/jose/NLP-with-Disaster-Tweets/venv/lib/nltk_data'\n    - '/usr/share/nltk_data'\n    - '/usr/local/share/nltk_data'\n    - '/usr/lib/nltk_data'\n    - '/usr/local/lib/nltk_data'\n    - ''\n**********************************************************************\n",
     "output_type": "error",
     "traceback": [
      "\u001b[0;31m---------------------------------------------------------------------------\u001b[0m",
      "\u001b[0;31mLookupError\u001b[0m                               Traceback (most recent call last)",
      "Cell \u001b[0;32mIn[27], line 2\u001b[0m\n\u001b[1;32m      1\u001b[0m \u001b[39m# fit the vectorizer on corpus\u001b[39;00m\n\u001b[0;32m----> 2\u001b[0m ctv\u001b[39m.\u001b[39;49mfit(corpus_disaster)\n\u001b[1;32m      3\u001b[0m corpus_transformed \u001b[39m=\u001b[39m ctv\u001b[39m.\u001b[39mtransform(corpus_disaster)\n",
      "File \u001b[0;32m~/NLP-with-Disaster-Tweets/venv/lib/python3.10/site-packages/sklearn/feature_extraction/text.py:1328\u001b[0m, in \u001b[0;36mCountVectorizer.fit\u001b[0;34m(self, raw_documents, y)\u001b[0m\n\u001b[1;32m   1312\u001b[0m \u001b[39mdef\u001b[39;00m \u001b[39mfit\u001b[39m(\u001b[39mself\u001b[39m, raw_documents, y\u001b[39m=\u001b[39m\u001b[39mNone\u001b[39;00m):\n\u001b[1;32m   1313\u001b[0m \u001b[39m    \u001b[39m\u001b[39m\"\"\"Learn a vocabulary dictionary of all tokens in the raw documents.\u001b[39;00m\n\u001b[1;32m   1314\u001b[0m \n\u001b[1;32m   1315\u001b[0m \u001b[39m    Parameters\u001b[39;00m\n\u001b[0;32m   (...)\u001b[0m\n\u001b[1;32m   1326\u001b[0m \u001b[39m        Fitted vectorizer.\u001b[39;00m\n\u001b[1;32m   1327\u001b[0m \u001b[39m    \"\"\"\u001b[39;00m\n\u001b[0;32m-> 1328\u001b[0m     \u001b[39mself\u001b[39;49m\u001b[39m.\u001b[39;49mfit_transform(raw_documents)\n\u001b[1;32m   1329\u001b[0m     \u001b[39mreturn\u001b[39;00m \u001b[39mself\u001b[39m\n",
      "File \u001b[0;32m~/NLP-with-Disaster-Tweets/venv/lib/python3.10/site-packages/sklearn/feature_extraction/text.py:1377\u001b[0m, in \u001b[0;36mCountVectorizer.fit_transform\u001b[0;34m(self, raw_documents, y)\u001b[0m\n\u001b[1;32m   1369\u001b[0m             warnings\u001b[39m.\u001b[39mwarn(\n\u001b[1;32m   1370\u001b[0m                 \u001b[39m\"\u001b[39m\u001b[39mUpper case characters found in\u001b[39m\u001b[39m\"\u001b[39m\n\u001b[1;32m   1371\u001b[0m                 \u001b[39m\"\u001b[39m\u001b[39m vocabulary while \u001b[39m\u001b[39m'\u001b[39m\u001b[39mlowercase\u001b[39m\u001b[39m'\u001b[39m\u001b[39m\"\u001b[39m\n\u001b[1;32m   1372\u001b[0m                 \u001b[39m\"\u001b[39m\u001b[39m is True. These entries will not\u001b[39m\u001b[39m\"\u001b[39m\n\u001b[1;32m   1373\u001b[0m                 \u001b[39m\"\u001b[39m\u001b[39m be matched with any documents\u001b[39m\u001b[39m\"\u001b[39m\n\u001b[1;32m   1374\u001b[0m             )\n\u001b[1;32m   1375\u001b[0m             \u001b[39mbreak\u001b[39;00m\n\u001b[0;32m-> 1377\u001b[0m vocabulary, X \u001b[39m=\u001b[39m \u001b[39mself\u001b[39;49m\u001b[39m.\u001b[39;49m_count_vocab(raw_documents, \u001b[39mself\u001b[39;49m\u001b[39m.\u001b[39;49mfixed_vocabulary_)\n\u001b[1;32m   1379\u001b[0m \u001b[39mif\u001b[39;00m \u001b[39mself\u001b[39m\u001b[39m.\u001b[39mbinary:\n\u001b[1;32m   1380\u001b[0m     X\u001b[39m.\u001b[39mdata\u001b[39m.\u001b[39mfill(\u001b[39m1\u001b[39m)\n",
      "File \u001b[0;32m~/NLP-with-Disaster-Tweets/venv/lib/python3.10/site-packages/sklearn/feature_extraction/text.py:1264\u001b[0m, in \u001b[0;36mCountVectorizer._count_vocab\u001b[0;34m(self, raw_documents, fixed_vocab)\u001b[0m\n\u001b[1;32m   1262\u001b[0m \u001b[39mfor\u001b[39;00m doc \u001b[39min\u001b[39;00m raw_documents:\n\u001b[1;32m   1263\u001b[0m     feature_counter \u001b[39m=\u001b[39m {}\n\u001b[0;32m-> 1264\u001b[0m     \u001b[39mfor\u001b[39;00m feature \u001b[39min\u001b[39;00m analyze(doc):\n\u001b[1;32m   1265\u001b[0m         \u001b[39mtry\u001b[39;00m:\n\u001b[1;32m   1266\u001b[0m             feature_idx \u001b[39m=\u001b[39m vocabulary[feature]\n",
      "File \u001b[0;32m~/NLP-with-Disaster-Tweets/venv/lib/python3.10/site-packages/sklearn/feature_extraction/text.py:113\u001b[0m, in \u001b[0;36m_analyze\u001b[0;34m(doc, analyzer, tokenizer, ngrams, preprocessor, decoder, stop_words)\u001b[0m\n\u001b[1;32m    111\u001b[0m     doc \u001b[39m=\u001b[39m preprocessor(doc)\n\u001b[1;32m    112\u001b[0m \u001b[39mif\u001b[39;00m tokenizer \u001b[39mis\u001b[39;00m \u001b[39mnot\u001b[39;00m \u001b[39mNone\u001b[39;00m:\n\u001b[0;32m--> 113\u001b[0m     doc \u001b[39m=\u001b[39m tokenizer(doc)\n\u001b[1;32m    114\u001b[0m \u001b[39mif\u001b[39;00m ngrams \u001b[39mis\u001b[39;00m \u001b[39mnot\u001b[39;00m \u001b[39mNone\u001b[39;00m:\n\u001b[1;32m    115\u001b[0m     \u001b[39mif\u001b[39;00m stop_words \u001b[39mis\u001b[39;00m \u001b[39mnot\u001b[39;00m \u001b[39mNone\u001b[39;00m:\n",
      "File \u001b[0;32m~/NLP-with-Disaster-Tweets/venv/lib/python3.10/site-packages/nltk/tokenize/__init__.py:129\u001b[0m, in \u001b[0;36mword_tokenize\u001b[0;34m(text, language, preserve_line)\u001b[0m\n\u001b[1;32m    114\u001b[0m \u001b[39mdef\u001b[39;00m \u001b[39mword_tokenize\u001b[39m(text, language\u001b[39m=\u001b[39m\u001b[39m\"\u001b[39m\u001b[39menglish\u001b[39m\u001b[39m\"\u001b[39m, preserve_line\u001b[39m=\u001b[39m\u001b[39mFalse\u001b[39;00m):\n\u001b[1;32m    115\u001b[0m \u001b[39m    \u001b[39m\u001b[39m\"\"\"\u001b[39;00m\n\u001b[1;32m    116\u001b[0m \u001b[39m    Return a tokenized copy of *text*,\u001b[39;00m\n\u001b[1;32m    117\u001b[0m \u001b[39m    using NLTK's recommended word tokenizer\u001b[39;00m\n\u001b[0;32m   (...)\u001b[0m\n\u001b[1;32m    127\u001b[0m \u001b[39m    :type preserve_line: bool\u001b[39;00m\n\u001b[1;32m    128\u001b[0m \u001b[39m    \"\"\"\u001b[39;00m\n\u001b[0;32m--> 129\u001b[0m     sentences \u001b[39m=\u001b[39m [text] \u001b[39mif\u001b[39;00m preserve_line \u001b[39melse\u001b[39;00m sent_tokenize(text, language)\n\u001b[1;32m    130\u001b[0m     \u001b[39mreturn\u001b[39;00m [\n\u001b[1;32m    131\u001b[0m         token \u001b[39mfor\u001b[39;00m sent \u001b[39min\u001b[39;00m sentences \u001b[39mfor\u001b[39;00m token \u001b[39min\u001b[39;00m _treebank_word_tokenizer\u001b[39m.\u001b[39mtokenize(sent)\n\u001b[1;32m    132\u001b[0m     ]\n",
      "File \u001b[0;32m~/NLP-with-Disaster-Tweets/venv/lib/python3.10/site-packages/nltk/tokenize/__init__.py:106\u001b[0m, in \u001b[0;36msent_tokenize\u001b[0;34m(text, language)\u001b[0m\n\u001b[1;32m     96\u001b[0m \u001b[39mdef\u001b[39;00m \u001b[39msent_tokenize\u001b[39m(text, language\u001b[39m=\u001b[39m\u001b[39m\"\u001b[39m\u001b[39menglish\u001b[39m\u001b[39m\"\u001b[39m):\n\u001b[1;32m     97\u001b[0m \u001b[39m    \u001b[39m\u001b[39m\"\"\"\u001b[39;00m\n\u001b[1;32m     98\u001b[0m \u001b[39m    Return a sentence-tokenized copy of *text*,\u001b[39;00m\n\u001b[1;32m     99\u001b[0m \u001b[39m    using NLTK's recommended sentence tokenizer\u001b[39;00m\n\u001b[0;32m   (...)\u001b[0m\n\u001b[1;32m    104\u001b[0m \u001b[39m    :param language: the model name in the Punkt corpus\u001b[39;00m\n\u001b[1;32m    105\u001b[0m \u001b[39m    \"\"\"\u001b[39;00m\n\u001b[0;32m--> 106\u001b[0m     tokenizer \u001b[39m=\u001b[39m load(\u001b[39mf\u001b[39;49m\u001b[39m\"\u001b[39;49m\u001b[39mtokenizers/punkt/\u001b[39;49m\u001b[39m{\u001b[39;49;00mlanguage\u001b[39m}\u001b[39;49;00m\u001b[39m.pickle\u001b[39;49m\u001b[39m\"\u001b[39;49m)\n\u001b[1;32m    107\u001b[0m     \u001b[39mreturn\u001b[39;00m tokenizer\u001b[39m.\u001b[39mtokenize(text)\n",
      "File \u001b[0;32m~/NLP-with-Disaster-Tweets/venv/lib/python3.10/site-packages/nltk/data.py:750\u001b[0m, in \u001b[0;36mload\u001b[0;34m(resource_url, format, cache, verbose, logic_parser, fstruct_reader, encoding)\u001b[0m\n\u001b[1;32m    747\u001b[0m     \u001b[39mprint\u001b[39m(\u001b[39mf\u001b[39m\u001b[39m\"\u001b[39m\u001b[39m<<Loading \u001b[39m\u001b[39m{\u001b[39;00mresource_url\u001b[39m}\u001b[39;00m\u001b[39m>>\u001b[39m\u001b[39m\"\u001b[39m)\n\u001b[1;32m    749\u001b[0m \u001b[39m# Load the resource.\u001b[39;00m\n\u001b[0;32m--> 750\u001b[0m opened_resource \u001b[39m=\u001b[39m _open(resource_url)\n\u001b[1;32m    752\u001b[0m \u001b[39mif\u001b[39;00m \u001b[39mformat\u001b[39m \u001b[39m==\u001b[39m \u001b[39m\"\u001b[39m\u001b[39mraw\u001b[39m\u001b[39m\"\u001b[39m:\n\u001b[1;32m    753\u001b[0m     resource_val \u001b[39m=\u001b[39m opened_resource\u001b[39m.\u001b[39mread()\n",
      "File \u001b[0;32m~/NLP-with-Disaster-Tweets/venv/lib/python3.10/site-packages/nltk/data.py:876\u001b[0m, in \u001b[0;36m_open\u001b[0;34m(resource_url)\u001b[0m\n\u001b[1;32m    873\u001b[0m protocol, path_ \u001b[39m=\u001b[39m split_resource_url(resource_url)\n\u001b[1;32m    875\u001b[0m \u001b[39mif\u001b[39;00m protocol \u001b[39mis\u001b[39;00m \u001b[39mNone\u001b[39;00m \u001b[39mor\u001b[39;00m protocol\u001b[39m.\u001b[39mlower() \u001b[39m==\u001b[39m \u001b[39m\"\u001b[39m\u001b[39mnltk\u001b[39m\u001b[39m\"\u001b[39m:\n\u001b[0;32m--> 876\u001b[0m     \u001b[39mreturn\u001b[39;00m find(path_, path \u001b[39m+\u001b[39;49m [\u001b[39m\"\u001b[39;49m\u001b[39m\"\u001b[39;49m])\u001b[39m.\u001b[39mopen()\n\u001b[1;32m    877\u001b[0m \u001b[39melif\u001b[39;00m protocol\u001b[39m.\u001b[39mlower() \u001b[39m==\u001b[39m \u001b[39m\"\u001b[39m\u001b[39mfile\u001b[39m\u001b[39m\"\u001b[39m:\n\u001b[1;32m    878\u001b[0m     \u001b[39m# urllib might not use mode='rb', so handle this one ourselves:\u001b[39;00m\n\u001b[1;32m    879\u001b[0m     \u001b[39mreturn\u001b[39;00m find(path_, [\u001b[39m\"\u001b[39m\u001b[39m\"\u001b[39m])\u001b[39m.\u001b[39mopen()\n",
      "File \u001b[0;32m~/NLP-with-Disaster-Tweets/venv/lib/python3.10/site-packages/nltk/data.py:583\u001b[0m, in \u001b[0;36mfind\u001b[0;34m(resource_name, paths)\u001b[0m\n\u001b[1;32m    581\u001b[0m sep \u001b[39m=\u001b[39m \u001b[39m\"\u001b[39m\u001b[39m*\u001b[39m\u001b[39m\"\u001b[39m \u001b[39m*\u001b[39m \u001b[39m70\u001b[39m\n\u001b[1;32m    582\u001b[0m resource_not_found \u001b[39m=\u001b[39m \u001b[39mf\u001b[39m\u001b[39m\"\u001b[39m\u001b[39m\\n\u001b[39;00m\u001b[39m{\u001b[39;00msep\u001b[39m}\u001b[39;00m\u001b[39m\\n\u001b[39;00m\u001b[39m{\u001b[39;00mmsg\u001b[39m}\u001b[39;00m\u001b[39m\\n\u001b[39;00m\u001b[39m{\u001b[39;00msep\u001b[39m}\u001b[39;00m\u001b[39m\\n\u001b[39;00m\u001b[39m\"\u001b[39m\n\u001b[0;32m--> 583\u001b[0m \u001b[39mraise\u001b[39;00m \u001b[39mLookupError\u001b[39;00m(resource_not_found)\n",
      "\u001b[0;31mLookupError\u001b[0m: \n**********************************************************************\n  Resource \u001b[93mpunkt\u001b[0m not found.\n  Please use the NLTK Downloader to obtain the resource:\n\n  \u001b[31m>>> import nltk\n  >>> nltk.download('punkt')\n  \u001b[0m\n  For more information see: https://www.nltk.org/data.html\n\n  Attempted to load \u001b[93mtokenizers/punkt/PY3/english.pickle\u001b[0m\n\n  Searched in:\n    - '/home/jose/nltk_data'\n    - '/home/jose/NLP-with-Disaster-Tweets/venv/nltk_data'\n    - '/home/jose/NLP-with-Disaster-Tweets/venv/share/nltk_data'\n    - '/home/jose/NLP-with-Disaster-Tweets/venv/lib/nltk_data'\n    - '/usr/share/nltk_data'\n    - '/usr/local/share/nltk_data'\n    - '/usr/lib/nltk_data'\n    - '/usr/local/lib/nltk_data'\n    - ''\n**********************************************************************\n"
     ]
    }
   ],
   "source": [
    "# fit the vectorizer on corpus\n",
    "ctv.fit(corpus_disaster)\n",
    "corpus_transformed = ctv.transform(corpus_disaster)"
   ]
  },
  {
   "cell_type": "code",
   "execution_count": null,
   "id": "f93f7ab6",
   "metadata": {},
   "outputs": [],
   "source": [
    "# Vocabulary of words most repeated on Tweets\n",
    "print(ctv.vocabulary_)"
   ]
  },
  {
   "cell_type": "code",
   "execution_count": null,
   "id": "6607c890",
   "metadata": {},
   "outputs": [],
   "source": [
    "corpus_disaster.head()"
   ]
  },
  {
   "cell_type": "code",
   "execution_count": null,
   "id": "e0efe4db",
   "metadata": {},
   "outputs": [],
   "source": [
    "# Create corpus with non disaster tweets\n",
    "corpus_no_disaster = df_train[df_train['target'] == 0]['text']"
   ]
  },
  {
   "cell_type": "code",
   "execution_count": null,
   "id": "4ef4393d",
   "metadata": {},
   "outputs": [],
   "source": [
    "# fit the vectorizer on corpus\n",
    "ctv.fit(corpus_no_disaster)\n",
    "corpus_transformed = ctv.transform(corpus_no_disaster)"
   ]
  },
  {
   "cell_type": "code",
   "execution_count": null,
   "id": "abf5e88a",
   "metadata": {},
   "outputs": [],
   "source": [
    "print(ctv.vocabulary_)"
   ]
  },
  {
   "cell_type": "code",
   "execution_count": null,
   "id": "ebb05116",
   "metadata": {
    "execution": {
     "iopub.execute_input": "2023-01-26T16:57:02.160589Z",
     "iopub.status.busy": "2023-01-26T16:57:02.159319Z",
     "iopub.status.idle": "2023-01-26T16:57:02.415935Z",
     "shell.execute_reply": "2023-01-26T16:57:02.413639Z"
    },
    "papermill": {
     "duration": 0.267487,
     "end_time": "2023-01-26T16:57:02.418383",
     "exception": false,
     "start_time": "2023-01-26T16:57:02.150896",
     "status": "completed"
    },
    "tags": []
   },
   "outputs": [],
   "source": [
    "# Try to find disasters based on some key words\n",
    "for i in range(len(df_train['text'])):\n",
    "    if 'earthquake' in df_train['text'][i] or 'hurricane' in df_train['text'][i] or 'flood' in df_train['text'][i] or 'tsunami' in df_train['text'][i] or 'tornado' in df_train['text'][i] or 'wildfire' in df_train['text'][i]:\n",
    "        print('Disaster found in ' + str(i))"
   ]
  },
  {
   "cell_type": "code",
   "execution_count": null,
   "id": "951d714c",
   "metadata": {
    "execution": {
     "iopub.execute_input": "2023-01-26T16:57:02.433218Z",
     "iopub.status.busy": "2023-01-26T16:57:02.432870Z",
     "iopub.status.idle": "2023-01-26T16:57:02.997405Z",
     "shell.execute_reply": "2023-01-26T16:57:02.995694Z"
    },
    "papermill": {
     "duration": 0.574719,
     "end_time": "2023-01-26T16:57:03.000007",
     "exception": false,
     "start_time": "2023-01-26T16:57:02.425288",
     "status": "completed"
    },
    "tags": []
   },
   "outputs": [],
   "source": [
    "# Try to find disasters based on some hashtags\n",
    "for i in range(len(df_train['text'])):\n",
    "    if '#disaster' in df_train['text'][i] or '#nature' in df_train['text'][i] or '#tsunami' in df_train['text'][i] or '#covid' in df_train['text'][i] or '#earthquake' in df_train['text'][i] or '#naturaldisaster' in df_train['text'][i] or '#disasterrelief' in df_train['text'][i] or '#gempabumi' in df_train['text'][i] or '#emergency' in df_train['text'][i] or '#fire' in df_train['text'][i] or '#love' in df_train['text'][i] or '#disastermanagement' in df_train['text'][i] or '#bencanaalarm' in df_train['text'][i]:\n",
    "        print('Hashtag found in ' + str(i))"
   ]
  },
  {
   "cell_type": "code",
   "execution_count": null,
   "id": "86091386",
   "metadata": {
    "execution": {
     "iopub.execute_input": "2023-01-26T16:57:03.015289Z",
     "iopub.status.busy": "2023-01-26T16:57:03.014947Z",
     "iopub.status.idle": "2023-01-26T16:57:03.020838Z",
     "shell.execute_reply": "2023-01-26T16:57:03.019169Z"
    },
    "papermill": {
     "duration": 0.016236,
     "end_time": "2023-01-26T16:57:03.023303",
     "exception": false,
     "start_time": "2023-01-26T16:57:03.007067",
     "status": "completed"
    },
    "tags": []
   },
   "outputs": [],
   "source": [
    "hashtags = re.sub(\" \",',',\"#disaster #nature #tsunami #covid #earthquake #naturaldisaster #disasterrelief #flood #bencana #indonesia #disasterpreparedness #gempabumi #emergency #fire #love #disastermanagement #bencanaalam #hurricane #disasterrecovery #help #earth #gempa #bhfyp #life #disasterresponse #climatechange #disasters #tsunamipalu #viral #world\")"
   ]
  },
  {
   "cell_type": "code",
   "execution_count": null,
   "id": "135661ef",
   "metadata": {
    "execution": {
     "iopub.execute_input": "2023-01-26T16:57:03.038819Z",
     "iopub.status.busy": "2023-01-26T16:57:03.037851Z",
     "iopub.status.idle": "2023-01-26T16:57:03.043578Z",
     "shell.execute_reply": "2023-01-26T16:57:03.042408Z"
    },
    "papermill": {
     "duration": 0.01566,
     "end_time": "2023-01-26T16:57:03.045716",
     "exception": false,
     "start_time": "2023-01-26T16:57:03.030056",
     "status": "completed"
    },
    "tags": []
   },
   "outputs": [],
   "source": [
    "print(hashtags.split(',')[0])\n",
    "    "
   ]
  },
  {
   "cell_type": "code",
   "execution_count": null,
   "id": "3ab386a6",
   "metadata": {
    "execution": {
     "iopub.execute_input": "2023-01-26T16:57:03.062192Z",
     "iopub.status.busy": "2023-01-26T16:57:03.061853Z",
     "iopub.status.idle": "2023-01-26T16:57:03.067554Z",
     "shell.execute_reply": "2023-01-26T16:57:03.066284Z"
    },
    "papermill": {
     "duration": 0.016316,
     "end_time": "2023-01-26T16:57:03.069586",
     "exception": false,
     "start_time": "2023-01-26T16:57:03.053270",
     "status": "completed"
    },
    "tags": []
   },
   "outputs": [],
   "source": [
    "print(hashtags[0])"
   ]
  },
  {
   "cell_type": "markdown",
   "id": "b0ee99ce",
   "metadata": {},
   "source": []
  },
  {
   "cell_type": "code",
   "execution_count": null,
   "id": "e6a16212",
   "metadata": {
    "execution": {
     "iopub.execute_input": "2023-01-26T16:57:03.084158Z",
     "iopub.status.busy": "2023-01-26T16:57:03.083839Z",
     "iopub.status.idle": "2023-01-26T16:57:03.089665Z",
     "shell.execute_reply": "2023-01-26T16:57:03.087998Z"
    },
    "papermill": {
     "duration": 0.015529,
     "end_time": "2023-01-26T16:57:03.091821",
     "exception": false,
     "start_time": "2023-01-26T16:57:03.076292",
     "status": "completed"
    },
    "tags": []
   },
   "outputs": [],
   "source": [
    "hashtags2 = re.sub(\" \",',',\"#banjir #photography #chernobyl #storm #water #likuifaksi #floods #india #megatsunami #waterdamage #instagram #tsunamiwarning #gunungmeletus #bmkg #art #longsor #tornado #siagabencana #tsunamiaceh #terremoto #coronavirus #emergencypreparedness #rain #survival #news #safety #bnpb #rescue #history #flooding\")"
   ]
  },
  {
   "cell_type": "code",
   "execution_count": null,
   "id": "6d1ce1d4",
   "metadata": {
    "execution": {
     "iopub.execute_input": "2023-01-26T16:57:03.106747Z",
     "iopub.status.busy": "2023-01-26T16:57:03.106413Z",
     "iopub.status.idle": "2023-01-26T16:57:03.177628Z",
     "shell.execute_reply": "2023-01-26T16:57:03.176519Z"
    },
    "papermill": {
     "duration": 0.080938,
     "end_time": "2023-01-26T16:57:03.179699",
     "exception": false,
     "start_time": "2023-01-26T16:57:03.098761",
     "status": "completed"
    },
    "tags": []
   },
   "outputs": [],
   "source": [
    "k=0\n",
    "hashtags_disaster = []\n",
    "for i in hashtags.split(','):\n",
    "    for j in df_train['text']:\n",
    "        if i in j:\n",
    "            hashtags_disaster.append(k)\n",
    "        k=k+1\n",
    "    "
   ]
  },
  {
   "cell_type": "code",
   "execution_count": null,
   "id": "a245eaf2",
   "metadata": {
    "execution": {
     "iopub.execute_input": "2023-01-26T16:57:03.193534Z",
     "iopub.status.busy": "2023-01-26T16:57:03.193256Z",
     "iopub.status.idle": "2023-01-26T16:57:03.240708Z",
     "shell.execute_reply": "2023-01-26T16:57:03.239787Z"
    },
    "papermill": {
     "duration": 0.056917,
     "end_time": "2023-01-26T16:57:03.243082",
     "exception": false,
     "start_time": "2023-01-26T16:57:03.186165",
     "status": "completed"
    },
    "tags": []
   },
   "outputs": [],
   "source": [
    "disaster = []\n",
    "for i in range(len(df_train['text'])):\n",
    "    if df_train['target'][i]==1:\n",
    "        disaster.append(i)"
   ]
  },
  {
   "cell_type": "code",
   "execution_count": null,
   "id": "70b65693",
   "metadata": {
    "execution": {
     "iopub.execute_input": "2023-01-26T16:57:03.258284Z",
     "iopub.status.busy": "2023-01-26T16:57:03.257916Z",
     "iopub.status.idle": "2023-01-26T16:57:03.265768Z",
     "shell.execute_reply": "2023-01-26T16:57:03.264318Z"
    },
    "papermill": {
     "duration": 0.01955,
     "end_time": "2023-01-26T16:57:03.269395",
     "exception": false,
     "start_time": "2023-01-26T16:57:03.249845",
     "status": "completed"
    },
    "tags": []
   },
   "outputs": [],
   "source": [
    "overlap_disaster = []\n",
    "for i in disaster:\n",
    "    if i in hashtags_disaster:\n",
    "        overlap_disaster.append(i)\n",
    "        "
   ]
  },
  {
   "cell_type": "code",
   "execution_count": null,
   "id": "2a283617",
   "metadata": {
    "execution": {
     "iopub.execute_input": "2023-01-26T16:57:03.284860Z",
     "iopub.status.busy": "2023-01-26T16:57:03.284496Z",
     "iopub.status.idle": "2023-01-26T16:57:03.291814Z",
     "shell.execute_reply": "2023-01-26T16:57:03.290851Z"
    },
    "papermill": {
     "duration": 0.01803,
     "end_time": "2023-01-26T16:57:03.294292",
     "exception": false,
     "start_time": "2023-01-26T16:57:03.276262",
     "status": "completed"
    },
    "tags": []
   },
   "outputs": [],
   "source": [
    "len(hashtags_disaster)"
   ]
  },
  {
   "cell_type": "code",
   "execution_count": null,
   "id": "724c3140",
   "metadata": {
    "execution": {
     "iopub.execute_input": "2023-01-26T16:57:03.310046Z",
     "iopub.status.busy": "2023-01-26T16:57:03.309716Z",
     "iopub.status.idle": "2023-01-26T16:57:03.314546Z",
     "shell.execute_reply": "2023-01-26T16:57:03.313971Z"
    },
    "papermill": {
     "duration": 0.01505,
     "end_time": "2023-01-26T16:57:03.316450",
     "exception": false,
     "start_time": "2023-01-26T16:57:03.301400",
     "status": "completed"
    },
    "tags": []
   },
   "outputs": [],
   "source": [
    "len(overlap_disaster)"
   ]
  },
  {
   "cell_type": "code",
   "execution_count": null,
   "id": "aa2fa485",
   "metadata": {
    "execution": {
     "iopub.execute_input": "2023-01-26T16:57:03.331541Z",
     "iopub.status.busy": "2023-01-26T16:57:03.331242Z",
     "iopub.status.idle": "2023-01-26T16:57:03.339334Z",
     "shell.execute_reply": "2023-01-26T16:57:03.338159Z"
    },
    "papermill": {
     "duration": 0.018649,
     "end_time": "2023-01-26T16:57:03.342156",
     "exception": false,
     "start_time": "2023-01-26T16:57:03.323507",
     "status": "completed"
    },
    "tags": []
   },
   "outputs": [],
   "source": [
    "my_list = [1, 2, 3]\n",
    "[i for i in my_list if i==2]"
   ]
  },
  {
   "cell_type": "code",
   "execution_count": null,
   "id": "33762665",
   "metadata": {
    "execution": {
     "iopub.execute_input": "2023-01-26T16:57:03.358272Z",
     "iopub.status.busy": "2023-01-26T16:57:03.357936Z",
     "iopub.status.idle": "2023-01-26T16:57:03.367458Z",
     "shell.execute_reply": "2023-01-26T16:57:03.366404Z"
    },
    "papermill": {
     "duration": 0.020003,
     "end_time": "2023-01-26T16:57:03.369444",
     "exception": false,
     "start_time": "2023-01-26T16:57:03.349441",
     "status": "completed"
    },
    "tags": []
   },
   "outputs": [],
   "source": [
    "#df_train['text'].values.tolist()\n",
    "df_train['text'].unique()"
   ]
  },
  {
   "cell_type": "code",
   "execution_count": null,
   "id": "cef0063d",
   "metadata": {
    "execution": {
     "iopub.execute_input": "2023-01-26T16:57:03.385217Z",
     "iopub.status.busy": "2023-01-26T16:57:03.384857Z",
     "iopub.status.idle": "2023-01-26T16:57:03.391660Z",
     "shell.execute_reply": "2023-01-26T16:57:03.390230Z"
    },
    "papermill": {
     "duration": 0.017402,
     "end_time": "2023-01-26T16:57:03.393884",
     "exception": false,
     "start_time": "2023-01-26T16:57:03.376482",
     "status": "completed"
    },
    "tags": []
   },
   "outputs": [],
   "source": [
    "df_train.sort_values(by=\"target\", ascending=False, inplace=True)"
   ]
  },
  {
   "cell_type": "code",
   "execution_count": null,
   "id": "80b91d8a",
   "metadata": {
    "execution": {
     "iopub.execute_input": "2023-01-26T16:57:03.410014Z",
     "iopub.status.busy": "2023-01-26T16:57:03.409686Z",
     "iopub.status.idle": "2023-01-26T16:57:03.420979Z",
     "shell.execute_reply": "2023-01-26T16:57:03.420304Z"
    },
    "papermill": {
     "duration": 0.020826,
     "end_time": "2023-01-26T16:57:03.422523",
     "exception": false,
     "start_time": "2023-01-26T16:57:03.401697",
     "status": "completed"
    },
    "tags": []
   },
   "outputs": [],
   "source": [
    "df_train.head(10)"
   ]
  },
  {
   "cell_type": "raw",
   "id": "8ce2055e",
   "metadata": {
    "papermill": {
     "duration": 0.007458,
     "end_time": "2023-01-26T16:57:03.437023",
     "exception": false,
     "start_time": "2023-01-26T16:57:03.429565",
     "status": "completed"
    },
    "tags": []
   },
   "source": [
    "print(df_train['target'])"
   ]
  },
  {
   "cell_type": "code",
   "execution_count": null,
   "id": "7e4d8dd6",
   "metadata": {
    "papermill": {
     "duration": 0.006729,
     "end_time": "2023-01-26T16:57:03.451244",
     "exception": false,
     "start_time": "2023-01-26T16:57:03.444515",
     "status": "completed"
    },
    "tags": []
   },
   "outputs": [],
   "source": [
    "df_train.isna().sum()"
   ]
  },
  {
   "cell_type": "code",
   "execution_count": null,
   "id": "ea1e9ca6",
   "metadata": {},
   "outputs": [],
   "source": [
    "df_train['target'].value_counts()"
   ]
  },
  {
   "cell_type": "code",
   "execution_count": null,
   "id": "75db63c6",
   "metadata": {},
   "outputs": [],
   "source": [
    "y=df_train['target'].values\n",
    "y.shape"
   ]
  },
  {
   "cell_type": "code",
   "execution_count": null,
   "id": "b3490ff0",
   "metadata": {},
   "outputs": [],
   "source": [
    "x=df_train['text'].values\n",
    "x.shape"
   ]
  },
  {
   "cell_type": "code",
   "execution_count": null,
   "id": "eae1cbb8",
   "metadata": {},
   "outputs": [],
   "source": [
    "(x_train,x_test,y_train,y_test)=train_test_split(x,y,test_size=0.4)\n",
    "x_train.shape\n",
    "y_train.shape\n",
    "x_test.shape\n",
    "y_test.shape"
   ]
  },
  {
   "cell_type": "code",
   "execution_count": null,
   "id": "f8c6a971",
   "metadata": {},
   "outputs": [],
   "source": [
    "df1=pd.DataFrame(x_train)\n",
    "df1=df1.rename(columns={0:'text'})"
   ]
  },
  {
   "cell_type": "code",
   "execution_count": null,
   "id": "b2be1abb",
   "metadata": {},
   "outputs": [],
   "source": [
    "df2=pd.DataFrame(y_train)\n",
    "df2=df2.rename(columns={0:'target'})\n",
    "df_df2=pd.concat([df1,df2],axis=1)"
   ]
  },
  {
   "cell_type": "code",
   "execution_count": null,
   "id": "7ee66c78",
   "metadata": {},
   "outputs": [],
   "source": [
    "df_df2.head()"
   ]
  },
  {
   "cell_type": "code",
   "execution_count": null,
   "id": "0507b54b",
   "metadata": {},
   "outputs": [],
   "source": [
    "df3=pd.DataFrame(x_test)\n",
    "df3=df3.rename(columns={0:'text'})\n"
   ]
  },
  {
   "cell_type": "code",
   "execution_count": null,
   "id": "06d4e1b0",
   "metadata": {},
   "outputs": [],
   "source": [
    "df4=pd.DataFrame(y_test)\n",
    "df4=df2.rename(columns={0:'target'})\n",
    "df_test=pd.concat([df3,df4],axis=1)"
   ]
  },
  {
   "cell_type": "code",
   "execution_count": null,
   "id": "57872d7b",
   "metadata": {},
   "outputs": [],
   "source": [
    "df_test.head()"
   ]
  },
  {
   "cell_type": "code",
   "execution_count": null,
   "id": "1227d3a7",
   "metadata": {},
   "outputs": [],
   "source": []
  },
  {
   "cell_type": "code",
   "execution_count": null,
   "id": "ab4b66b5",
   "metadata": {},
   "outputs": [],
   "source": []
  },
  {
   "cell_type": "code",
   "execution_count": null,
   "id": "3f011d77",
   "metadata": {},
   "outputs": [],
   "source": [
    "\n",
    "#punctuations are removed from news column in train dataset"
   ]
  }
 ],
 "metadata": {
  "kernelspec": {
   "display_name": "venv",
   "language": "python",
   "name": "python3"
  },
  "language_info": {
   "codemirror_mode": {
    "name": "ipython",
    "version": 3
   },
   "file_extension": ".py",
   "mimetype": "text/x-python",
   "name": "python",
   "nbconvert_exporter": "python",
   "pygments_lexer": "ipython3",
   "version": "3.10.6"
  },
  "papermill": {
   "default_parameters": {},
   "duration": 12.911681,
   "end_time": "2023-01-26T16:57:04.178789",
   "environment_variables": {},
   "exception": null,
   "input_path": "__notebook__.ipynb",
   "output_path": "__notebook__.ipynb",
   "parameters": {},
   "start_time": "2023-01-26T16:56:51.267108",
   "version": "2.3.4"
  },
  "vscode": {
   "interpreter": {
    "hash": "a8241d5bc9f0ca5468a4ecaa9dbd18c269dd78357cbd4874712dbf16867d095f"
   }
  }
 },
 "nbformat": 4,
 "nbformat_minor": 5
}
