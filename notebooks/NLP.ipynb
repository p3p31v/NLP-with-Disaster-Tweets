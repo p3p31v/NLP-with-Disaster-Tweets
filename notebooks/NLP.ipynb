{
 "cells": [
  {
   "cell_type": "code",
   "execution_count": 1,
   "id": "1c18c472",
   "metadata": {
    "_cell_guid": "b1076dfc-b9ad-4769-8c92-a6c4dae69d19",
    "_uuid": "8f2839f25d086af736a60e9eeb907d3b93b6e0e5",
    "execution": {
     "iopub.execute_input": "2023-01-26T16:56:58.820696Z",
     "iopub.status.busy": "2023-01-26T16:56:58.820210Z",
     "iopub.status.idle": "2023-01-26T16:56:59.900094Z",
     "shell.execute_reply": "2023-01-26T16:56:59.898990Z"
    },
    "papermill": {
     "duration": 1.08987,
     "end_time": "2023-01-26T16:56:59.902126",
     "exception": false,
     "start_time": "2023-01-26T16:56:58.812256",
     "status": "completed"
    },
    "tags": []
   },
   "outputs": [],
   "source": [
    "# This Python 3 environment comes with many helpful analytics libraries installed\n",
    "# It is defined by the kaggle/python Docker image: https://github.com/kaggle/docker-python\n",
    "# For example, here's several helpful packages to load\n",
    "\n",
    "import numpy as np # linear algebra\n",
    "import pandas as pd # data processing, CSV file I/O (e.g. pd.read_csv)\n",
    "import matplotlib.pyplot as plt\n",
    "import seaborn as sns\n",
    "import re\n",
    "\n",
    "# Input data files are available in the read-only \"../input/\" directory\n",
    "# For example, running this (by clicking run or pressing Shift+Enter) will list all files under the input directory\n",
    "\n",
    "import os\n",
    "\n",
    "\n",
    "# You can write up to 20GB to the current directory (/kaggle/working/) that gets preserved as output when you create a version using \"Save & Run All\" \n",
    "# You can also write temporary files to /kaggle/temp/, but they won't be saved outside of the current session"
   ]
  },
  {
   "cell_type": "code",
   "execution_count": 2,
   "id": "a002fc7e",
   "metadata": {
    "execution": {
     "iopub.execute_input": "2023-01-26T16:56:59.914186Z",
     "iopub.status.busy": "2023-01-26T16:56:59.913793Z",
     "iopub.status.idle": "2023-01-26T16:56:59.961288Z",
     "shell.execute_reply": "2023-01-26T16:56:59.959761Z"
    },
    "papermill": {
     "duration": 0.056135,
     "end_time": "2023-01-26T16:56:59.963606",
     "exception": false,
     "start_time": "2023-01-26T16:56:59.907471",
     "status": "completed"
    },
    "tags": []
   },
   "outputs": [],
   "source": [
    "df_train = pd.read_csv('/home/jose/NLP-with-Disaster-Tweets/NLP-with-Disaster-Tweets/data/train.csv')\n"
   ]
  },
  {
   "cell_type": "markdown",
   "id": "d71a311b",
   "metadata": {
    "papermill": {
     "duration": 0.004727,
     "end_time": "2023-01-26T16:56:59.973498",
     "exception": false,
     "start_time": "2023-01-26T16:56:59.968771",
     "status": "completed"
    },
    "tags": []
   },
   "source": []
  },
  {
   "cell_type": "code",
   "execution_count": 3,
   "id": "681a9b26",
   "metadata": {
    "execution": {
     "iopub.execute_input": "2023-01-26T16:56:59.984955Z",
     "iopub.status.busy": "2023-01-26T16:56:59.984580Z",
     "iopub.status.idle": "2023-01-26T16:57:00.003959Z",
     "shell.execute_reply": "2023-01-26T16:57:00.003064Z"
    },
    "papermill": {
     "duration": 0.027228,
     "end_time": "2023-01-26T16:57:00.005791",
     "exception": false,
     "start_time": "2023-01-26T16:56:59.978563",
     "status": "completed"
    },
    "tags": []
   },
   "outputs": [
    {
     "data": {
      "text/html": [
       "<div>\n",
       "<style scoped>\n",
       "    .dataframe tbody tr th:only-of-type {\n",
       "        vertical-align: middle;\n",
       "    }\n",
       "\n",
       "    .dataframe tbody tr th {\n",
       "        vertical-align: top;\n",
       "    }\n",
       "\n",
       "    .dataframe thead th {\n",
       "        text-align: right;\n",
       "    }\n",
       "</style>\n",
       "<table border=\"1\" class=\"dataframe\">\n",
       "  <thead>\n",
       "    <tr style=\"text-align: right;\">\n",
       "      <th></th>\n",
       "      <th>id</th>\n",
       "      <th>keyword</th>\n",
       "      <th>location</th>\n",
       "      <th>text</th>\n",
       "      <th>target</th>\n",
       "    </tr>\n",
       "  </thead>\n",
       "  <tbody>\n",
       "    <tr>\n",
       "      <th>0</th>\n",
       "      <td>1</td>\n",
       "      <td>NaN</td>\n",
       "      <td>NaN</td>\n",
       "      <td>Our Deeds are the Reason of this #earthquake M...</td>\n",
       "      <td>1</td>\n",
       "    </tr>\n",
       "    <tr>\n",
       "      <th>1</th>\n",
       "      <td>4</td>\n",
       "      <td>NaN</td>\n",
       "      <td>NaN</td>\n",
       "      <td>Forest fire near La Ronge Sask. Canada</td>\n",
       "      <td>1</td>\n",
       "    </tr>\n",
       "    <tr>\n",
       "      <th>2</th>\n",
       "      <td>5</td>\n",
       "      <td>NaN</td>\n",
       "      <td>NaN</td>\n",
       "      <td>All residents asked to 'shelter in place' are ...</td>\n",
       "      <td>1</td>\n",
       "    </tr>\n",
       "    <tr>\n",
       "      <th>3</th>\n",
       "      <td>6</td>\n",
       "      <td>NaN</td>\n",
       "      <td>NaN</td>\n",
       "      <td>13,000 people receive #wildfires evacuation or...</td>\n",
       "      <td>1</td>\n",
       "    </tr>\n",
       "    <tr>\n",
       "      <th>4</th>\n",
       "      <td>7</td>\n",
       "      <td>NaN</td>\n",
       "      <td>NaN</td>\n",
       "      <td>Just got sent this photo from Ruby #Alaska as ...</td>\n",
       "      <td>1</td>\n",
       "    </tr>\n",
       "  </tbody>\n",
       "</table>\n",
       "</div>"
      ],
      "text/plain": [
       "   id keyword location                                               text  \\\n",
       "0   1     NaN      NaN  Our Deeds are the Reason of this #earthquake M...   \n",
       "1   4     NaN      NaN             Forest fire near La Ronge Sask. Canada   \n",
       "2   5     NaN      NaN  All residents asked to 'shelter in place' are ...   \n",
       "3   6     NaN      NaN  13,000 people receive #wildfires evacuation or...   \n",
       "4   7     NaN      NaN  Just got sent this photo from Ruby #Alaska as ...   \n",
       "\n",
       "   target  \n",
       "0       1  \n",
       "1       1  \n",
       "2       1  \n",
       "3       1  \n",
       "4       1  "
      ]
     },
     "execution_count": 3,
     "metadata": {},
     "output_type": "execute_result"
    }
   ],
   "source": [
    "df_train.head()"
   ]
  },
  {
   "cell_type": "code",
   "execution_count": 4,
   "id": "cafc0646",
   "metadata": {
    "execution": {
     "iopub.execute_input": "2023-01-26T16:57:00.018640Z",
     "iopub.status.busy": "2023-01-26T16:57:00.018313Z",
     "iopub.status.idle": "2023-01-26T16:57:00.192711Z",
     "shell.execute_reply": "2023-01-26T16:57:00.191412Z"
    },
    "papermill": {
     "duration": 0.183526,
     "end_time": "2023-01-26T16:57:00.195002",
     "exception": false,
     "start_time": "2023-01-26T16:57:00.011476",
     "status": "completed"
    },
    "tags": []
   },
   "outputs": [
    {
     "data": {
      "image/png": "[encoded data removed]",
      "text/plain": [
       "<Figure size 2000x600 with 1 Axes>"
      ]
     },
     "metadata": {},
     "output_type": "display_data"
    }
   ],
   "source": [
    "plt.figure(figsize=(20, 6))\n",
    "\n",
    "sns.countplot(df_train['target'])\n",
    "plt.title(\"Target\", fontsize=20)\n",
    "\n",
    "plt.show()"
   ]
  },
  {
   "cell_type": "code",
   "execution_count": 5,
   "id": "c786800d",
   "metadata": {
    "execution": {
     "iopub.execute_input": "2023-01-26T16:57:00.208185Z",
     "iopub.status.busy": "2023-01-26T16:57:00.207673Z",
     "iopub.status.idle": "2023-01-26T16:57:02.121484Z",
     "shell.execute_reply": "2023-01-26T16:57:02.119987Z"
    },
    "papermill": {
     "duration": 1.923054,
     "end_time": "2023-01-26T16:57:02.123668",
     "exception": false,
     "start_time": "2023-01-26T16:57:00.200614",
     "status": "completed"
    },
    "tags": []
   },
   "outputs": [],
   "source": [
    "# plt.figure(figsize=(20, 6))\n",
    "\n",
    "# sns.countplot(float(df_train['keyword']))\n",
    "# plt.title(\"keyword\", fontsize=20)\n",
    "\n",
    "# plt.show()"
   ]
  },
  {
   "cell_type": "code",
   "execution_count": 6,
   "id": "c2ca6f2e",
   "metadata": {
    "execution": {
     "iopub.execute_input": "2023-01-26T16:57:02.137218Z",
     "iopub.status.busy": "2023-01-26T16:57:02.136874Z",
     "iopub.status.idle": "2023-01-26T16:57:02.143161Z",
     "shell.execute_reply": "2023-01-26T16:57:02.142473Z"
    },
    "papermill": {
     "duration": 0.015095,
     "end_time": "2023-01-26T16:57:02.144817",
     "exception": false,
     "start_time": "2023-01-26T16:57:02.129722",
     "status": "completed"
    },
    "tags": []
   },
   "outputs": [
    {
     "data": {
      "text/plain": [
       "7613"
      ]
     },
     "execution_count": 6,
     "metadata": {},
     "output_type": "execute_result"
    }
   ],
   "source": [
    "len(df_train)"
   ]
  },
  {
   "cell_type": "code",
   "execution_count": 7,
   "id": "ebb05116",
   "metadata": {
    "execution": {
     "iopub.execute_input": "2023-01-26T16:57:02.160589Z",
     "iopub.status.busy": "2023-01-26T16:57:02.159319Z",
     "iopub.status.idle": "2023-01-26T16:57:02.415935Z",
     "shell.execute_reply": "2023-01-26T16:57:02.413639Z"
    },
    "papermill": {
     "duration": 0.267487,
     "end_time": "2023-01-26T16:57:02.418383",
     "exception": false,
     "start_time": "2023-01-26T16:57:02.150896",
     "status": "completed"
    },
    "tags": []
   },
   "outputs": [
    {
     "name": "stdout",
     "output_type": "stream",
     "text": [
      "Disaster found in 0\n",
      "Disaster found in 3\n",
      "Disaster found in 4\n",
      "Disaster found in 5\n",
      "Disaster found in 6\n",
      "Disaster found in 9\n",
      "Disaster found in 11\n",
      "Disaster found in 12\n",
      "Disaster found in 46\n",
      "Disaster found in 59\n",
      "Disaster found in 653\n",
      "Disaster found in 669\n",
      "Disaster found in 1128\n",
      "Disaster found in 1231\n",
      "Disaster found in 1517\n",
      "Disaster found in 1710\n",
      "Disaster found in 2206\n",
      "Disaster found in 2366\n",
      "Disaster found in 2369\n",
      "Disaster found in 2373\n",
      "Disaster found in 2375\n",
      "Disaster found in 2376\n",
      "Disaster found in 2377\n",
      "Disaster found in 2380\n",
      "Disaster found in 2382\n",
      "Disaster found in 2386\n",
      "Disaster found in 2391\n",
      "Disaster found in 2392\n",
      "Disaster found in 2394\n",
      "Disaster found in 2435\n",
      "Disaster found in 2827\n",
      "Disaster found in 2835\n",
      "Disaster found in 2853\n",
      "Disaster found in 2854\n",
      "Disaster found in 2856\n",
      "Disaster found in 2857\n",
      "Disaster found in 2860\n",
      "Disaster found in 2876\n",
      "Disaster found in 2884\n",
      "Disaster found in 2915\n",
      "Disaster found in 3028\n",
      "Disaster found in 3029\n",
      "Disaster found in 3030\n",
      "Disaster found in 3035\n",
      "Disaster found in 3038\n",
      "Disaster found in 3041\n",
      "Disaster found in 3043\n",
      "Disaster found in 3044\n",
      "Disaster found in 3046\n",
      "Disaster found in 3047\n",
      "Disaster found in 3048\n",
      "Disaster found in 3051\n",
      "Disaster found in 3054\n",
      "Disaster found in 3061\n",
      "Disaster found in 3062\n",
      "Disaster found in 3065\n",
      "Disaster found in 3152\n",
      "Disaster found in 3182\n",
      "Disaster found in 3196\n",
      "Disaster found in 3220\n",
      "Disaster found in 3287\n",
      "Disaster found in 3315\n",
      "Disaster found in 3328\n",
      "Disaster found in 3331\n",
      "Disaster found in 3337\n",
      "Disaster found in 3353\n",
      "Disaster found in 3364\n",
      "Disaster found in 3371\n",
      "Disaster found in 3576\n",
      "Disaster found in 3642\n",
      "Disaster found in 3911\n",
      "Disaster found in 3915\n",
      "Disaster found in 3918\n",
      "Disaster found in 3919\n",
      "Disaster found in 3920\n",
      "Disaster found in 3925\n",
      "Disaster found in 3931\n",
      "Disaster found in 3935\n",
      "Disaster found in 3940\n",
      "Disaster found in 3943\n",
      "Disaster found in 3946\n",
      "Disaster found in 3947\n",
      "Disaster found in 3948\n",
      "Disaster found in 3949\n",
      "Disaster found in 3951\n",
      "Disaster found in 3954\n",
      "Disaster found in 3957\n",
      "Disaster found in 3958\n",
      "Disaster found in 3959\n",
      "Disaster found in 3960\n",
      "Disaster found in 3962\n",
      "Disaster found in 3965\n",
      "Disaster found in 3967\n",
      "Disaster found in 3968\n",
      "Disaster found in 3969\n",
      "Disaster found in 3971\n",
      "Disaster found in 3974\n",
      "Disaster found in 3976\n",
      "Disaster found in 3977\n",
      "Disaster found in 3978\n",
      "Disaster found in 3979\n",
      "Disaster found in 3981\n",
      "Disaster found in 3985\n",
      "Disaster found in 3986\n",
      "Disaster found in 3987\n",
      "Disaster found in 3988\n",
      "Disaster found in 3989\n",
      "Disaster found in 3990\n",
      "Disaster found in 3991\n",
      "Disaster found in 3992\n",
      "Disaster found in 3993\n",
      "Disaster found in 3994\n",
      "Disaster found in 3995\n",
      "Disaster found in 3997\n",
      "Disaster found in 3999\n",
      "Disaster found in 4000\n",
      "Disaster found in 4002\n",
      "Disaster found in 4004\n",
      "Disaster found in 4006\n",
      "Disaster found in 4007\n",
      "Disaster found in 4008\n",
      "Disaster found in 4009\n",
      "Disaster found in 4010\n",
      "Disaster found in 4011\n",
      "Disaster found in 4012\n",
      "Disaster found in 4013\n",
      "Disaster found in 4014\n",
      "Disaster found in 4015\n",
      "Disaster found in 4016\n",
      "Disaster found in 4018\n",
      "Disaster found in 4019\n",
      "Disaster found in 4040\n",
      "Disaster found in 4043\n",
      "Disaster found in 4049\n",
      "Disaster found in 4064\n",
      "Disaster found in 4127\n",
      "Disaster found in 4269\n",
      "Disaster found in 4489\n",
      "Disaster found in 4490\n",
      "Disaster found in 4493\n",
      "Disaster found in 4499\n",
      "Disaster found in 4501\n",
      "Disaster found in 4504\n",
      "Disaster found in 4507\n",
      "Disaster found in 4508\n",
      "Disaster found in 4512\n",
      "Disaster found in 4514\n",
      "Disaster found in 4515\n",
      "Disaster found in 4520\n",
      "Disaster found in 4523\n",
      "Disaster found in 4526\n",
      "Disaster found in 4652\n",
      "Disaster found in 4672\n",
      "Disaster found in 4701\n",
      "Disaster found in 4752\n",
      "Disaster found in 5568\n",
      "Disaster found in 5572\n",
      "Disaster found in 5581\n",
      "Disaster found in 5582\n",
      "Disaster found in 5585\n",
      "Disaster found in 5589\n",
      "Disaster found in 5590\n",
      "Disaster found in 5591\n",
      "Disaster found in 5593\n",
      "Disaster found in 5594\n",
      "Disaster found in 5599\n",
      "Disaster found in 5600\n",
      "Disaster found in 5601\n",
      "Disaster found in 5607\n",
      "Disaster found in 5608\n",
      "Disaster found in 5609\n",
      "Disaster found in 5610\n",
      "Disaster found in 5672\n",
      "Disaster found in 5686\n",
      "Disaster found in 5737\n",
      "Disaster found in 6024\n",
      "Disaster found in 6154\n",
      "Disaster found in 6161\n",
      "Disaster found in 6741\n",
      "Disaster found in 6742\n",
      "Disaster found in 6743\n",
      "Disaster found in 6748\n",
      "Disaster found in 6750\n",
      "Disaster found in 6753\n",
      "Disaster found in 6754\n",
      "Disaster found in 6755\n",
      "Disaster found in 6756\n",
      "Disaster found in 6757\n",
      "Disaster found in 6758\n",
      "Disaster found in 6759\n",
      "Disaster found in 6763\n",
      "Disaster found in 6765\n",
      "Disaster found in 6768\n",
      "Disaster found in 6769\n",
      "Disaster found in 6771\n",
      "Disaster found in 6772\n",
      "Disaster found in 6773\n",
      "Disaster found in 6790\n",
      "Disaster found in 6944\n",
      "Disaster found in 6948\n",
      "Disaster found in 6950\n",
      "Disaster found in 6951\n",
      "Disaster found in 6954\n",
      "Disaster found in 6956\n",
      "Disaster found in 6957\n",
      "Disaster found in 6960\n",
      "Disaster found in 6962\n",
      "Disaster found in 6964\n",
      "Disaster found in 6965\n",
      "Disaster found in 6967\n",
      "Disaster found in 6968\n",
      "Disaster found in 6969\n",
      "Disaster found in 6970\n",
      "Disaster found in 6972\n",
      "Disaster found in 6973\n",
      "Disaster found in 7122\n",
      "Disaster found in 7131\n",
      "Disaster found in 7135\n",
      "Disaster found in 7142\n",
      "Disaster found in 7150\n",
      "Disaster found in 7306\n",
      "Disaster found in 7310\n",
      "Disaster found in 7325\n",
      "Disaster found in 7326\n",
      "Disaster found in 7331\n",
      "Disaster found in 7335\n",
      "Disaster found in 7338\n",
      "Disaster found in 7340\n",
      "Disaster found in 7343\n",
      "Disaster found in 7346\n",
      "Disaster found in 7348\n",
      "Disaster found in 7350\n",
      "Disaster found in 7351\n",
      "Disaster found in 7354\n",
      "Disaster found in 7357\n",
      "Disaster found in 7589\n",
      "Disaster found in 7602\n"
     ]
    }
   ],
   "source": [
    "for i in range(len(df_train['text'])):\n",
    "    if 'earthquake' in df_train['text'][i] or 'hurricane' in df_train['text'][i] or 'flood' in df_train['text'][i] or 'tsunami' in df_train['text'][i] or 'tornado' in df_train['text'][i] or 'wildfire' in df_train['text'][i]:\n",
    "        print('Disaster found in ' + str(i))\n",
    "    #s =df_train['text'][i]\n",
    "    #index = s.find(\"death\")\n",
    "    #print(index)"
   ]
  },
  {
   "cell_type": "code",
   "execution_count": 8,
   "id": "951d714c",
   "metadata": {
    "execution": {
     "iopub.execute_input": "2023-01-26T16:57:02.433218Z",
     "iopub.status.busy": "2023-01-26T16:57:02.432870Z",
     "iopub.status.idle": "2023-01-26T16:57:02.997405Z",
     "shell.execute_reply": "2023-01-26T16:57:02.995694Z"
    },
    "papermill": {
     "duration": 0.574719,
     "end_time": "2023-01-26T16:57:03.000007",
     "exception": false,
     "start_time": "2023-01-26T16:57:02.425288",
     "status": "completed"
    },
    "tags": []
   },
   "outputs": [
    {
     "name": "stdout",
     "output_type": "stream",
     "text": [
      "Hashtag found in 0\n",
      "Hashtag found in 6\n",
      "Hashtag found in 1666\n",
      "Hashtag found in 1851\n",
      "Hashtag found in 2179\n",
      "Hashtag found in 2788\n",
      "Hashtag found in 3028\n",
      "Hashtag found in 3038\n",
      "Hashtag found in 3046\n",
      "Hashtag found in 3061\n",
      "Hashtag found in 3150\n",
      "Hashtag found in 3162\n",
      "Hashtag found in 3771\n",
      "Hashtag found in 3793\n",
      "Hashtag found in 3974\n",
      "Hashtag found in 3997\n",
      "Hashtag found in 5018\n",
      "Hashtag found in 5086\n",
      "Hashtag found in 5542\n",
      "Hashtag found in 6024\n",
      "Hashtag found in 6735\n",
      "Hashtag found in 6951\n",
      "Hashtag found in 6956\n",
      "Hashtag found in 7131\n",
      "Hashtag found in 7135\n",
      "Hashtag found in 7298\n",
      "Hashtag found in 7350\n",
      "Hashtag found in 7373\n"
     ]
    }
   ],
   "source": [
    "\n",
    "\n",
    "for i in range(len(df_train['text'])):\n",
    "    if '#disaster' in df_train['text'][i] or '#nature' in df_train['text'][i] or '#tsunami' in df_train['text'][i] or '#covid' in df_train['text'][i] or '#earthquake' in df_train['text'][i] or '#naturaldisaster' in df_train['text'][i] or '#disasterrelief' in df_train['text'][i] or '#gempabumi' in df_train['text'][i] or '#emergency' in df_train['text'][i] or '#fire' in df_train['text'][i] or '#love' in df_train['text'][i] or '#disastermanagement' in df_train['text'][i] or '#bencanaalarm' in df_train['text'][i]:\n",
    "        print('Hashtag found in ' + str(i))\n",
    "\n",
    "    #s =df_train['text'][i]\n",
    "    #index = s.find(\"death\")\n",
    "    #print(index)\n",
    "    \n",
    " #disaster #nature #tsunami #covid #earthquake #naturaldisaster #disasterrelief #flood #bencana #indonesia #disasterpreparedness #gempabumi #emergency #fire #love #disastermanagement #bencanaalam #hurricane #disasterrecovery #help #earth #gempa #bhfyp #life #disasterresponse #climatechange #disasters #tsunamipalu #viral #world\n",
    "\n",
    "#banjir #photography #chernobyl #storm #water #likuifaksi #floods #india #megatsunami #waterdamage #instagram #tsunamiwarning #gunungmeletus #bmkg #art #longsor #tornado #siagabencana #tsunamiaceh #terremoto #coronavirus #emergencypreparedness #rain #survival #news #safety #bnpb #rescue #history #flooding"
   ]
  },
  {
   "cell_type": "code",
   "execution_count": 9,
   "id": "86091386",
   "metadata": {
    "execution": {
     "iopub.execute_input": "2023-01-26T16:57:03.015289Z",
     "iopub.status.busy": "2023-01-26T16:57:03.014947Z",
     "iopub.status.idle": "2023-01-26T16:57:03.020838Z",
     "shell.execute_reply": "2023-01-26T16:57:03.019169Z"
    },
    "papermill": {
     "duration": 0.016236,
     "end_time": "2023-01-26T16:57:03.023303",
     "exception": false,
     "start_time": "2023-01-26T16:57:03.007067",
     "status": "completed"
    },
    "tags": []
   },
   "outputs": [],
   "source": [
    "hashtags = re.sub(\" \",',',\"#disaster #nature #tsunami #covid #earthquake #naturaldisaster #disasterrelief #flood #bencana #indonesia #disasterpreparedness #gempabumi #emergency #fire #love #disastermanagement #bencanaalam #hurricane #disasterrecovery #help #earth #gempa #bhfyp #life #disasterresponse #climatechange #disasters #tsunamipalu #viral #world\")"
   ]
  },
  {
   "cell_type": "code",
   "execution_count": 10,
   "id": "135661ef",
   "metadata": {
    "execution": {
     "iopub.execute_input": "2023-01-26T16:57:03.038819Z",
     "iopub.status.busy": "2023-01-26T16:57:03.037851Z",
     "iopub.status.idle": "2023-01-26T16:57:03.043578Z",
     "shell.execute_reply": "2023-01-26T16:57:03.042408Z"
    },
    "papermill": {
     "duration": 0.01566,
     "end_time": "2023-01-26T16:57:03.045716",
     "exception": false,
     "start_time": "2023-01-26T16:57:03.030056",
     "status": "completed"
    },
    "tags": []
   },
   "outputs": [
    {
     "name": "stdout",
     "output_type": "stream",
     "text": [
      "#disaster\n"
     ]
    }
   ],
   "source": [
    "print(hashtags.split(',')[0])\n",
    "    "
   ]
  },
  {
   "cell_type": "code",
   "execution_count": 11,
   "id": "3ab386a6",
   "metadata": {
    "execution": {
     "iopub.execute_input": "2023-01-26T16:57:03.062192Z",
     "iopub.status.busy": "2023-01-26T16:57:03.061853Z",
     "iopub.status.idle": "2023-01-26T16:57:03.067554Z",
     "shell.execute_reply": "2023-01-26T16:57:03.066284Z"
    },
    "papermill": {
     "duration": 0.016316,
     "end_time": "2023-01-26T16:57:03.069586",
     "exception": false,
     "start_time": "2023-01-26T16:57:03.053270",
     "status": "completed"
    },
    "tags": []
   },
   "outputs": [
    {
     "name": "stdout",
     "output_type": "stream",
     "text": [
      "#\n"
     ]
    }
   ],
   "source": [
    "print(hashtags[0])"
   ]
  },
  {
   "cell_type": "code",
   "execution_count": 12,
   "id": "e6a16212",
   "metadata": {
    "execution": {
     "iopub.execute_input": "2023-01-26T16:57:03.084158Z",
     "iopub.status.busy": "2023-01-26T16:57:03.083839Z",
     "iopub.status.idle": "2023-01-26T16:57:03.089665Z",
     "shell.execute_reply": "2023-01-26T16:57:03.087998Z"
    },
    "papermill": {
     "duration": 0.015529,
     "end_time": "2023-01-26T16:57:03.091821",
     "exception": false,
     "start_time": "2023-01-26T16:57:03.076292",
     "status": "completed"
    },
    "tags": []
   },
   "outputs": [],
   "source": [
    "hashtags2 = re.sub(\" \",',',\"#banjir #photography #chernobyl #storm #water #likuifaksi #floods #india #megatsunami #waterdamage #instagram #tsunamiwarning #gunungmeletus #bmkg #art #longsor #tornado #siagabencana #tsunamiaceh #terremoto #coronavirus #emergencypreparedness #rain #survival #news #safety #bnpb #rescue #history #flooding\")"
   ]
  },
  {
   "cell_type": "code",
   "execution_count": 29,
   "id": "6d1ce1d4",
   "metadata": {
    "execution": {
     "iopub.execute_input": "2023-01-26T16:57:03.106747Z",
     "iopub.status.busy": "2023-01-26T16:57:03.106413Z",
     "iopub.status.idle": "2023-01-26T16:57:03.177628Z",
     "shell.execute_reply": "2023-01-26T16:57:03.176519Z"
    },
    "papermill": {
     "duration": 0.080938,
     "end_time": "2023-01-26T16:57:03.179699",
     "exception": false,
     "start_time": "2023-01-26T16:57:03.098761",
     "status": "completed"
    },
    "tags": []
   },
   "outputs": [],
   "source": [
    "hashtags_disaster = []\n",
    "for i in hashtags.split(','):\n",
    "    for j in df_train['text']:\n",
    "        if i in j:\n",
    "            hashtags_disaster.append(j)\n",
    "    "
   ]
  },
  {
   "attachments": {},
   "cell_type": "markdown",
   "id": "6fad0773",
   "metadata": {},
   "source": [
    "The twits in the train dataset that include the hashtags are appended here"
   ]
  },
  {
   "cell_type": "code",
   "execution_count": 31,
   "id": "8af2890f",
   "metadata": {},
   "outputs": [
    {
     "name": "stdout",
     "output_type": "stream",
     "text": [
      "65\n"
     ]
    }
   ],
   "source": [
    "print(len(hashtags_disaster))"
   ]
  },
  {
   "cell_type": "code",
   "execution_count": 32,
   "id": "a245eaf2",
   "metadata": {
    "execution": {
     "iopub.execute_input": "2023-01-26T16:57:03.193534Z",
     "iopub.status.busy": "2023-01-26T16:57:03.193256Z",
     "iopub.status.idle": "2023-01-26T16:57:03.240708Z",
     "shell.execute_reply": "2023-01-26T16:57:03.239787Z"
    },
    "papermill": {
     "duration": 0.056917,
     "end_time": "2023-01-26T16:57:03.243082",
     "exception": false,
     "start_time": "2023-01-26T16:57:03.186165",
     "status": "completed"
    },
    "tags": []
   },
   "outputs": [],
   "source": [
    "disaster = []\n",
    "k=0\n",
    "for i in df_train['text']:\n",
    "    if df_train['target'][k]==1:\n",
    "        disaster.append(i)\n",
    "    k=k+1"
   ]
  },
  {
   "attachments": {},
   "cell_type": "markdown",
   "id": "e78cb0c6",
   "metadata": {},
   "source": [
    "Here we append the twits corresponded to disasters according to the train dataset."
   ]
  },
  {
   "cell_type": "code",
   "execution_count": 33,
   "id": "70b65693",
   "metadata": {
    "execution": {
     "iopub.execute_input": "2023-01-26T16:57:03.258284Z",
     "iopub.status.busy": "2023-01-26T16:57:03.257916Z",
     "iopub.status.idle": "2023-01-26T16:57:03.265768Z",
     "shell.execute_reply": "2023-01-26T16:57:03.264318Z"
    },
    "papermill": {
     "duration": 0.01955,
     "end_time": "2023-01-26T16:57:03.269395",
     "exception": false,
     "start_time": "2023-01-26T16:57:03.249845",
     "status": "completed"
    },
    "tags": []
   },
   "outputs": [],
   "source": [
    "overlap_disaster = []\n",
    "for i in disaster:\n",
    "    if i in hashtags_disaster:\n",
    "        overlap_disaster.append(i)\n",
    "        "
   ]
  },
  {
   "attachments": {},
   "cell_type": "markdown",
   "id": "941187fd",
   "metadata": {},
   "source": [
    "Here we check the overlap between both lists to see if it is a good feature"
   ]
  },
  {
   "cell_type": "code",
   "execution_count": 34,
   "id": "2a283617",
   "metadata": {
    "execution": {
     "iopub.execute_input": "2023-01-26T16:57:03.284860Z",
     "iopub.status.busy": "2023-01-26T16:57:03.284496Z",
     "iopub.status.idle": "2023-01-26T16:57:03.291814Z",
     "shell.execute_reply": "2023-01-26T16:57:03.290851Z"
    },
    "papermill": {
     "duration": 0.01803,
     "end_time": "2023-01-26T16:57:03.294292",
     "exception": false,
     "start_time": "2023-01-26T16:57:03.276262",
     "status": "completed"
    },
    "tags": []
   },
   "outputs": [
    {
     "data": {
      "text/plain": [
       "65"
      ]
     },
     "execution_count": 34,
     "metadata": {},
     "output_type": "execute_result"
    }
   ],
   "source": [
    "len(hashtags_disaster)"
   ]
  },
  {
   "cell_type": "code",
   "execution_count": 35,
   "id": "724c3140",
   "metadata": {
    "execution": {
     "iopub.execute_input": "2023-01-26T16:57:03.310046Z",
     "iopub.status.busy": "2023-01-26T16:57:03.309716Z",
     "iopub.status.idle": "2023-01-26T16:57:03.314546Z",
     "shell.execute_reply": "2023-01-26T16:57:03.313971Z"
    },
    "papermill": {
     "duration": 0.01505,
     "end_time": "2023-01-26T16:57:03.316450",
     "exception": false,
     "start_time": "2023-01-26T16:57:03.301400",
     "status": "completed"
    },
    "tags": []
   },
   "outputs": [
    {
     "data": {
      "text/plain": [
       "21"
      ]
     },
     "execution_count": 35,
     "metadata": {},
     "output_type": "execute_result"
    }
   ],
   "source": [
    "len(overlap_disaster)"
   ]
  },
  {
   "cell_type": "code",
   "execution_count": 19,
   "id": "aa2fa485",
   "metadata": {
    "execution": {
     "iopub.execute_input": "2023-01-26T16:57:03.331541Z",
     "iopub.status.busy": "2023-01-26T16:57:03.331242Z",
     "iopub.status.idle": "2023-01-26T16:57:03.339334Z",
     "shell.execute_reply": "2023-01-26T16:57:03.338159Z"
    },
    "papermill": {
     "duration": 0.018649,
     "end_time": "2023-01-26T16:57:03.342156",
     "exception": false,
     "start_time": "2023-01-26T16:57:03.323507",
     "status": "completed"
    },
    "tags": []
   },
   "outputs": [
    {
     "data": {
      "text/plain": [
       "[2]"
      ]
     },
     "execution_count": 19,
     "metadata": {},
     "output_type": "execute_result"
    }
   ],
   "source": [
    "my_list = [1, 2, 3]\n",
    "[i for i in my_list if i==2]"
   ]
  },
  {
   "cell_type": "code",
   "execution_count": 20,
   "id": "33762665",
   "metadata": {
    "execution": {
     "iopub.execute_input": "2023-01-26T16:57:03.358272Z",
     "iopub.status.busy": "2023-01-26T16:57:03.357936Z",
     "iopub.status.idle": "2023-01-26T16:57:03.367458Z",
     "shell.execute_reply": "2023-01-26T16:57:03.366404Z"
    },
    "papermill": {
     "duration": 0.020003,
     "end_time": "2023-01-26T16:57:03.369444",
     "exception": false,
     "start_time": "2023-01-26T16:57:03.349441",
     "status": "completed"
    },
    "tags": []
   },
   "outputs": [
    {
     "data": {
      "text/plain": [
       "array(['Our Deeds are the Reason of this #earthquake May ALLAH Forgive us all',\n",
       "       'Forest fire near La Ronge Sask. Canada',\n",
       "       \"All residents asked to 'shelter in place' are being notified by officers. No other evacuation or shelter in place orders are expected\",\n",
       "       ...,\n",
       "       'Suicide bomber kills 15 in Saudi security site mosque - Reuters via World - Google News - Wall ... http://t.co/nF4IculOje',\n",
       "       'Two giant cranes holding a bridge collapse into nearby homes http://t.co/STfMbbZFB5',\n",
       "       'The Latest: More Homes Razed by Northern California Wildfire - ABC News http://t.co/YmY4rSkQ3d'],\n",
       "      dtype=object)"
      ]
     },
     "execution_count": 20,
     "metadata": {},
     "output_type": "execute_result"
    }
   ],
   "source": [
    "#df_train['text'].values.tolist()\n",
    "df_train['text'].unique()"
   ]
  },
  {
   "cell_type": "code",
   "execution_count": 21,
   "id": "cef0063d",
   "metadata": {
    "execution": {
     "iopub.execute_input": "2023-01-26T16:57:03.385217Z",
     "iopub.status.busy": "2023-01-26T16:57:03.384857Z",
     "iopub.status.idle": "2023-01-26T16:57:03.391660Z",
     "shell.execute_reply": "2023-01-26T16:57:03.390230Z"
    },
    "papermill": {
     "duration": 0.017402,
     "end_time": "2023-01-26T16:57:03.393884",
     "exception": false,
     "start_time": "2023-01-26T16:57:03.376482",
     "status": "completed"
    },
    "tags": []
   },
   "outputs": [],
   "source": [
    "df_train.sort_values(by=\"target\", ascending=False, inplace=True)"
   ]
  },
  {
   "cell_type": "code",
   "execution_count": 22,
   "id": "80b91d8a",
   "metadata": {
    "execution": {
     "iopub.execute_input": "2023-01-26T16:57:03.410014Z",
     "iopub.status.busy": "2023-01-26T16:57:03.409686Z",
     "iopub.status.idle": "2023-01-26T16:57:03.420979Z",
     "shell.execute_reply": "2023-01-26T16:57:03.420304Z"
    },
    "papermill": {
     "duration": 0.020826,
     "end_time": "2023-01-26T16:57:03.422523",
     "exception": false,
     "start_time": "2023-01-26T16:57:03.401697",
     "status": "completed"
    },
    "tags": []
   },
   "outputs": [
    {
     "data": {
      "text/html": [
       "<div>\n",
       "<style scoped>\n",
       "    .dataframe tbody tr th:only-of-type {\n",
       "        vertical-align: middle;\n",
       "    }\n",
       "\n",
       "    .dataframe tbody tr th {\n",
       "        vertical-align: top;\n",
       "    }\n",
       "\n",
       "    .dataframe thead th {\n",
       "        text-align: right;\n",
       "    }\n",
       "</style>\n",
       "<table border=\"1\" class=\"dataframe\">\n",
       "  <thead>\n",
       "    <tr style=\"text-align: right;\">\n",
       "      <th></th>\n",
       "      <th>id</th>\n",
       "      <th>keyword</th>\n",
       "      <th>location</th>\n",
       "      <th>text</th>\n",
       "      <th>target</th>\n",
       "    </tr>\n",
       "  </thead>\n",
       "  <tbody>\n",
       "    <tr>\n",
       "      <th>0</th>\n",
       "      <td>1</td>\n",
       "      <td>NaN</td>\n",
       "      <td>NaN</td>\n",
       "      <td>Our Deeds are the Reason of this #earthquake M...</td>\n",
       "      <td>1</td>\n",
       "    </tr>\n",
       "    <tr>\n",
       "      <th>4069</th>\n",
       "      <td>5783</td>\n",
       "      <td>forest%20fires</td>\n",
       "      <td>NaN</td>\n",
       "      <td>When ur friend and u are talking about forest ...</td>\n",
       "      <td>1</td>\n",
       "    </tr>\n",
       "    <tr>\n",
       "      <th>4067</th>\n",
       "      <td>5780</td>\n",
       "      <td>forest%20fires</td>\n",
       "      <td>Lansdale,Pennsylvania</td>\n",
       "      <td>U.S. Forest Service says spending more than ha...</td>\n",
       "      <td>1</td>\n",
       "    </tr>\n",
       "    <tr>\n",
       "      <th>4066</th>\n",
       "      <td>5778</td>\n",
       "      <td>forest%20fires</td>\n",
       "      <td>Vancouver, BC</td>\n",
       "      <td>Forest fires could delay @AbbyAirshow but offi...</td>\n",
       "      <td>1</td>\n",
       "    </tr>\n",
       "    <tr>\n",
       "      <th>4065</th>\n",
       "      <td>5777</td>\n",
       "      <td>forest%20fires</td>\n",
       "      <td>Portland, Oregon</td>\n",
       "      <td>Inciweb OR Update:  Rogue River-Siskiyou Natio...</td>\n",
       "      <td>1</td>\n",
       "    </tr>\n",
       "    <tr>\n",
       "      <th>4064</th>\n",
       "      <td>5776</td>\n",
       "      <td>forest%20fires</td>\n",
       "      <td>Based in CA - Serve Nationwide</td>\n",
       "      <td>Property losses from northern California wildf...</td>\n",
       "      <td>1</td>\n",
       "    </tr>\n",
       "    <tr>\n",
       "      <th>4063</th>\n",
       "      <td>5775</td>\n",
       "      <td>forest%20fires</td>\n",
       "      <td>NaN</td>\n",
       "      <td>U.S. Forest Service says spending more than ha...</td>\n",
       "      <td>1</td>\n",
       "    </tr>\n",
       "    <tr>\n",
       "      <th>4062</th>\n",
       "      <td>5772</td>\n",
       "      <td>forest%20fires</td>\n",
       "      <td>NaN</td>\n",
       "      <td>CLIMATE CONSEQUENCES: U.S. Forest Service Says...</td>\n",
       "      <td>1</td>\n",
       "    </tr>\n",
       "    <tr>\n",
       "      <th>4060</th>\n",
       "      <td>5769</td>\n",
       "      <td>forest%20fires</td>\n",
       "      <td>NaN</td>\n",
       "      <td>#HeartDisease U.S. Forest Service says spendin...</td>\n",
       "      <td>1</td>\n",
       "    </tr>\n",
       "    <tr>\n",
       "      <th>4059</th>\n",
       "      <td>5766</td>\n",
       "      <td>forest%20fires</td>\n",
       "      <td>Duncan</td>\n",
       "      <td>@BlueJays @Braves @Angels Instead of dumping w...</td>\n",
       "      <td>1</td>\n",
       "    </tr>\n",
       "  </tbody>\n",
       "</table>\n",
       "</div>"
      ],
      "text/plain": [
       "        id         keyword                        location  \\\n",
       "0        1             NaN                             NaN   \n",
       "4069  5783  forest%20fires                             NaN   \n",
       "4067  5780  forest%20fires           Lansdale,Pennsylvania   \n",
       "4066  5778  forest%20fires                   Vancouver, BC   \n",
       "4065  5777  forest%20fires                Portland, Oregon   \n",
       "4064  5776  forest%20fires  Based in CA - Serve Nationwide   \n",
       "4063  5775  forest%20fires                             NaN   \n",
       "4062  5772  forest%20fires                             NaN   \n",
       "4060  5769  forest%20fires                             NaN   \n",
       "4059  5766  forest%20fires                          Duncan   \n",
       "\n",
       "                                                   text  target  \n",
       "0     Our Deeds are the Reason of this #earthquake M...       1  \n",
       "4069  When ur friend and u are talking about forest ...       1  \n",
       "4067  U.S. Forest Service says spending more than ha...       1  \n",
       "4066  Forest fires could delay @AbbyAirshow but offi...       1  \n",
       "4065  Inciweb OR Update:  Rogue River-Siskiyou Natio...       1  \n",
       "4064  Property losses from northern California wildf...       1  \n",
       "4063  U.S. Forest Service says spending more than ha...       1  \n",
       "4062  CLIMATE CONSEQUENCES: U.S. Forest Service Says...       1  \n",
       "4060  #HeartDisease U.S. Forest Service says spendin...       1  \n",
       "4059  @BlueJays @Braves @Angels Instead of dumping w...       1  "
      ]
     },
     "execution_count": 22,
     "metadata": {},
     "output_type": "execute_result"
    }
   ],
   "source": [
    "df_train.head(10)"
   ]
  },
  {
   "cell_type": "raw",
   "id": "8ce2055e",
   "metadata": {
    "papermill": {
     "duration": 0.007458,
     "end_time": "2023-01-26T16:57:03.437023",
     "exception": false,
     "start_time": "2023-01-26T16:57:03.429565",
     "status": "completed"
    },
    "tags": []
   },
   "source": [
    "print(df_train['target'])"
   ]
  },
  {
   "cell_type": "code",
   "execution_count": null,
   "id": "7e4d8dd6",
   "metadata": {
    "papermill": {
     "duration": 0.006729,
     "end_time": "2023-01-26T16:57:03.451244",
     "exception": false,
     "start_time": "2023-01-26T16:57:03.444515",
     "status": "completed"
    },
    "tags": []
   },
   "outputs": [],
   "source": []
  }
 ],
 "metadata": {
  "kernelspec": {
   "display_name": "Python 3",
   "language": "python",
   "name": "python3"
  },
  "language_info": {
   "codemirror_mode": {
    "name": "ipython",
    "version": 3
   },
   "file_extension": ".py",
   "mimetype": "text/x-python",
   "name": "python",
   "nbconvert_exporter": "python",
   "pygments_lexer": "ipython3",
   "version": "3.10.6"
  },
  "papermill": {
   "default_parameters": {},
   "duration": 12.911681,
   "end_time": "2023-01-26T16:57:04.178789",
   "environment_variables": {},
   "exception": null,
   "input_path": "__notebook__.ipynb",
   "output_path": "__notebook__.ipynb",
   "parameters": {},
   "start_time": "2023-01-26T16:56:51.267108",
   "version": "2.3.4"
  },
  "vscode": {
   "interpreter": {
    "hash": "916dbcbb3f70747c44a77c7bcd40155683ae19c65e1c03b4aa3499c5328201f1"
   }
  }
 },
 "nbformat": 4,
 "nbformat_minor": 5
}
