{
 "cells": [
  {
   "cell_type": "code",
   "execution_count": 1,
   "id": "9c2f3e9b",
   "metadata": {
    "_cell_guid": "b1076dfc-b9ad-4769-8c92-a6c4dae69d19",
    "_uuid": "8f2839f25d086af736a60e9eeb907d3b93b6e0e5",
    "execution": {
     "iopub.execute_input": "2022-11-23T16:14:45.632781Z",
     "iopub.status.busy": "2022-11-23T16:14:45.631722Z",
     "iopub.status.idle": "2022-11-23T16:14:46.724907Z",
     "shell.execute_reply": "2022-11-23T16:14:46.723620Z"
    },
    "papermill": {
     "duration": 1.104258,
     "end_time": "2022-11-23T16:14:46.728702",
     "exception": false,
     "start_time": "2022-11-23T16:14:45.624444",
     "status": "completed"
    },
    "tags": []
   },
   "outputs": [
    {
     "name": "stdout",
     "output_type": "stream",
     "text": [
      "/kaggle/input/nlp-getting-started/sample_submission.csv\n",
      "/kaggle/input/nlp-getting-started/train.csv\n",
      "/kaggle/input/nlp-getting-started/test.csv\n"
     ]
    }
   ],
   "source": [
    "# This Python 3 environment comes with many helpful analytics libraries installed\n",
    "# It is defined by the kaggle/python Docker image: https://github.com/kaggle/docker-python\n",
    "# For example, here's several helpful packages to load\n",
    "\n",
    "import numpy as np # linear algebra\n",
    "import pandas as pd # data processing, CSV file I/O (e.g. pd.read_csv)\n",
    "import matplotlib.pyplot as plt\n",
    "import seaborn as sns\n",
    "\n",
    "# Input data files are available in the read-only \"../input/\" directory\n",
    "# For example, running this (by clicking run or pressing Shift+Enter) will list all files under the input directory\n",
    "\n",
    "import os\n",
    "for dirname, _, filenames in os.walk('/kaggle/input'):\n",
    "    for filename in filenames:\n",
    "        print(os.path.join(dirname, filename))\n",
    "\n",
    "# You can write up to 20GB to the current directory (/kaggle/working/) that gets preserved as output when you create a version using \"Save & Run All\" \n",
    "# You can also write temporary files to /kaggle/temp/, but they won't be saved outside of the current session"
   ]
  },
  {
   "cell_type": "code",
   "execution_count": 2,
   "id": "b314740d",
   "metadata": {
    "execution": {
     "iopub.execute_input": "2022-11-23T16:14:46.739632Z",
     "iopub.status.busy": "2022-11-23T16:14:46.739004Z",
     "iopub.status.idle": "2022-11-23T16:14:46.795005Z",
     "shell.execute_reply": "2022-11-23T16:14:46.793659Z"
    },
    "papermill": {
     "duration": 0.064316,
     "end_time": "2022-11-23T16:14:46.797736",
     "exception": false,
     "start_time": "2022-11-23T16:14:46.733420",
     "status": "completed"
    },
    "tags": []
   },
   "outputs": [],
   "source": [
    "df_train = pd.read_csv('../input/nlp-getting-started/train.csv')\n"
   ]
  },
  {
   "cell_type": "markdown",
   "id": "81e80892",
   "metadata": {
    "papermill": {
     "duration": 0.00338,
     "end_time": "2022-11-23T16:14:46.805119",
     "exception": false,
     "start_time": "2022-11-23T16:14:46.801739",
     "status": "completed"
    },
    "tags": []
   },
   "source": []
  },
  {
   "cell_type": "code",
   "execution_count": 3,
   "id": "5ab5eabd",
   "metadata": {
    "execution": {
     "iopub.execute_input": "2022-11-23T16:14:46.814359Z",
     "iopub.status.busy": "2022-11-23T16:14:46.813938Z",
     "iopub.status.idle": "2022-11-23T16:14:46.836903Z",
     "shell.execute_reply": "2022-11-23T16:14:46.835577Z"
    },
    "papermill": {
     "duration": 0.030368,
     "end_time": "2022-11-23T16:14:46.839310",
     "exception": false,
     "start_time": "2022-11-23T16:14:46.808942",
     "status": "completed"
    },
    "tags": []
   },
   "outputs": [
    {
     "data": {
      "text/html": [
       "<div>\n",
       "<style scoped>\n",
       "    .dataframe tbody tr th:only-of-type {\n",
       "        vertical-align: middle;\n",
       "    }\n",
       "\n",
       "    .dataframe tbody tr th {\n",
       "        vertical-align: top;\n",
       "    }\n",
       "\n",
       "    .dataframe thead th {\n",
       "        text-align: right;\n",
       "    }\n",
       "</style>\n",
       "<table border=\"1\" class=\"dataframe\">\n",
       "  <thead>\n",
       "    <tr style=\"text-align: right;\">\n",
       "      <th></th>\n",
       "      <th>id</th>\n",
       "      <th>keyword</th>\n",
       "      <th>location</th>\n",
       "      <th>text</th>\n",
       "      <th>target</th>\n",
       "    </tr>\n",
       "  </thead>\n",
       "  <tbody>\n",
       "    <tr>\n",
       "      <th>0</th>\n",
       "      <td>1</td>\n",
       "      <td>NaN</td>\n",
       "      <td>NaN</td>\n",
       "      <td>Our Deeds are the Reason of this #earthquake M...</td>\n",
       "      <td>1</td>\n",
       "    </tr>\n",
       "    <tr>\n",
       "      <th>1</th>\n",
       "      <td>4</td>\n",
       "      <td>NaN</td>\n",
       "      <td>NaN</td>\n",
       "      <td>Forest fire near La Ronge Sask. Canada</td>\n",
       "      <td>1</td>\n",
       "    </tr>\n",
       "    <tr>\n",
       "      <th>2</th>\n",
       "      <td>5</td>\n",
       "      <td>NaN</td>\n",
       "      <td>NaN</td>\n",
       "      <td>All residents asked to 'shelter in place' are ...</td>\n",
       "      <td>1</td>\n",
       "    </tr>\n",
       "    <tr>\n",
       "      <th>3</th>\n",
       "      <td>6</td>\n",
       "      <td>NaN</td>\n",
       "      <td>NaN</td>\n",
       "      <td>13,000 people receive #wildfires evacuation or...</td>\n",
       "      <td>1</td>\n",
       "    </tr>\n",
       "    <tr>\n",
       "      <th>4</th>\n",
       "      <td>7</td>\n",
       "      <td>NaN</td>\n",
       "      <td>NaN</td>\n",
       "      <td>Just got sent this photo from Ruby #Alaska as ...</td>\n",
       "      <td>1</td>\n",
       "    </tr>\n",
       "  </tbody>\n",
       "</table>\n",
       "</div>"
      ],
      "text/plain": [
       "   id keyword location                                               text  \\\n",
       "0   1     NaN      NaN  Our Deeds are the Reason of this #earthquake M...   \n",
       "1   4     NaN      NaN             Forest fire near La Ronge Sask. Canada   \n",
       "2   5     NaN      NaN  All residents asked to 'shelter in place' are ...   \n",
       "3   6     NaN      NaN  13,000 people receive #wildfires evacuation or...   \n",
       "4   7     NaN      NaN  Just got sent this photo from Ruby #Alaska as ...   \n",
       "\n",
       "   target  \n",
       "0       1  \n",
       "1       1  \n",
       "2       1  \n",
       "3       1  \n",
       "4       1  "
      ]
     },
     "execution_count": 3,
     "metadata": {},
     "output_type": "execute_result"
    }
   ],
   "source": [
    "df_train.head()"
   ]
  },
  {
   "cell_type": "code",
   "execution_count": 4,
   "id": "b9869ee0",
   "metadata": {
    "execution": {
     "iopub.execute_input": "2022-11-23T16:14:46.849527Z",
     "iopub.status.busy": "2022-11-23T16:14:46.848334Z",
     "iopub.status.idle": "2022-11-23T16:14:47.099795Z",
     "shell.execute_reply": "2022-11-23T16:14:47.098933Z"
    },
    "papermill": {
     "duration": 0.258774,
     "end_time": "2022-11-23T16:14:47.101986",
     "exception": false,
     "start_time": "2022-11-23T16:14:46.843212",
     "status": "completed"
    },
    "tags": []
   },
   "outputs": [
    {
     "name": "stderr",
     "output_type": "stream",
     "text": [
      "/opt/conda/lib/python3.7/site-packages/seaborn/_decorators.py:43: FutureWarning: Pass the following variable as a keyword arg: x. From version 0.12, the only valid positional argument will be `data`, and passing other arguments without an explicit keyword will result in an error or misinterpretation.\n",
      "  FutureWarning\n"
     ]
    },
    {
     "data": {
      "image/png": "[encoded data removed]",
      "text/plain": [
       "<Figure size 1440x432 with 1 Axes>"
      ]
     },
     "metadata": {
      "needs_background": "light"
     },
     "output_type": "display_data"
    }
   ],
   "source": [
    "plt.figure(figsize=(20, 6))\n",
    "\n",
    "sns.countplot(df_train['target'])\n",
    "plt.title(\"Target\", fontsize=20)\n",
    "\n",
    "plt.show()"
   ]
  },
  {
   "cell_type": "code",
   "execution_count": 5,
   "id": "72e71971",
   "metadata": {
    "execution": {
     "iopub.execute_input": "2022-11-23T16:14:47.112519Z",
     "iopub.status.busy": "2022-11-23T16:14:47.111909Z",
     "iopub.status.idle": "2022-11-23T16:14:49.948218Z",
     "shell.execute_reply": "2022-11-23T16:14:49.946959Z"
    },
    "papermill": {
     "duration": 2.844706,
     "end_time": "2022-11-23T16:14:49.951062",
     "exception": false,
     "start_time": "2022-11-23T16:14:47.106356",
     "status": "completed"
    },
    "tags": []
   },
   "outputs": [
    {
     "name": "stderr",
     "output_type": "stream",
     "text": [
      "/opt/conda/lib/python3.7/site-packages/seaborn/_decorators.py:43: FutureWarning: Pass the following variable as a keyword arg: x. From version 0.12, the only valid positional argument will be `data`, and passing other arguments without an explicit keyword will result in an error or misinterpretation.\n",
      "  FutureWarning\n"
     ]
    },
    {
     "data": {
      "image/png": "[encoded data removed]",
      "text/plain": [
       "<Figure size 1440x432 with 1 Axes>"
      ]
     },
     "metadata": {
      "needs_background": "light"
     },
     "output_type": "display_data"
    }
   ],
   "source": [
    "plt.figure(figsize=(20, 6))\n",
    "\n",
    "sns.countplot(df_train['keyword'])\n",
    "plt.title(\"keyword\", fontsize=20)\n",
    "\n",
    "plt.show()"
   ]
  },
  {
   "cell_type": "code",
   "execution_count": 6,
   "id": "ff24226a",
   "metadata": {
    "execution": {
     "iopub.execute_input": "2022-11-23T16:14:49.963619Z",
     "iopub.status.busy": "2022-11-23T16:14:49.962761Z",
     "iopub.status.idle": "2022-11-23T16:14:49.971328Z",
     "shell.execute_reply": "2022-11-23T16:14:49.969891Z"
    },
    "papermill": {
     "duration": 0.017652,
     "end_time": "2022-11-23T16:14:49.974100",
     "exception": false,
     "start_time": "2022-11-23T16:14:49.956448",
     "status": "completed"
    },
    "tags": []
   },
   "outputs": [
    {
     "data": {
      "text/plain": [
       "7613"
      ]
     },
     "execution_count": 6,
     "metadata": {},
     "output_type": "execute_result"
    }
   ],
   "source": [
    "len(df_train)"
   ]
  },
  {
   "cell_type": "code",
   "execution_count": 7,
   "id": "bbb8ac67",
   "metadata": {
    "execution": {
     "iopub.execute_input": "2022-11-23T16:14:49.986047Z",
     "iopub.status.busy": "2022-11-23T16:14:49.985549Z",
     "iopub.status.idle": "2022-11-23T16:14:50.046870Z",
     "shell.execute_reply": "2022-11-23T16:14:50.045430Z"
    },
    "papermill": {
     "duration": 0.070597,
     "end_time": "2022-11-23T16:14:50.049825",
     "exception": false,
     "start_time": "2022-11-23T16:14:49.979228",
     "status": "completed"
    },
    "tags": []
   },
   "outputs": [
    {
     "name": "stdout",
     "output_type": "stream",
     "text": [
      "death found in 393\n",
      "death found in 718\n",
      "death found in 1260\n",
      "death found in 1579\n",
      "death found in 1891\n",
      "death found in 2089\n",
      "death found in 2091\n",
      "death found in 2096\n",
      "death found in 2099\n",
      "death found in 2101\n",
      "death found in 2102\n",
      "death found in 2103\n",
      "death found in 2104\n",
      "death found in 2105\n",
      "death found in 2107\n",
      "death found in 2108\n",
      "death found in 2110\n",
      "death found in 2111\n",
      "death found in 2114\n",
      "death found in 2115\n",
      "death found in 2117\n",
      "death found in 2118\n",
      "death found in 2120\n",
      "death found in 2121\n",
      "death found in 2122\n",
      "death found in 2123\n",
      "death found in 2124\n",
      "death found in 2125\n",
      "death found in 2126\n",
      "death found in 2127\n",
      "death found in 2128\n",
      "death found in 2130\n",
      "death found in 2131\n",
      "death found in 2132\n",
      "death found in 2133\n",
      "death found in 2134\n",
      "death found in 2135\n",
      "death found in 2136\n",
      "death found in 2137\n",
      "death found in 2138\n",
      "death found in 2139\n",
      "death found in 2142\n",
      "death found in 2143\n",
      "death found in 2148\n",
      "death found in 2150\n",
      "death found in 2151\n",
      "death found in 2152\n",
      "death found in 2153\n",
      "death found in 2154\n",
      "death found in 2155\n",
      "death found in 2156\n",
      "death found in 2157\n",
      "death found in 2158\n",
      "death found in 2160\n",
      "death found in 2161\n",
      "death found in 2162\n",
      "death found in 2640\n",
      "death found in 2716\n",
      "death found in 2723\n",
      "death found in 2725\n",
      "death found in 3047\n",
      "death found in 3106\n",
      "death found in 3123\n",
      "death found in 3131\n",
      "death found in 3393\n",
      "death found in 3567\n",
      "death found in 3580\n",
      "death found in 3606\n",
      "death found in 3617\n",
      "death found in 3659\n",
      "death found in 3693\n",
      "death found in 3697\n",
      "death found in 3992\n",
      "death found in 3998\n",
      "death found in 4017\n",
      "death found in 4022\n",
      "death found in 4664\n",
      "death found in 5108\n",
      "death found in 5240\n",
      "death found in 5284\n",
      "death found in 5319\n",
      "death found in 5729\n",
      "death found in 6012\n",
      "death found in 6576\n",
      "death found in 6631\n",
      "death found in 7119\n",
      "death found in 7237\n"
     ]
    }
   ],
   "source": [
    "for i in range(len(df_train['text'])):\n",
    "    if 'death' in df_train['text'][i]:\n",
    "        print('death found in ' + str(i))\n",
    "    #s =df_train['text'][i]\n",
    "    #index = s.find(\"death\")\n",
    "    #print(index)"
   ]
  },
  {
   "cell_type": "code",
   "execution_count": 8,
   "id": "88ca9e21",
   "metadata": {
    "execution": {
     "iopub.execute_input": "2022-11-23T16:14:50.062643Z",
     "iopub.status.busy": "2022-11-23T16:14:50.062205Z",
     "iopub.status.idle": "2022-11-23T16:14:50.074041Z",
     "shell.execute_reply": "2022-11-23T16:14:50.072962Z"
    },
    "papermill": {
     "duration": 0.021348,
     "end_time": "2022-11-23T16:14:50.076654",
     "exception": false,
     "start_time": "2022-11-23T16:14:50.055306",
     "status": "completed"
    },
    "tags": []
   },
   "outputs": [
    {
     "data": {
      "text/plain": [
       "array(['Our Deeds are the Reason of this #earthquake May ALLAH Forgive us all',\n",
       "       'Forest fire near La Ronge Sask. Canada',\n",
       "       \"All residents asked to 'shelter in place' are being notified by officers. No other evacuation or shelter in place orders are expected\",\n",
       "       ...,\n",
       "       'Suicide bomber kills 15 in Saudi security site mosque - Reuters via World - Google News - Wall ... http://t.co/nF4IculOje',\n",
       "       'Two giant cranes holding a bridge collapse into nearby homes http://t.co/STfMbbZFB5',\n",
       "       'The Latest: More Homes Razed by Northern California Wildfire - ABC News http://t.co/YmY4rSkQ3d'],\n",
       "      dtype=object)"
      ]
     },
     "execution_count": 8,
     "metadata": {},
     "output_type": "execute_result"
    }
   ],
   "source": [
    "#df_train['text'].values.tolist()\n",
    "df_train['text'].unique()"
   ]
  },
  {
   "cell_type": "code",
   "execution_count": 9,
   "id": "3a178329",
   "metadata": {
    "execution": {
     "iopub.execute_input": "2022-11-23T16:14:50.089676Z",
     "iopub.status.busy": "2022-11-23T16:14:50.089158Z",
     "iopub.status.idle": "2022-11-23T16:14:50.096906Z",
     "shell.execute_reply": "2022-11-23T16:14:50.095873Z"
    },
    "papermill": {
     "duration": 0.016717,
     "end_time": "2022-11-23T16:14:50.099270",
     "exception": false,
     "start_time": "2022-11-23T16:14:50.082553",
     "status": "completed"
    },
    "tags": []
   },
   "outputs": [],
   "source": [
    "df_train.sort_values(by=\"target\", ascending=False, inplace=True)"
   ]
  },
  {
   "cell_type": "code",
   "execution_count": 10,
   "id": "05acff34",
   "metadata": {
    "execution": {
     "iopub.execute_input": "2022-11-23T16:14:50.111773Z",
     "iopub.status.busy": "2022-11-23T16:14:50.111394Z",
     "iopub.status.idle": "2022-11-23T16:14:50.125808Z",
     "shell.execute_reply": "2022-11-23T16:14:50.124432Z"
    },
    "papermill": {
     "duration": 0.024287,
     "end_time": "2022-11-23T16:14:50.128878",
     "exception": false,
     "start_time": "2022-11-23T16:14:50.104591",
     "status": "completed"
    },
    "tags": []
   },
   "outputs": [
    {
     "data": {
      "text/html": [
       "<div>\n",
       "<style scoped>\n",
       "    .dataframe tbody tr th:only-of-type {\n",
       "        vertical-align: middle;\n",
       "    }\n",
       "\n",
       "    .dataframe tbody tr th {\n",
       "        vertical-align: top;\n",
       "    }\n",
       "\n",
       "    .dataframe thead th {\n",
       "        text-align: right;\n",
       "    }\n",
       "</style>\n",
       "<table border=\"1\" class=\"dataframe\">\n",
       "  <thead>\n",
       "    <tr style=\"text-align: right;\">\n",
       "      <th></th>\n",
       "      <th>id</th>\n",
       "      <th>keyword</th>\n",
       "      <th>location</th>\n",
       "      <th>text</th>\n",
       "      <th>target</th>\n",
       "    </tr>\n",
       "  </thead>\n",
       "  <tbody>\n",
       "    <tr>\n",
       "      <th>0</th>\n",
       "      <td>1</td>\n",
       "      <td>NaN</td>\n",
       "      <td>NaN</td>\n",
       "      <td>Our Deeds are the Reason of this #earthquake M...</td>\n",
       "      <td>1</td>\n",
       "    </tr>\n",
       "    <tr>\n",
       "      <th>4069</th>\n",
       "      <td>5783</td>\n",
       "      <td>forest%20fires</td>\n",
       "      <td>NaN</td>\n",
       "      <td>When ur friend and u are talking about forest ...</td>\n",
       "      <td>1</td>\n",
       "    </tr>\n",
       "    <tr>\n",
       "      <th>4067</th>\n",
       "      <td>5780</td>\n",
       "      <td>forest%20fires</td>\n",
       "      <td>Lansdale,Pennsylvania</td>\n",
       "      <td>U.S. Forest Service says spending more than ha...</td>\n",
       "      <td>1</td>\n",
       "    </tr>\n",
       "    <tr>\n",
       "      <th>4066</th>\n",
       "      <td>5778</td>\n",
       "      <td>forest%20fires</td>\n",
       "      <td>Vancouver, BC</td>\n",
       "      <td>Forest fires could delay @AbbyAirshow but offi...</td>\n",
       "      <td>1</td>\n",
       "    </tr>\n",
       "    <tr>\n",
       "      <th>4065</th>\n",
       "      <td>5777</td>\n",
       "      <td>forest%20fires</td>\n",
       "      <td>Portland, Oregon</td>\n",
       "      <td>Inciweb OR Update:  Rogue River-Siskiyou Natio...</td>\n",
       "      <td>1</td>\n",
       "    </tr>\n",
       "    <tr>\n",
       "      <th>4064</th>\n",
       "      <td>5776</td>\n",
       "      <td>forest%20fires</td>\n",
       "      <td>Based in CA - Serve Nationwide</td>\n",
       "      <td>Property losses from northern California wildf...</td>\n",
       "      <td>1</td>\n",
       "    </tr>\n",
       "    <tr>\n",
       "      <th>4063</th>\n",
       "      <td>5775</td>\n",
       "      <td>forest%20fires</td>\n",
       "      <td>NaN</td>\n",
       "      <td>U.S. Forest Service says spending more than ha...</td>\n",
       "      <td>1</td>\n",
       "    </tr>\n",
       "    <tr>\n",
       "      <th>4062</th>\n",
       "      <td>5772</td>\n",
       "      <td>forest%20fires</td>\n",
       "      <td>NaN</td>\n",
       "      <td>CLIMATE CONSEQUENCES: U.S. Forest Service Says...</td>\n",
       "      <td>1</td>\n",
       "    </tr>\n",
       "    <tr>\n",
       "      <th>4060</th>\n",
       "      <td>5769</td>\n",
       "      <td>forest%20fires</td>\n",
       "      <td>NaN</td>\n",
       "      <td>#HeartDisease U.S. Forest Service says spendin...</td>\n",
       "      <td>1</td>\n",
       "    </tr>\n",
       "    <tr>\n",
       "      <th>4059</th>\n",
       "      <td>5766</td>\n",
       "      <td>forest%20fires</td>\n",
       "      <td>Duncan</td>\n",
       "      <td>@BlueJays @Braves @Angels Instead of dumping w...</td>\n",
       "      <td>1</td>\n",
       "    </tr>\n",
       "  </tbody>\n",
       "</table>\n",
       "</div>"
      ],
      "text/plain": [
       "        id         keyword                        location  \\\n",
       "0        1             NaN                             NaN   \n",
       "4069  5783  forest%20fires                             NaN   \n",
       "4067  5780  forest%20fires           Lansdale,Pennsylvania   \n",
       "4066  5778  forest%20fires                   Vancouver, BC   \n",
       "4065  5777  forest%20fires                Portland, Oregon   \n",
       "4064  5776  forest%20fires  Based in CA - Serve Nationwide   \n",
       "4063  5775  forest%20fires                             NaN   \n",
       "4062  5772  forest%20fires                             NaN   \n",
       "4060  5769  forest%20fires                             NaN   \n",
       "4059  5766  forest%20fires                          Duncan   \n",
       "\n",
       "                                                   text  target  \n",
       "0     Our Deeds are the Reason of this #earthquake M...       1  \n",
       "4069  When ur friend and u are talking about forest ...       1  \n",
       "4067  U.S. Forest Service says spending more than ha...       1  \n",
       "4066  Forest fires could delay @AbbyAirshow but offi...       1  \n",
       "4065  Inciweb OR Update:  Rogue River-Siskiyou Natio...       1  \n",
       "4064  Property losses from northern California wildf...       1  \n",
       "4063  U.S. Forest Service says spending more than ha...       1  \n",
       "4062  CLIMATE CONSEQUENCES: U.S. Forest Service Says...       1  \n",
       "4060  #HeartDisease U.S. Forest Service says spendin...       1  \n",
       "4059  @BlueJays @Braves @Angels Instead of dumping w...       1  "
      ]
     },
     "execution_count": 10,
     "metadata": {},
     "output_type": "execute_result"
    }
   ],
   "source": [
    "df_train.head(10)"
   ]
  },
  {
   "cell_type": "raw",
   "id": "345c9f26",
   "metadata": {
    "papermill": {
     "duration": 0.005829,
     "end_time": "2022-11-23T16:14:50.140884",
     "exception": false,
     "start_time": "2022-11-23T16:14:50.135055",
     "status": "completed"
    },
    "tags": []
   },
   "source": []
  }
 ],
 "metadata": {
  "kernelspec": {
   "display_name": "Python 3",
   "language": "python",
   "name": "python3"
  },
  "language_info": {
   "codemirror_mode": {
    "name": "ipython",
    "version": 3
   },
   "file_extension": ".py",
   "mimetype": "text/x-python",
   "name": "python",
   "nbconvert_exporter": "python",
   "pygments_lexer": "ipython3",
   "version": "3.7.12"
  },
  "papermill": {
   "default_parameters": {},
   "duration": 14.074147,
   "end_time": "2022-11-23T16:14:50.870154",
   "environment_variables": {},
   "exception": null,
   "input_path": "__notebook__.ipynb",
   "output_path": "__notebook__.ipynb",
   "parameters": {},
   "start_time": "2022-11-23T16:14:36.796007",
   "version": "2.3.4"
  }
 },
 "nbformat": 4,
 "nbformat_minor": 5
}
